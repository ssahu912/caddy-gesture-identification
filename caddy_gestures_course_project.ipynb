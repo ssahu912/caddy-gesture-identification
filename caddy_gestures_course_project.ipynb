{
  "nbformat": 4,
  "nbformat_minor": 0,
  "metadata": {
    "kernelspec": {
      "display_name": "Python 3",
      "language": "python",
      "name": "python3"
    },
    "language_info": {
      "codemirror_mode": {
        "name": "ipython",
        "version": 3
      },
      "file_extension": ".py",
      "mimetype": "text/x-python",
      "name": "python",
      "nbconvert_exporter": "python",
      "pygments_lexer": "ipython3",
      "version": "3.7.6"
    },
    "colab": {
      "name": "caddy-gestures-course-project.ipynb",
      "provenance": [],
      "collapsed_sections": [],
      "include_colab_link": true
    },
    "accelerator": "GPU"
  },
  "cells": [
    {
      "cell_type": "markdown",
      "metadata": {
        "id": "view-in-github",
        "colab_type": "text"
      },
      "source": [
        "<a href=\"https://colab.research.google.com/github/ssahu912/caddy-gesture-identification/blob/main/caddy_gestures_course_project.ipynb\" target=\"_parent\"><img src=\"https://colab.research.google.com/assets/colab-badge.svg\" alt=\"Open In Colab\"/></a>"
      ]
    },
    {
      "cell_type": "code",
      "metadata": {
        "id": "yVDueJdOanqf"
      },
      "source": [
        "# Jovian Commit Essentials\n",
        "# Please retain and execute this cell without modifying the contents for `jovian.commit` to work\n",
        "!pip install jovian --upgrade -q\n",
        "import jovian\n",
        "jovian.utils.colab.set_colab_file_id('1FdIwG5tk-mNrei-SVpC6SEbi9VAhL-pY')"
      ],
      "execution_count": 1,
      "outputs": []
    },
    {
      "cell_type": "code",
      "metadata": {
        "id": "DVuq_uilanqm"
      },
      "source": [
        "!pip install jovian --upgrade --quiet"
      ],
      "execution_count": 2,
      "outputs": []
    },
    {
      "cell_type": "code",
      "metadata": {
        "id": "tfeRBYDSm_Y-"
      },
      "source": [
        "project_name='caddy-gestures-course-project'"
      ],
      "execution_count": 3,
      "outputs": []
    },
    {
      "cell_type": "markdown",
      "metadata": {
        "id": "sSex6sKaa9Op"
      },
      "source": [
        "# Exploring CADDY Underwater Gestures Dataset\r\n",
        "### Human-Robot Interaction (HRI) for Diver and AUVs activities\r\n",
        "This is an open access dataset distributed under the Creative Commons Attribution License which permits unrestricted use, distribution, and reproduction in any medium, provided the original work is properly cited (CC BY 4.0).\r\n",
        "<p>\r\n",
        "The dataset can be downloaded from the <a href=\"http://www.caddian.eu//assets/caddy-gestures-TMP/CADDY_gestures_complete_v2_release.zip\">link</a>.\r\n",
        "<p>\r\n",
        "Choosing this dataset of hand gestures used by divers underwater to provide instructtions in 8 different scenarios. The scenarios involved in this dataset are as follows: \r\n",
        "<table><tr>\r\n",
        "<td> <img src=\"http://www.caddian.eu//assets/caddy-gestures-TMP/biograd-A/true_positives/raw/biograd-A_00162_left.jpg\" alt=\"Drawing\" style=\"width: 250px;\"/> </td>\r\n",
        "<td> <img src=\"http://www.caddian.eu//assets/caddy-gestures-TMP/biograd-B/true_positives/raw/biograd-B_00032_right.jpg\" alt=\"Drawing\" style=\"width: 250px;\"/> </td>\r\n",
        "<td> <img src=\"http://www.caddian.eu//assets/caddy-gestures-TMP/biograd-C/true_positives/raw/biograd-C_00098_right.jpg\" alt=\"Drawing\" style=\"width: 250px;\"/> </td>\r\n",
        "<td> <img src=\"http://www.caddian.eu//assets/caddy-gestures-TMP/brodarski-A/true_positives/raw/brodarski-A_00018_right.jpg\" alt=\"Drawing\" style=\"width: 250px;\"/> </td>\r\n",
        "</tr>\r\n",
        "<td>BioGrad-A</td>\r\n",
        "<td>BioGrad-B</td>\r\n",
        "<td>BioGrad-C</td>\r\n",
        "<td>Brodarski-A</td>\r\n",
        "</tr>\r\n",
        "<tr>\r\n",
        "<td> <img src=\"http://www.caddian.eu//assets/caddy-gestures-TMP/brodarski-B/true_positives/raw/brodarski-B_00029_right.jpg\" alt=\"Drawing\" style=\"width: 250px;\"/> </td>\r\n",
        "<td> <img src=\"http://www.caddian.eu//assets/caddy-gestures-TMP/brodarski-C/true_positives/raw/brodarski-C_00006_left.jpg\" alt=\"Drawing\" style=\"width: 250px;\"/> </td>\r\n",
        "<td> <img src=\"http://www.caddian.eu//assets/caddy-gestures-TMP/brodarski-D/true_positives/raw/brodarski-D_00032_right.jpg\" alt=\"Drawing\" style=\"width: 250px;\"/> </td>\r\n",
        "<td> <img src=\"http://www.caddian.eu//assets/caddy-gestures-TMP/genova-A/true_positives/raw/genova-A_00032_right.jpg\" alt=\"Drawing\" style=\"width: 250px;\"/> </td>\r\n",
        "</tr>\r\n",
        "</tr>\r\n",
        "<td>Brodarski-B</td>\r\n",
        "<td>Brodarski-C</td>\r\n",
        "<td>Brodarski-D</td>\r\n",
        "<td>Genova-A</td>\r\n",
        "</tr>\r\n",
        "</table>\r\n",
        "It is a classification type problem where given an image of the person with the gesture the machine will identify the gesture meaning in multiple scenarios.\r\n"
      ]
    },
    {
      "cell_type": "markdown",
      "metadata": {
        "id": "4-Bp4SPthSKg"
      },
      "source": [
        "If you wish to upload the data on the drive then use this code to mount the drive so that it is available to use."
      ]
    },
    {
      "cell_type": "code",
      "metadata": {
        "colab": {
          "base_uri": "https://localhost:8080/"
        },
        "id": "vxjT2lhnjEFt",
        "outputId": "f6a5510e-244b-443d-ff91-bd5cd12c5fc8"
      },
      "source": [
        "from google.colab import drive\n",
        "drive.mount('/content/drive')"
      ],
      "execution_count": 4,
      "outputs": [
        {
          "output_type": "stream",
          "text": [
            "Drive already mounted at /content/drive; to attempt to forcibly remount, call drive.mount(\"/content/drive\", force_remount=True).\n"
          ],
          "name": "stdout"
        }
      ]
    },
    {
      "cell_type": "code",
      "metadata": {
        "id": "RXS_KpkMj93W"
      },
      "source": [
        "import os\r\n",
        "import torch\r\n",
        "import torchvision\r\n",
        "import zipfile\r\n",
        "from torchvision.datasets.utils import download_url\r\n",
        "from torch.utils.data import random_split"
      ],
      "execution_count": 5,
      "outputs": []
    },
    {
      "cell_type": "markdown",
      "metadata": {
        "id": "JOQAWTYuhCTa"
      },
      "source": [
        "If you wish to download the data set and load it while running the notebook and do not want ot upload it to your drive please uncomment the below cell and execute. "
      ]
    },
    {
      "cell_type": "code",
      "metadata": {
        "id": "HzEevkfCanqm"
      },
      "source": [
        "# # Dowload the dataset\r\n",
        "dataset_url = \"http://www.caddian.eu//assets/caddy-gestures-TMP/CADDY_gestures_complete_v2_release.zip\"\r\n",
        "# download_url(dataset_url, '.')\r\n",
        "# # Extract from downloaded archive\r\n",
        "# with zipfile.ZipFile('./CADDY_gestures_complete_v2_release.zip', 'r') as zip_ref:\r\n",
        "#     zip_ref.extractall('./data')"
      ],
      "execution_count": 6,
      "outputs": []
    },
    {
      "cell_type": "code",
      "metadata": {
        "id": "qfq_coKyj3rd"
      },
      "source": [
        "# Extract from drive archive\r\n",
        "with zipfile.ZipFile('./drive/MyDrive/CADDY_gestures_complete_v2_release.zip', 'r') as zip_ref:\r\n",
        "    zip_ref.extractall('./data')"
      ],
      "execution_count": null,
      "outputs": []
    },
    {
      "cell_type": "markdown",
      "metadata": {
        "id": "BWVb2HbwjTJZ"
      },
      "source": [
        "## Data Analysis\r\n",
        "\r\n",
        "Let's explore the data!\r\n",
        "\r\n",
        "Looking at the folder structure we see that we have 8 folders for 8 scenarios which contain raw images of multiple gestures captured by the left and right stereo.\r\n",
        "<p>\r\n",
        "The folder structure of the data is something like this:\r\n",
        "<p>\r\n",
        "data => biograd-A => true_positives => raw => image1, image2 ... imageN\r\n",
        "\r\n",
        "Let's take a look what's inside the the csv files and how are they structured!!\r\n",
        "(We'll be looking at the true positives only for the scope of the project.)"
      ]
    },
    {
      "cell_type": "code",
      "metadata": {
        "id": "tVsoEsOFg0Bh"
      },
      "source": [
        "# Importing required EDA tools\r\n",
        "import pandas as pd\r\n",
        "import numpy as np\r\n",
        "import matplotlib.pyplot as plt\r\n",
        "import seaborn as sns\r\n"
      ],
      "execution_count": 7,
      "outputs": []
    },
    {
      "cell_type": "code",
      "metadata": {
        "colab": {
          "base_uri": "https://localhost:8080/",
          "height": 578
        },
        "id": "BXE3rwgekdqb",
        "outputId": "5ba1c074-2df2-4b3d-9c31-942acf073e17"
      },
      "source": [
        "dataFromCSV = pd.read_csv('./data/CADDY_gestures_complete_v2_release/CADDY_gestures_all_true_positives_release_v2.csv', index_col='index')\r\n",
        "dataFromCSV.head(10)"
      ],
      "execution_count": 8,
      "outputs": [
        {
          "output_type": "execute_result",
          "data": {
            "text/html": [
              "<div>\n",
              "<style scoped>\n",
              "    .dataframe tbody tr th:only-of-type {\n",
              "        vertical-align: middle;\n",
              "    }\n",
              "\n",
              "    .dataframe tbody tr th {\n",
              "        vertical-align: top;\n",
              "    }\n",
              "\n",
              "    .dataframe thead th {\n",
              "        text-align: right;\n",
              "    }\n",
              "</style>\n",
              "<table border=\"1\" class=\"dataframe\">\n",
              "  <thead>\n",
              "    <tr style=\"text-align: right;\">\n",
              "      <th></th>\n",
              "      <th>scenario</th>\n",
              "      <th>stereo left</th>\n",
              "      <th>stereo right</th>\n",
              "      <th>label name</th>\n",
              "      <th>label id</th>\n",
              "      <th>roi left</th>\n",
              "      <th>roi right</th>\n",
              "      <th>synthetic</th>\n",
              "      <th>iqa_mdm_entropy</th>\n",
              "      <th>iqa_mdm_d</th>\n",
              "      <th>iqa_mdm_dcomp</th>\n",
              "      <th>distortion</th>\n",
              "      <th>param 1</th>\n",
              "      <th>param 2</th>\n",
              "    </tr>\n",
              "    <tr>\n",
              "      <th>index</th>\n",
              "      <th></th>\n",
              "      <th></th>\n",
              "      <th></th>\n",
              "      <th></th>\n",
              "      <th></th>\n",
              "      <th></th>\n",
              "      <th></th>\n",
              "      <th></th>\n",
              "      <th></th>\n",
              "      <th></th>\n",
              "      <th></th>\n",
              "      <th></th>\n",
              "      <th></th>\n",
              "      <th></th>\n",
              "    </tr>\n",
              "  </thead>\n",
              "  <tbody>\n",
              "    <tr>\n",
              "      <th>0</th>\n",
              "      <td>biograd-A</td>\n",
              "      <td>/biograd-A/true_positives/raw/biograd-A_00000_...</td>\n",
              "      <td>/biograd-A/true_positives/raw/biograd-A_00000_...</td>\n",
              "      <td>num_delimiter</td>\n",
              "      <td>10</td>\n",
              "      <td>[237,236,54,65]</td>\n",
              "      <td>[155,236,54,65]</td>\n",
              "      <td>0</td>\n",
              "      <td>6.971026</td>\n",
              "      <td>0.957653</td>\n",
              "      <td>0.902</td>\n",
              "      <td>NaN</td>\n",
              "      <td>NaN</td>\n",
              "      <td>NaN</td>\n",
              "    </tr>\n",
              "    <tr>\n",
              "      <th>1</th>\n",
              "      <td>biograd-A</td>\n",
              "      <td>/biograd-A/true_positives/blurred/dir_00/biogr...</td>\n",
              "      <td>/biograd-A/true_positives/blurred/dir_00/biogr...</td>\n",
              "      <td>num_delimiter</td>\n",
              "      <td>10</td>\n",
              "      <td>[237,236,54,65]</td>\n",
              "      <td>[155,236,54,65]</td>\n",
              "      <td>1</td>\n",
              "      <td>NaN</td>\n",
              "      <td>NaN</td>\n",
              "      <td>NaN</td>\n",
              "      <td>blur</td>\n",
              "      <td>7</td>\n",
              "      <td>NaN</td>\n",
              "    </tr>\n",
              "    <tr>\n",
              "      <th>2</th>\n",
              "      <td>biograd-A</td>\n",
              "      <td>/biograd-A/true_positives/blurred/dir_01/biogr...</td>\n",
              "      <td>/biograd-A/true_positives/blurred/dir_01/biogr...</td>\n",
              "      <td>num_delimiter</td>\n",
              "      <td>10</td>\n",
              "      <td>[237,236,54,65]</td>\n",
              "      <td>[155,236,54,65]</td>\n",
              "      <td>1</td>\n",
              "      <td>NaN</td>\n",
              "      <td>NaN</td>\n",
              "      <td>NaN</td>\n",
              "      <td>blur</td>\n",
              "      <td>11</td>\n",
              "      <td>NaN</td>\n",
              "    </tr>\n",
              "    <tr>\n",
              "      <th>3</th>\n",
              "      <td>biograd-A</td>\n",
              "      <td>/biograd-A/true_positives/blurred/dir_02/biogr...</td>\n",
              "      <td>/biograd-A/true_positives/blurred/dir_02/biogr...</td>\n",
              "      <td>num_delimiter</td>\n",
              "      <td>10</td>\n",
              "      <td>[237,236,54,65]</td>\n",
              "      <td>[155,236,54,65]</td>\n",
              "      <td>1</td>\n",
              "      <td>NaN</td>\n",
              "      <td>NaN</td>\n",
              "      <td>NaN</td>\n",
              "      <td>blur</td>\n",
              "      <td>15</td>\n",
              "      <td>NaN</td>\n",
              "    </tr>\n",
              "    <tr>\n",
              "      <th>4</th>\n",
              "      <td>biograd-A</td>\n",
              "      <td>/biograd-A/true_positives/noisy/dir_00/biograd...</td>\n",
              "      <td>/biograd-A/true_positives/noisy/dir_00/biograd...</td>\n",
              "      <td>num_delimiter</td>\n",
              "      <td>10</td>\n",
              "      <td>[237,236,54,65]</td>\n",
              "      <td>[155,236,54,65]</td>\n",
              "      <td>1</td>\n",
              "      <td>NaN</td>\n",
              "      <td>NaN</td>\n",
              "      <td>NaN</td>\n",
              "      <td>channel noise</td>\n",
              "      <td>5</td>\n",
              "      <td>NaN</td>\n",
              "    </tr>\n",
              "    <tr>\n",
              "      <th>5</th>\n",
              "      <td>biograd-A</td>\n",
              "      <td>/biograd-A/true_positives/noisy/dir_01/biograd...</td>\n",
              "      <td>/biograd-A/true_positives/noisy/dir_01/biograd...</td>\n",
              "      <td>num_delimiter</td>\n",
              "      <td>10</td>\n",
              "      <td>[237,236,54,65]</td>\n",
              "      <td>[155,236,54,65]</td>\n",
              "      <td>1</td>\n",
              "      <td>NaN</td>\n",
              "      <td>NaN</td>\n",
              "      <td>NaN</td>\n",
              "      <td>channel noise</td>\n",
              "      <td>10</td>\n",
              "      <td>NaN</td>\n",
              "    </tr>\n",
              "    <tr>\n",
              "      <th>6</th>\n",
              "      <td>biograd-A</td>\n",
              "      <td>/biograd-A/true_positives/low_contrast/dir_00/...</td>\n",
              "      <td>/biograd-A/true_positives/low_contrast/dir_00/...</td>\n",
              "      <td>num_delimiter</td>\n",
              "      <td>10</td>\n",
              "      <td>[237,236,54,65]</td>\n",
              "      <td>[155,236,54,65]</td>\n",
              "      <td>1</td>\n",
              "      <td>NaN</td>\n",
              "      <td>NaN</td>\n",
              "      <td>NaN</td>\n",
              "      <td>low contrast</td>\n",
              "      <td>0.8</td>\n",
              "      <td>NaN</td>\n",
              "    </tr>\n",
              "    <tr>\n",
              "      <th>7</th>\n",
              "      <td>biograd-A</td>\n",
              "      <td>/biograd-A/true_positives/low_contrast/dir_01/...</td>\n",
              "      <td>/biograd-A/true_positives/low_contrast/dir_01/...</td>\n",
              "      <td>num_delimiter</td>\n",
              "      <td>10</td>\n",
              "      <td>[237,236,54,65]</td>\n",
              "      <td>[155,236,54,65]</td>\n",
              "      <td>1</td>\n",
              "      <td>NaN</td>\n",
              "      <td>NaN</td>\n",
              "      <td>NaN</td>\n",
              "      <td>low contrast</td>\n",
              "      <td>0.6</td>\n",
              "      <td>NaN</td>\n",
              "    </tr>\n",
              "    <tr>\n",
              "      <th>8</th>\n",
              "      <td>biograd-A</td>\n",
              "      <td>/biograd-A/true_positives/compressed/dir_00/bi...</td>\n",
              "      <td>/biograd-A/true_positives/compressed/dir_00/bi...</td>\n",
              "      <td>num_delimiter</td>\n",
              "      <td>10</td>\n",
              "      <td>[237,236,54,65]</td>\n",
              "      <td>[155,236,54,65]</td>\n",
              "      <td>1</td>\n",
              "      <td>NaN</td>\n",
              "      <td>NaN</td>\n",
              "      <td>NaN</td>\n",
              "      <td>compression</td>\n",
              "      <td>jpeg</td>\n",
              "      <td>80.0</td>\n",
              "    </tr>\n",
              "    <tr>\n",
              "      <th>9</th>\n",
              "      <td>biograd-A</td>\n",
              "      <td>/biograd-A/true_positives/compressed/dir_01/bi...</td>\n",
              "      <td>/biograd-A/true_positives/compressed/dir_01/bi...</td>\n",
              "      <td>num_delimiter</td>\n",
              "      <td>10</td>\n",
              "      <td>[237,236,54,65]</td>\n",
              "      <td>[155,236,54,65]</td>\n",
              "      <td>1</td>\n",
              "      <td>NaN</td>\n",
              "      <td>NaN</td>\n",
              "      <td>NaN</td>\n",
              "      <td>compression</td>\n",
              "      <td>jpeg</td>\n",
              "      <td>50.0</td>\n",
              "    </tr>\n",
              "  </tbody>\n",
              "</table>\n",
              "</div>"
            ],
            "text/plain": [
              "        scenario  ... param 2\n",
              "index             ...        \n",
              "0      biograd-A  ...     NaN\n",
              "1      biograd-A  ...     NaN\n",
              "2      biograd-A  ...     NaN\n",
              "3      biograd-A  ...     NaN\n",
              "4      biograd-A  ...     NaN\n",
              "5      biograd-A  ...     NaN\n",
              "6      biograd-A  ...     NaN\n",
              "7      biograd-A  ...     NaN\n",
              "8      biograd-A  ...    80.0\n",
              "9      biograd-A  ...    50.0\n",
              "\n",
              "[10 rows x 14 columns]"
            ]
          },
          "metadata": {
            "tags": []
          },
          "execution_count": 8
        }
      ]
    },
    {
      "cell_type": "code",
      "metadata": {
        "colab": {
          "base_uri": "https://localhost:8080/"
        },
        "id": "mwVHdZgVkebr",
        "outputId": "6433c8df-c8d6-4f08-9bd6-333efca0229e"
      },
      "source": [
        "dataFromCSV.info()"
      ],
      "execution_count": 9,
      "outputs": [
        {
          "output_type": "stream",
          "text": [
            "<class 'pandas.core.frame.DataFrame'>\n",
            "Int64Index: 92390 entries, 0 to 92389\n",
            "Data columns (total 14 columns):\n",
            " #   Column           Non-Null Count  Dtype  \n",
            "---  ------           --------------  -----  \n",
            " 0   scenario         92390 non-null  object \n",
            " 1   stereo left      92390 non-null  object \n",
            " 2   stereo right     92390 non-null  object \n",
            " 3   label name       92390 non-null  object \n",
            " 4   label id         92390 non-null  int64  \n",
            " 5   roi left         91790 non-null  object \n",
            " 6   roi right        91440 non-null  object \n",
            " 7   synthetic        92390 non-null  int64  \n",
            " 8   iqa_mdm_entropy  9239 non-null   float64\n",
            " 9   iqa_mdm_d        9239 non-null   float64\n",
            " 10  iqa_mdm_dcomp    9239 non-null   float64\n",
            " 11  distortion       83151 non-null  object \n",
            " 12  param 1          83151 non-null  object \n",
            " 13  param 2          18478 non-null  float64\n",
            "dtypes: float64(4), int64(2), object(8)\n",
            "memory usage: 10.6+ MB\n"
          ],
          "name": "stdout"
        }
      ]
    },
    {
      "cell_type": "code",
      "metadata": {
        "colab": {
          "base_uri": "https://localhost:8080/"
        },
        "id": "MyCdqww_zFt-",
        "outputId": "4ca2272d-c963-4f71-ed47-a36bfe402809"
      },
      "source": [
        "dataFromCSV.columns"
      ],
      "execution_count": 10,
      "outputs": [
        {
          "output_type": "execute_result",
          "data": {
            "text/plain": [
              "Index(['scenario', 'stereo left', 'stereo right', 'label name', 'label id',\n",
              "       'roi left', 'roi right', 'synthetic', 'iqa_mdm_entropy', 'iqa_mdm_d',\n",
              "       'iqa_mdm_dcomp', 'distortion', 'param 1', 'param 2'],\n",
              "      dtype='object')"
            ]
          },
          "metadata": {
            "tags": []
          },
          "execution_count": 10
        }
      ]
    },
    {
      "cell_type": "markdown",
      "metadata": {
        "id": "5c9lGiiFli0P"
      },
      "source": [
        "For the scope of the project where we are classifying the gestures we would only need the label name of the the image from the CSV.\r\n",
        "<p>\r\n",
        "Also a point worth noting is not all the images are present in the data set as mentioned in CSV. If we look closely inside each and every scenario there are 2 folders \"true_positives\" and \"true_neagtives\", and inside each of them there's only one folder called \"raw\". This means that only raw images are present and not the distorted ones.\r\n",
        "<p>\r\n",
        "Hence we'll be working on the raw set of images which are around 18,400 which is a pretty decent data size."
      ]
    },
    {
      "cell_type": "markdown",
      "metadata": {
        "id": "ErHrXCW6pXkF"
      },
      "source": [
        "Let's idenetify how many different gestures are available in the dataset."
      ]
    },
    {
      "cell_type": "code",
      "metadata": {
        "colab": {
          "base_uri": "https://localhost:8080/"
        },
        "id": "KHkMgAMakeWi",
        "outputId": "27b12ab9-2147-4100-a12e-702263e4dcda"
      },
      "source": [
        "classes = dataFromCSV[\"label name\"].unique()\r\n",
        "classes"
      ],
      "execution_count": 11,
      "outputs": [
        {
          "output_type": "execute_result",
          "data": {
            "text/plain": [
              "array(['num_delimiter', 'five', 'end_comm', 'start_comm', 'one', 'two',\n",
              "       'three', 'four', 'up', 'down', 'backwards', 'mosaic', 'boat',\n",
              "       'carry', 'here', 'photo'], dtype=object)"
            ]
          },
          "metadata": {
            "tags": []
          },
          "execution_count": 11
        }
      ]
    },
    {
      "cell_type": "code",
      "metadata": {
        "colab": {
          "base_uri": "https://localhost:8080/"
        },
        "id": "dxltmpbxkeOx",
        "outputId": "b32375c4-bb2a-4db7-b69e-f25d6eee628d"
      },
      "source": [
        "len(classes)"
      ],
      "execution_count": 12,
      "outputs": [
        {
          "output_type": "execute_result",
          "data": {
            "text/plain": [
              "16"
            ]
          },
          "metadata": {
            "tags": []
          },
          "execution_count": 12
        }
      ]
    },
    {
      "cell_type": "markdown",
      "metadata": {
        "id": "LylATjTVpllb"
      },
      "source": [
        "We see that we have 16 unique classes hence we have to categorize the images into 16 classes.(output)"
      ]
    },
    {
      "cell_type": "markdown",
      "metadata": {
        "id": "C9kFIGU4p3sz"
      },
      "source": [
        "### Data Cleaning \r\n",
        "\r\n",
        "As we saw earlier we have a lot of missing and junk data which we need to filter out, or we can say we need to extract the useful data from the CSV and map them with the images.\r\n",
        "<p>\r\n",
        "So let's create another CSV which can help map the raw data image paths with their labels.\r\n"
      ]
    },
    {
      "cell_type": "code",
      "metadata": {
        "colab": {
          "base_uri": "https://localhost:8080/",
          "height": 430
        },
        "id": "g3UX9Y_h61gK",
        "outputId": "cdfdc027-6b8b-4546-d3a3-0644662e299b"
      },
      "source": [
        "# removing distorted image data from csv\r\n",
        "dataset = dataFromCSV.loc[dataFromCSV.distortion.isnull()]\r\n",
        "dataset.head()"
      ],
      "execution_count": 13,
      "outputs": [
        {
          "output_type": "execute_result",
          "data": {
            "text/html": [
              "<div>\n",
              "<style scoped>\n",
              "    .dataframe tbody tr th:only-of-type {\n",
              "        vertical-align: middle;\n",
              "    }\n",
              "\n",
              "    .dataframe tbody tr th {\n",
              "        vertical-align: top;\n",
              "    }\n",
              "\n",
              "    .dataframe thead th {\n",
              "        text-align: right;\n",
              "    }\n",
              "</style>\n",
              "<table border=\"1\" class=\"dataframe\">\n",
              "  <thead>\n",
              "    <tr style=\"text-align: right;\">\n",
              "      <th></th>\n",
              "      <th>scenario</th>\n",
              "      <th>stereo left</th>\n",
              "      <th>stereo right</th>\n",
              "      <th>label name</th>\n",
              "      <th>label id</th>\n",
              "      <th>roi left</th>\n",
              "      <th>roi right</th>\n",
              "      <th>synthetic</th>\n",
              "      <th>iqa_mdm_entropy</th>\n",
              "      <th>iqa_mdm_d</th>\n",
              "      <th>iqa_mdm_dcomp</th>\n",
              "      <th>distortion</th>\n",
              "      <th>param 1</th>\n",
              "      <th>param 2</th>\n",
              "    </tr>\n",
              "    <tr>\n",
              "      <th>index</th>\n",
              "      <th></th>\n",
              "      <th></th>\n",
              "      <th></th>\n",
              "      <th></th>\n",
              "      <th></th>\n",
              "      <th></th>\n",
              "      <th></th>\n",
              "      <th></th>\n",
              "      <th></th>\n",
              "      <th></th>\n",
              "      <th></th>\n",
              "      <th></th>\n",
              "      <th></th>\n",
              "      <th></th>\n",
              "    </tr>\n",
              "  </thead>\n",
              "  <tbody>\n",
              "    <tr>\n",
              "      <th>0</th>\n",
              "      <td>biograd-A</td>\n",
              "      <td>/biograd-A/true_positives/raw/biograd-A_00000_...</td>\n",
              "      <td>/biograd-A/true_positives/raw/biograd-A_00000_...</td>\n",
              "      <td>num_delimiter</td>\n",
              "      <td>10</td>\n",
              "      <td>[237,236,54,65]</td>\n",
              "      <td>[155,236,54,65]</td>\n",
              "      <td>0</td>\n",
              "      <td>6.971026</td>\n",
              "      <td>0.957653</td>\n",
              "      <td>0.902000</td>\n",
              "      <td>NaN</td>\n",
              "      <td>NaN</td>\n",
              "      <td>NaN</td>\n",
              "    </tr>\n",
              "    <tr>\n",
              "      <th>10</th>\n",
              "      <td>biograd-A</td>\n",
              "      <td>/biograd-A/true_positives/raw/biograd-A_00001_...</td>\n",
              "      <td>/biograd-A/true_positives/raw/biograd-A_00001_...</td>\n",
              "      <td>num_delimiter</td>\n",
              "      <td>10</td>\n",
              "      <td>[230,230,61,79]</td>\n",
              "      <td>[147,230,61,79]</td>\n",
              "      <td>0</td>\n",
              "      <td>6.977803</td>\n",
              "      <td>0.958442</td>\n",
              "      <td>0.885512</td>\n",
              "      <td>NaN</td>\n",
              "      <td>NaN</td>\n",
              "      <td>NaN</td>\n",
              "    </tr>\n",
              "    <tr>\n",
              "      <th>20</th>\n",
              "      <td>biograd-A</td>\n",
              "      <td>/biograd-A/true_positives/raw/biograd-A_00002_...</td>\n",
              "      <td>/biograd-A/true_positives/raw/biograd-A_00002_...</td>\n",
              "      <td>num_delimiter</td>\n",
              "      <td>10</td>\n",
              "      <td>[222,230,72,75]</td>\n",
              "      <td>[139,230,72,75]</td>\n",
              "      <td>0</td>\n",
              "      <td>6.930135</td>\n",
              "      <td>0.958565</td>\n",
              "      <td>0.885733</td>\n",
              "      <td>NaN</td>\n",
              "      <td>NaN</td>\n",
              "      <td>NaN</td>\n",
              "    </tr>\n",
              "    <tr>\n",
              "      <th>30</th>\n",
              "      <td>biograd-A</td>\n",
              "      <td>/biograd-A/true_positives/raw/biograd-A_00003_...</td>\n",
              "      <td>/biograd-A/true_positives/raw/biograd-A_00003_...</td>\n",
              "      <td>num_delimiter</td>\n",
              "      <td>10</td>\n",
              "      <td>[231,231,62,83]</td>\n",
              "      <td>[148,231,62,83]</td>\n",
              "      <td>0</td>\n",
              "      <td>6.948746</td>\n",
              "      <td>0.958243</td>\n",
              "      <td>0.885593</td>\n",
              "      <td>NaN</td>\n",
              "      <td>NaN</td>\n",
              "      <td>NaN</td>\n",
              "    </tr>\n",
              "    <tr>\n",
              "      <th>40</th>\n",
              "      <td>biograd-A</td>\n",
              "      <td>/biograd-A/true_positives/raw/biograd-A_00004_...</td>\n",
              "      <td>/biograd-A/true_positives/raw/biograd-A_00004_...</td>\n",
              "      <td>num_delimiter</td>\n",
              "      <td>10</td>\n",
              "      <td>[222,219,70,76]</td>\n",
              "      <td>[138,219,70,76]</td>\n",
              "      <td>0</td>\n",
              "      <td>7.175039</td>\n",
              "      <td>0.955913</td>\n",
              "      <td>0.875217</td>\n",
              "      <td>NaN</td>\n",
              "      <td>NaN</td>\n",
              "      <td>NaN</td>\n",
              "    </tr>\n",
              "  </tbody>\n",
              "</table>\n",
              "</div>"
            ],
            "text/plain": [
              "        scenario  ... param 2\n",
              "index             ...        \n",
              "0      biograd-A  ...     NaN\n",
              "10     biograd-A  ...     NaN\n",
              "20     biograd-A  ...     NaN\n",
              "30     biograd-A  ...     NaN\n",
              "40     biograd-A  ...     NaN\n",
              "\n",
              "[5 rows x 14 columns]"
            ]
          },
          "metadata": {
            "tags": []
          },
          "execution_count": 13
        }
      ]
    },
    {
      "cell_type": "code",
      "metadata": {
        "id": "-6XzTX2ApxML",
        "colab": {
          "base_uri": "https://localhost:8080/",
          "height": 410
        },
        "outputId": "bb3a8e46-6ae2-4167-d825-c637e323715c"
      },
      "source": [
        "# removing irrelevant columns from the data\r\n",
        "dataset = dataset.drop(labels=['roi left', 'roi right', 'synthetic', 'iqa_mdm_entropy', 'iqa_mdm_d',\r\n",
        "                                   'iqa_mdm_dcomp', 'distortion', 'param 1', 'param 2'], axis=1)\r\n",
        "dataset.head()"
      ],
      "execution_count": 14,
      "outputs": [
        {
          "output_type": "execute_result",
          "data": {
            "text/html": [
              "<div>\n",
              "<style scoped>\n",
              "    .dataframe tbody tr th:only-of-type {\n",
              "        vertical-align: middle;\n",
              "    }\n",
              "\n",
              "    .dataframe tbody tr th {\n",
              "        vertical-align: top;\n",
              "    }\n",
              "\n",
              "    .dataframe thead th {\n",
              "        text-align: right;\n",
              "    }\n",
              "</style>\n",
              "<table border=\"1\" class=\"dataframe\">\n",
              "  <thead>\n",
              "    <tr style=\"text-align: right;\">\n",
              "      <th></th>\n",
              "      <th>scenario</th>\n",
              "      <th>stereo left</th>\n",
              "      <th>stereo right</th>\n",
              "      <th>label name</th>\n",
              "      <th>label id</th>\n",
              "    </tr>\n",
              "    <tr>\n",
              "      <th>index</th>\n",
              "      <th></th>\n",
              "      <th></th>\n",
              "      <th></th>\n",
              "      <th></th>\n",
              "      <th></th>\n",
              "    </tr>\n",
              "  </thead>\n",
              "  <tbody>\n",
              "    <tr>\n",
              "      <th>0</th>\n",
              "      <td>biograd-A</td>\n",
              "      <td>/biograd-A/true_positives/raw/biograd-A_00000_...</td>\n",
              "      <td>/biograd-A/true_positives/raw/biograd-A_00000_...</td>\n",
              "      <td>num_delimiter</td>\n",
              "      <td>10</td>\n",
              "    </tr>\n",
              "    <tr>\n",
              "      <th>10</th>\n",
              "      <td>biograd-A</td>\n",
              "      <td>/biograd-A/true_positives/raw/biograd-A_00001_...</td>\n",
              "      <td>/biograd-A/true_positives/raw/biograd-A_00001_...</td>\n",
              "      <td>num_delimiter</td>\n",
              "      <td>10</td>\n",
              "    </tr>\n",
              "    <tr>\n",
              "      <th>20</th>\n",
              "      <td>biograd-A</td>\n",
              "      <td>/biograd-A/true_positives/raw/biograd-A_00002_...</td>\n",
              "      <td>/biograd-A/true_positives/raw/biograd-A_00002_...</td>\n",
              "      <td>num_delimiter</td>\n",
              "      <td>10</td>\n",
              "    </tr>\n",
              "    <tr>\n",
              "      <th>30</th>\n",
              "      <td>biograd-A</td>\n",
              "      <td>/biograd-A/true_positives/raw/biograd-A_00003_...</td>\n",
              "      <td>/biograd-A/true_positives/raw/biograd-A_00003_...</td>\n",
              "      <td>num_delimiter</td>\n",
              "      <td>10</td>\n",
              "    </tr>\n",
              "    <tr>\n",
              "      <th>40</th>\n",
              "      <td>biograd-A</td>\n",
              "      <td>/biograd-A/true_positives/raw/biograd-A_00004_...</td>\n",
              "      <td>/biograd-A/true_positives/raw/biograd-A_00004_...</td>\n",
              "      <td>num_delimiter</td>\n",
              "      <td>10</td>\n",
              "    </tr>\n",
              "  </tbody>\n",
              "</table>\n",
              "</div>"
            ],
            "text/plain": [
              "        scenario  ... label id\n",
              "index             ...         \n",
              "0      biograd-A  ...       10\n",
              "10     biograd-A  ...       10\n",
              "20     biograd-A  ...       10\n",
              "30     biograd-A  ...       10\n",
              "40     biograd-A  ...       10\n",
              "\n",
              "[5 rows x 5 columns]"
            ]
          },
          "metadata": {
            "tags": []
          },
          "execution_count": 14
        }
      ]
    },
    {
      "cell_type": "markdown",
      "metadata": {
        "id": "Q6kgdErtnCWo"
      },
      "source": [
        "Since we have images from 2 stereos left and right which have almost similar image we would like to negate the difference between the left and right stereo. Hence altering the CSV to increase the size of Dataset."
      ]
    },
    {
      "cell_type": "code",
      "metadata": {
        "colab": {
          "base_uri": "https://localhost:8080/",
          "height": 431
        },
        "id": "CyvagHR4j03H",
        "outputId": "d16c3075-6162-4d5f-d2fb-58008c11c2f5"
      },
      "source": [
        "dataset_right_stereo = dataset.drop(labels = [\"stereo left\"],axis=1)\r\n",
        "dataset_right_stereo.rename(columns = {\"stereo right\": 'stereo'}, inplace = True)\r\n",
        "dataset_right_stereo"
      ],
      "execution_count": 15,
      "outputs": [
        {
          "output_type": "execute_result",
          "data": {
            "text/html": [
              "<div>\n",
              "<style scoped>\n",
              "    .dataframe tbody tr th:only-of-type {\n",
              "        vertical-align: middle;\n",
              "    }\n",
              "\n",
              "    .dataframe tbody tr th {\n",
              "        vertical-align: top;\n",
              "    }\n",
              "\n",
              "    .dataframe thead th {\n",
              "        text-align: right;\n",
              "    }\n",
              "</style>\n",
              "<table border=\"1\" class=\"dataframe\">\n",
              "  <thead>\n",
              "    <tr style=\"text-align: right;\">\n",
              "      <th></th>\n",
              "      <th>scenario</th>\n",
              "      <th>stereo</th>\n",
              "      <th>label name</th>\n",
              "      <th>label id</th>\n",
              "    </tr>\n",
              "    <tr>\n",
              "      <th>index</th>\n",
              "      <th></th>\n",
              "      <th></th>\n",
              "      <th></th>\n",
              "      <th></th>\n",
              "    </tr>\n",
              "  </thead>\n",
              "  <tbody>\n",
              "    <tr>\n",
              "      <th>0</th>\n",
              "      <td>biograd-A</td>\n",
              "      <td>/biograd-A/true_positives/raw/biograd-A_00000_...</td>\n",
              "      <td>num_delimiter</td>\n",
              "      <td>10</td>\n",
              "    </tr>\n",
              "    <tr>\n",
              "      <th>10</th>\n",
              "      <td>biograd-A</td>\n",
              "      <td>/biograd-A/true_positives/raw/biograd-A_00001_...</td>\n",
              "      <td>num_delimiter</td>\n",
              "      <td>10</td>\n",
              "    </tr>\n",
              "    <tr>\n",
              "      <th>20</th>\n",
              "      <td>biograd-A</td>\n",
              "      <td>/biograd-A/true_positives/raw/biograd-A_00002_...</td>\n",
              "      <td>num_delimiter</td>\n",
              "      <td>10</td>\n",
              "    </tr>\n",
              "    <tr>\n",
              "      <th>30</th>\n",
              "      <td>biograd-A</td>\n",
              "      <td>/biograd-A/true_positives/raw/biograd-A_00003_...</td>\n",
              "      <td>num_delimiter</td>\n",
              "      <td>10</td>\n",
              "    </tr>\n",
              "    <tr>\n",
              "      <th>40</th>\n",
              "      <td>biograd-A</td>\n",
              "      <td>/biograd-A/true_positives/raw/biograd-A_00004_...</td>\n",
              "      <td>num_delimiter</td>\n",
              "      <td>10</td>\n",
              "    </tr>\n",
              "    <tr>\n",
              "      <th>...</th>\n",
              "      <td>...</td>\n",
              "      <td>...</td>\n",
              "      <td>...</td>\n",
              "      <td>...</td>\n",
              "    </tr>\n",
              "    <tr>\n",
              "      <th>92340</th>\n",
              "      <td>genova-A</td>\n",
              "      <td>/genova-A/true_positives/raw/genova-A_03315_ri...</td>\n",
              "      <td>end_comm</td>\n",
              "      <td>1</td>\n",
              "    </tr>\n",
              "    <tr>\n",
              "      <th>92350</th>\n",
              "      <td>genova-A</td>\n",
              "      <td>/genova-A/true_positives/raw/genova-A_03316_ri...</td>\n",
              "      <td>end_comm</td>\n",
              "      <td>1</td>\n",
              "    </tr>\n",
              "    <tr>\n",
              "      <th>92360</th>\n",
              "      <td>genova-A</td>\n",
              "      <td>/genova-A/true_positives/raw/genova-A_03317_ri...</td>\n",
              "      <td>end_comm</td>\n",
              "      <td>1</td>\n",
              "    </tr>\n",
              "    <tr>\n",
              "      <th>92370</th>\n",
              "      <td>genova-A</td>\n",
              "      <td>/genova-A/true_positives/raw/genova-A_03318_ri...</td>\n",
              "      <td>end_comm</td>\n",
              "      <td>1</td>\n",
              "    </tr>\n",
              "    <tr>\n",
              "      <th>92380</th>\n",
              "      <td>genova-A</td>\n",
              "      <td>/genova-A/true_positives/raw/genova-A_03319_ri...</td>\n",
              "      <td>end_comm</td>\n",
              "      <td>1</td>\n",
              "    </tr>\n",
              "  </tbody>\n",
              "</table>\n",
              "<p>9239 rows × 4 columns</p>\n",
              "</div>"
            ],
            "text/plain": [
              "        scenario  ... label id\n",
              "index             ...         \n",
              "0      biograd-A  ...       10\n",
              "10     biograd-A  ...       10\n",
              "20     biograd-A  ...       10\n",
              "30     biograd-A  ...       10\n",
              "40     biograd-A  ...       10\n",
              "...          ...  ...      ...\n",
              "92340   genova-A  ...        1\n",
              "92350   genova-A  ...        1\n",
              "92360   genova-A  ...        1\n",
              "92370   genova-A  ...        1\n",
              "92380   genova-A  ...        1\n",
              "\n",
              "[9239 rows x 4 columns]"
            ]
          },
          "metadata": {
            "tags": []
          },
          "execution_count": 15
        }
      ]
    },
    {
      "cell_type": "code",
      "metadata": {
        "colab": {
          "base_uri": "https://localhost:8080/",
          "height": 431
        },
        "id": "mfRpU0e9mNYa",
        "outputId": "3028ba96-9c3c-449f-a8fc-7e98a6244f04"
      },
      "source": [
        "dataset_left_stereo = dataset.drop(labels = [\"stereo right\"],axis=1)\r\n",
        "dataset_left_stereo.rename(columns = {\"stereo left\": 'stereo'}, inplace = True)\r\n",
        "dataset_left_stereo"
      ],
      "execution_count": 16,
      "outputs": [
        {
          "output_type": "execute_result",
          "data": {
            "text/html": [
              "<div>\n",
              "<style scoped>\n",
              "    .dataframe tbody tr th:only-of-type {\n",
              "        vertical-align: middle;\n",
              "    }\n",
              "\n",
              "    .dataframe tbody tr th {\n",
              "        vertical-align: top;\n",
              "    }\n",
              "\n",
              "    .dataframe thead th {\n",
              "        text-align: right;\n",
              "    }\n",
              "</style>\n",
              "<table border=\"1\" class=\"dataframe\">\n",
              "  <thead>\n",
              "    <tr style=\"text-align: right;\">\n",
              "      <th></th>\n",
              "      <th>scenario</th>\n",
              "      <th>stereo</th>\n",
              "      <th>label name</th>\n",
              "      <th>label id</th>\n",
              "    </tr>\n",
              "    <tr>\n",
              "      <th>index</th>\n",
              "      <th></th>\n",
              "      <th></th>\n",
              "      <th></th>\n",
              "      <th></th>\n",
              "    </tr>\n",
              "  </thead>\n",
              "  <tbody>\n",
              "    <tr>\n",
              "      <th>0</th>\n",
              "      <td>biograd-A</td>\n",
              "      <td>/biograd-A/true_positives/raw/biograd-A_00000_...</td>\n",
              "      <td>num_delimiter</td>\n",
              "      <td>10</td>\n",
              "    </tr>\n",
              "    <tr>\n",
              "      <th>10</th>\n",
              "      <td>biograd-A</td>\n",
              "      <td>/biograd-A/true_positives/raw/biograd-A_00001_...</td>\n",
              "      <td>num_delimiter</td>\n",
              "      <td>10</td>\n",
              "    </tr>\n",
              "    <tr>\n",
              "      <th>20</th>\n",
              "      <td>biograd-A</td>\n",
              "      <td>/biograd-A/true_positives/raw/biograd-A_00002_...</td>\n",
              "      <td>num_delimiter</td>\n",
              "      <td>10</td>\n",
              "    </tr>\n",
              "    <tr>\n",
              "      <th>30</th>\n",
              "      <td>biograd-A</td>\n",
              "      <td>/biograd-A/true_positives/raw/biograd-A_00003_...</td>\n",
              "      <td>num_delimiter</td>\n",
              "      <td>10</td>\n",
              "    </tr>\n",
              "    <tr>\n",
              "      <th>40</th>\n",
              "      <td>biograd-A</td>\n",
              "      <td>/biograd-A/true_positives/raw/biograd-A_00004_...</td>\n",
              "      <td>num_delimiter</td>\n",
              "      <td>10</td>\n",
              "    </tr>\n",
              "    <tr>\n",
              "      <th>...</th>\n",
              "      <td>...</td>\n",
              "      <td>...</td>\n",
              "      <td>...</td>\n",
              "      <td>...</td>\n",
              "    </tr>\n",
              "    <tr>\n",
              "      <th>92340</th>\n",
              "      <td>genova-A</td>\n",
              "      <td>/genova-A/true_positives/raw/genova-A_03315_le...</td>\n",
              "      <td>end_comm</td>\n",
              "      <td>1</td>\n",
              "    </tr>\n",
              "    <tr>\n",
              "      <th>92350</th>\n",
              "      <td>genova-A</td>\n",
              "      <td>/genova-A/true_positives/raw/genova-A_03316_le...</td>\n",
              "      <td>end_comm</td>\n",
              "      <td>1</td>\n",
              "    </tr>\n",
              "    <tr>\n",
              "      <th>92360</th>\n",
              "      <td>genova-A</td>\n",
              "      <td>/genova-A/true_positives/raw/genova-A_03317_le...</td>\n",
              "      <td>end_comm</td>\n",
              "      <td>1</td>\n",
              "    </tr>\n",
              "    <tr>\n",
              "      <th>92370</th>\n",
              "      <td>genova-A</td>\n",
              "      <td>/genova-A/true_positives/raw/genova-A_03318_le...</td>\n",
              "      <td>end_comm</td>\n",
              "      <td>1</td>\n",
              "    </tr>\n",
              "    <tr>\n",
              "      <th>92380</th>\n",
              "      <td>genova-A</td>\n",
              "      <td>/genova-A/true_positives/raw/genova-A_03319_le...</td>\n",
              "      <td>end_comm</td>\n",
              "      <td>1</td>\n",
              "    </tr>\n",
              "  </tbody>\n",
              "</table>\n",
              "<p>9239 rows × 4 columns</p>\n",
              "</div>"
            ],
            "text/plain": [
              "        scenario  ... label id\n",
              "index             ...         \n",
              "0      biograd-A  ...       10\n",
              "10     biograd-A  ...       10\n",
              "20     biograd-A  ...       10\n",
              "30     biograd-A  ...       10\n",
              "40     biograd-A  ...       10\n",
              "...          ...  ...      ...\n",
              "92340   genova-A  ...        1\n",
              "92350   genova-A  ...        1\n",
              "92360   genova-A  ...        1\n",
              "92370   genova-A  ...        1\n",
              "92380   genova-A  ...        1\n",
              "\n",
              "[9239 rows x 4 columns]"
            ]
          },
          "metadata": {
            "tags": []
          },
          "execution_count": 16
        }
      ]
    },
    {
      "cell_type": "code",
      "metadata": {
        "colab": {
          "base_uri": "https://localhost:8080/"
        },
        "id": "gaO1Kc_lmV5H",
        "outputId": "c73c6269-2466-4431-8594-ccdf31bce2aa"
      },
      "source": [
        "# Concatenate the two dataframes created above \r\n",
        "dataset_v1 = pd.concat([dataset_left_stereo,dataset_right_stereo], ignore_index=True)\r\n",
        "dataset_v1.info()"
      ],
      "execution_count": 17,
      "outputs": [
        {
          "output_type": "stream",
          "text": [
            "<class 'pandas.core.frame.DataFrame'>\n",
            "RangeIndex: 18478 entries, 0 to 18477\n",
            "Data columns (total 4 columns):\n",
            " #   Column      Non-Null Count  Dtype \n",
            "---  ------      --------------  ----- \n",
            " 0   scenario    18478 non-null  object\n",
            " 1   stereo      18478 non-null  object\n",
            " 2   label name  18478 non-null  object\n",
            " 3   label id    18478 non-null  int64 \n",
            "dtypes: int64(1), object(3)\n",
            "memory usage: 577.6+ KB\n"
          ],
          "name": "stdout"
        }
      ]
    },
    {
      "cell_type": "code",
      "metadata": {
        "colab": {
          "base_uri": "https://localhost:8080/",
          "height": 195
        },
        "id": "7K2V78_7oLUv",
        "outputId": "f065fb1d-3134-4755-d311-ffcc7ffbc412"
      },
      "source": [
        "dataset_v1.head()"
      ],
      "execution_count": 18,
      "outputs": [
        {
          "output_type": "execute_result",
          "data": {
            "text/html": [
              "<div>\n",
              "<style scoped>\n",
              "    .dataframe tbody tr th:only-of-type {\n",
              "        vertical-align: middle;\n",
              "    }\n",
              "\n",
              "    .dataframe tbody tr th {\n",
              "        vertical-align: top;\n",
              "    }\n",
              "\n",
              "    .dataframe thead th {\n",
              "        text-align: right;\n",
              "    }\n",
              "</style>\n",
              "<table border=\"1\" class=\"dataframe\">\n",
              "  <thead>\n",
              "    <tr style=\"text-align: right;\">\n",
              "      <th></th>\n",
              "      <th>scenario</th>\n",
              "      <th>stereo</th>\n",
              "      <th>label name</th>\n",
              "      <th>label id</th>\n",
              "    </tr>\n",
              "  </thead>\n",
              "  <tbody>\n",
              "    <tr>\n",
              "      <th>0</th>\n",
              "      <td>biograd-A</td>\n",
              "      <td>/biograd-A/true_positives/raw/biograd-A_00000_...</td>\n",
              "      <td>num_delimiter</td>\n",
              "      <td>10</td>\n",
              "    </tr>\n",
              "    <tr>\n",
              "      <th>1</th>\n",
              "      <td>biograd-A</td>\n",
              "      <td>/biograd-A/true_positives/raw/biograd-A_00001_...</td>\n",
              "      <td>num_delimiter</td>\n",
              "      <td>10</td>\n",
              "    </tr>\n",
              "    <tr>\n",
              "      <th>2</th>\n",
              "      <td>biograd-A</td>\n",
              "      <td>/biograd-A/true_positives/raw/biograd-A_00002_...</td>\n",
              "      <td>num_delimiter</td>\n",
              "      <td>10</td>\n",
              "    </tr>\n",
              "    <tr>\n",
              "      <th>3</th>\n",
              "      <td>biograd-A</td>\n",
              "      <td>/biograd-A/true_positives/raw/biograd-A_00003_...</td>\n",
              "      <td>num_delimiter</td>\n",
              "      <td>10</td>\n",
              "    </tr>\n",
              "    <tr>\n",
              "      <th>4</th>\n",
              "      <td>biograd-A</td>\n",
              "      <td>/biograd-A/true_positives/raw/biograd-A_00004_...</td>\n",
              "      <td>num_delimiter</td>\n",
              "      <td>10</td>\n",
              "    </tr>\n",
              "  </tbody>\n",
              "</table>\n",
              "</div>"
            ],
            "text/plain": [
              "    scenario  ... label id\n",
              "0  biograd-A  ...       10\n",
              "1  biograd-A  ...       10\n",
              "2  biograd-A  ...       10\n",
              "3  biograd-A  ...       10\n",
              "4  biograd-A  ...       10\n",
              "\n",
              "[5 rows x 4 columns]"
            ]
          },
          "metadata": {
            "tags": []
          },
          "execution_count": 18
        }
      ]
    },
    {
      "cell_type": "markdown",
      "metadata": {
        "id": "ndcyTtigoJlK"
      },
      "source": [
        "As we can see in the output of the above cell we can say that the stereo column contains the path to image and the label name contains the information of the gesture performed.\r\n",
        "<p>\r\n",
        "So let's rename the stereo column to imagePath"
      ]
    },
    {
      "cell_type": "code",
      "metadata": {
        "colab": {
          "base_uri": "https://localhost:8080/",
          "height": 402
        },
        "id": "19RC-pP1ouvs",
        "outputId": "dec60cc6-2ab7-4985-cd82-9c22855806a8"
      },
      "source": [
        "dataset_v1.rename(columns={\"stereo\":\"imagePath\"},inplace=True)\r\n",
        "dataset_v1"
      ],
      "execution_count": 19,
      "outputs": [
        {
          "output_type": "execute_result",
          "data": {
            "text/html": [
              "<div>\n",
              "<style scoped>\n",
              "    .dataframe tbody tr th:only-of-type {\n",
              "        vertical-align: middle;\n",
              "    }\n",
              "\n",
              "    .dataframe tbody tr th {\n",
              "        vertical-align: top;\n",
              "    }\n",
              "\n",
              "    .dataframe thead th {\n",
              "        text-align: right;\n",
              "    }\n",
              "</style>\n",
              "<table border=\"1\" class=\"dataframe\">\n",
              "  <thead>\n",
              "    <tr style=\"text-align: right;\">\n",
              "      <th></th>\n",
              "      <th>scenario</th>\n",
              "      <th>imagePath</th>\n",
              "      <th>label name</th>\n",
              "      <th>label id</th>\n",
              "    </tr>\n",
              "  </thead>\n",
              "  <tbody>\n",
              "    <tr>\n",
              "      <th>0</th>\n",
              "      <td>biograd-A</td>\n",
              "      <td>/biograd-A/true_positives/raw/biograd-A_00000_...</td>\n",
              "      <td>num_delimiter</td>\n",
              "      <td>10</td>\n",
              "    </tr>\n",
              "    <tr>\n",
              "      <th>1</th>\n",
              "      <td>biograd-A</td>\n",
              "      <td>/biograd-A/true_positives/raw/biograd-A_00001_...</td>\n",
              "      <td>num_delimiter</td>\n",
              "      <td>10</td>\n",
              "    </tr>\n",
              "    <tr>\n",
              "      <th>2</th>\n",
              "      <td>biograd-A</td>\n",
              "      <td>/biograd-A/true_positives/raw/biograd-A_00002_...</td>\n",
              "      <td>num_delimiter</td>\n",
              "      <td>10</td>\n",
              "    </tr>\n",
              "    <tr>\n",
              "      <th>3</th>\n",
              "      <td>biograd-A</td>\n",
              "      <td>/biograd-A/true_positives/raw/biograd-A_00003_...</td>\n",
              "      <td>num_delimiter</td>\n",
              "      <td>10</td>\n",
              "    </tr>\n",
              "    <tr>\n",
              "      <th>4</th>\n",
              "      <td>biograd-A</td>\n",
              "      <td>/biograd-A/true_positives/raw/biograd-A_00004_...</td>\n",
              "      <td>num_delimiter</td>\n",
              "      <td>10</td>\n",
              "    </tr>\n",
              "    <tr>\n",
              "      <th>...</th>\n",
              "      <td>...</td>\n",
              "      <td>...</td>\n",
              "      <td>...</td>\n",
              "      <td>...</td>\n",
              "    </tr>\n",
              "    <tr>\n",
              "      <th>18473</th>\n",
              "      <td>genova-A</td>\n",
              "      <td>/genova-A/true_positives/raw/genova-A_03315_ri...</td>\n",
              "      <td>end_comm</td>\n",
              "      <td>1</td>\n",
              "    </tr>\n",
              "    <tr>\n",
              "      <th>18474</th>\n",
              "      <td>genova-A</td>\n",
              "      <td>/genova-A/true_positives/raw/genova-A_03316_ri...</td>\n",
              "      <td>end_comm</td>\n",
              "      <td>1</td>\n",
              "    </tr>\n",
              "    <tr>\n",
              "      <th>18475</th>\n",
              "      <td>genova-A</td>\n",
              "      <td>/genova-A/true_positives/raw/genova-A_03317_ri...</td>\n",
              "      <td>end_comm</td>\n",
              "      <td>1</td>\n",
              "    </tr>\n",
              "    <tr>\n",
              "      <th>18476</th>\n",
              "      <td>genova-A</td>\n",
              "      <td>/genova-A/true_positives/raw/genova-A_03318_ri...</td>\n",
              "      <td>end_comm</td>\n",
              "      <td>1</td>\n",
              "    </tr>\n",
              "    <tr>\n",
              "      <th>18477</th>\n",
              "      <td>genova-A</td>\n",
              "      <td>/genova-A/true_positives/raw/genova-A_03319_ri...</td>\n",
              "      <td>end_comm</td>\n",
              "      <td>1</td>\n",
              "    </tr>\n",
              "  </tbody>\n",
              "</table>\n",
              "<p>18478 rows × 4 columns</p>\n",
              "</div>"
            ],
            "text/plain": [
              "        scenario  ... label id\n",
              "0      biograd-A  ...       10\n",
              "1      biograd-A  ...       10\n",
              "2      biograd-A  ...       10\n",
              "3      biograd-A  ...       10\n",
              "4      biograd-A  ...       10\n",
              "...          ...  ...      ...\n",
              "18473   genova-A  ...        1\n",
              "18474   genova-A  ...        1\n",
              "18475   genova-A  ...        1\n",
              "18476   genova-A  ...        1\n",
              "18477   genova-A  ...        1\n",
              "\n",
              "[18478 rows x 4 columns]"
            ]
          },
          "metadata": {
            "tags": []
          },
          "execution_count": 19
        }
      ]
    },
    {
      "cell_type": "code",
      "metadata": {
        "colab": {
          "base_uri": "https://localhost:8080/"
        },
        "id": "l1r7FSEI8qsN",
        "outputId": "be089004-a4c0-42e6-842e-ce5817f02524"
      },
      "source": [
        "classes = dataset_v1.filter(items=[\"label name\",\"label id\"])\r\n",
        "classes = classes.set_index('label id').to_dict('dict')\r\n",
        "classes = classes['label name']\r\n",
        "classes"
      ],
      "execution_count": 20,
      "outputs": [
        {
          "output_type": "execute_result",
          "data": {
            "text/plain": [
              "{0: 'start_comm',\n",
              " 1: 'end_comm',\n",
              " 2: 'up',\n",
              " 3: 'down',\n",
              " 4: 'photo',\n",
              " 5: 'backwards',\n",
              " 6: 'carry',\n",
              " 7: 'boat',\n",
              " 8: 'here',\n",
              " 9: 'mosaic',\n",
              " 10: 'num_delimiter',\n",
              " 11: 'one',\n",
              " 12: 'two',\n",
              " 13: 'three',\n",
              " 14: 'four',\n",
              " 15: 'five'}"
            ]
          },
          "metadata": {
            "tags": []
          },
          "execution_count": 20
        }
      ]
    },
    {
      "cell_type": "markdown",
      "metadata": {
        "id": "mUbJONlHnaSg"
      },
      "source": [
        "Saving dataset to CSV to use in future."
      ]
    },
    {
      "cell_type": "code",
      "metadata": {
        "id": "1leaxZoJuYK-"
      },
      "source": [
        "dataset_v1.to_csv(\"./drive/MyDrive/Colab Notebooks/caddy-gesture-transformedV1.csv\")"
      ],
      "execution_count": 21,
      "outputs": []
    },
    {
      "cell_type": "code",
      "metadata": {
        "id": "FInzuH_Kl0_O"
      },
      "source": [
        "!pip install jovian --upgrade --quiet"
      ],
      "execution_count": 22,
      "outputs": []
    },
    {
      "cell_type": "code",
      "metadata": {
        "id": "IcwofBoUnJwz"
      },
      "source": [
        "import jovian"
      ],
      "execution_count": 23,
      "outputs": []
    },
    {
      "cell_type": "code",
      "metadata": {
        "colab": {
          "base_uri": "https://localhost:8080/",
          "height": 102
        },
        "id": "bSlxrjNCnNqx",
        "outputId": "35fa6d3a-f809-46d4-9ddc-154e6ccfc3b9"
      },
      "source": [
        "jovian.commit(project=project_name)"
      ],
      "execution_count": 24,
      "outputs": [
        {
          "output_type": "stream",
          "text": [
            "[jovian] Detected Colab notebook...\u001b[0m\n",
            "[jovian] Uploading colab notebook to Jovian...\u001b[0m\n",
            "[jovian] Capturing environment..\u001b[0m\n",
            "[jovian] Committed successfully! https://jovian.ai/shubham912sahu/caddy-gestures-course-project\u001b[0m\n"
          ],
          "name": "stdout"
        },
        {
          "output_type": "execute_result",
          "data": {
            "application/vnd.google.colaboratory.intrinsic+json": {
              "type": "string"
            },
            "text/plain": [
              "'https://jovian.ai/shubham912sahu/caddy-gestures-course-project'"
            ]
          },
          "metadata": {
            "tags": []
          },
          "execution_count": 24
        }
      ]
    },
    {
      "cell_type": "markdown",
      "metadata": {
        "id": "OSAjXeL_l-j-"
      },
      "source": [
        "### Data Refactoring\r\n",
        "\r\n",
        "As the data in the folder is not in the correct way we cannot use `ImageFolder` class and hence need to define a custom class extending the <a href=\"https://pytorch.org/docs/stable/data.html#torch.utils.data.Dataset\">`Dataset`</a> class of `pytorch.utils.data`.\r\n",
        "This class when "
      ]
    },
    {
      "cell_type": "code",
      "metadata": {
        "id": "XXTDgEJ7nOy8"
      },
      "source": [
        "from PIL import Image\r\n",
        "from torchvision import transforms\r\n",
        "from torchvision.transforms import ToTensor, Resize\r\n",
        "import torch.nn.functional as F\r\n",
        "import numpy as np\r\n",
        "import random\r\n",
        "import io\r\n",
        "import os\r\n",
        "import pandas as pd\r\n",
        "from torch.utils.data import Dataset\r\n",
        "\r\n",
        "\r\n",
        "class CaddyDataset(Dataset):\r\n",
        "    def __init__(self, csv_path, img_dir='./data/CADDY_gestures_complete_v2_release', transform=ToTensor()):\r\n",
        "        \"\"\"\r\n",
        "        Initialize data set as a list of IDs corresponding to each item of data set\r\n",
        "\r\n",
        "        :param img_dir: path to image files as a folder\r\n",
        "        :param csv_path: a text file containing names of all of images line by line\r\n",
        "        :param transform: apply some transforms like cropping, rotating, etc on input image\r\n",
        "        \"\"\"\r\n",
        "\r\n",
        "        df = pd.read_csv(csv_path)\r\n",
        "        self.img_names = df[\"imagePath\"].values\r\n",
        "        self.labels = df[\"label id\"].values\r\n",
        "        self.csv_path = csv_path\r\n",
        "        self.img_dir = img_dir\r\n",
        "        self.transform = transform\r\n",
        "        self.get_image_selector = False\r\n",
        "\r\n",
        "    def get_image_from_folder(self, name):\r\n",
        "        \"\"\"\r\n",
        "        gets a image by a name gathered from file list text file\r\n",
        "\r\n",
        "        :param name: name of targeted image\r\n",
        "        :return: a PIL image\r\n",
        "        \"\"\"\r\n",
        "        image = Image.open(os.path.join(self.img_dir, name[1:]))\r\n",
        "        \r\n",
        "        return image\r\n",
        "\r\n",
        "    def __len__(self):\r\n",
        "        \"\"\"\r\n",
        "        Return the length of data set using list of IDs\r\n",
        "\r\n",
        "        :return: number of samples in data set\r\n",
        "        \"\"\"\r\n",
        "        return len(self.img_names)\r\n",
        "\r\n",
        "    def __getitem__(self, index):\r\n",
        "        \"\"\"\r\n",
        "        Generate one item of data set.\r\n",
        "\r\n",
        "        :param index: index of item in IDs list\r\n",
        "\r\n",
        "        :return: a sample of data as a dict\r\n",
        "        \"\"\"\r\n",
        "        X = self.get_image_from_folder(self.img_names[index])\r\n",
        "\r\n",
        "        # Get you label here using available pandas functions\r\n",
        "        Y = self.labels[index]\r\n",
        "\r\n",
        "        if self.transform is not None:\r\n",
        "            p =transforms.Compose([transforms.Resize((32,32))])\r\n",
        "            X = p(X)\r\n",
        "            X = self.transform(X)\r\n",
        "            \r\n",
        "\r\n",
        "#            Y = self.transform(Y) # if your label is image too - remove if it is number\r\n",
        "\r\n",
        "        sample = (X,Y)\r\n",
        "\r\n",
        "        return sample"
      ],
      "execution_count": 176,
      "outputs": []
    },
    {
      "cell_type": "code",
      "metadata": {
        "colab": {
          "base_uri": "https://localhost:8080/"
        },
        "id": "Ly4R8mEEyvd-",
        "outputId": "7749e033-8eb1-4f0a-86f0-ad9f36fb4811"
      },
      "source": [
        "tensor_dataset = CaddyDataset(\"./drive/MyDrive/Colab Notebooks/caddy-gesture-transformedV1.csv\",\r\n",
        "                              img_dir='./data/CADDY_gestures_complete_v2_release',\r\n",
        "                              transform=ToTensor())\r\n",
        "tensor_dataset[2]"
      ],
      "execution_count": 177,
      "outputs": [
        {
          "output_type": "execute_result",
          "data": {
            "text/plain": [
              "(tensor([[[0.2392, 0.2431, 0.2471,  ..., 0.1255, 0.1176, 0.1098],\n",
              "          [0.2392, 0.2431, 0.2471,  ..., 0.1294, 0.1176, 0.1098],\n",
              "          [0.2392, 0.2471, 0.2471,  ..., 0.1294, 0.1216, 0.1098],\n",
              "          ...,\n",
              "          [0.1098, 0.1137, 0.1176,  ..., 0.0863, 0.0824, 0.0824],\n",
              "          [0.1098, 0.1137, 0.1176,  ..., 0.0902, 0.0863, 0.0824],\n",
              "          [0.1059, 0.1098, 0.1176,  ..., 0.0902, 0.0863, 0.0824]],\n",
              " \n",
              "         [[0.5647, 0.5804, 0.5961,  ..., 0.3843, 0.3608, 0.3373],\n",
              "          [0.5765, 0.5922, 0.6078,  ..., 0.3922, 0.3647, 0.3412],\n",
              "          [0.5804, 0.6000, 0.6118,  ..., 0.3961, 0.3725, 0.3451],\n",
              "          ...,\n",
              "          [0.3412, 0.3451, 0.3647,  ..., 0.3176, 0.3020, 0.2980],\n",
              "          [0.3216, 0.3373, 0.3569,  ..., 0.3176, 0.2980, 0.2902],\n",
              "          [0.3098, 0.3294, 0.3529,  ..., 0.3059, 0.2980, 0.2863]],\n",
              " \n",
              "         [[0.8431, 0.8667, 0.8902,  ..., 0.6000, 0.5647, 0.5294],\n",
              "          [0.8627, 0.8902, 0.9137,  ..., 0.6157, 0.5725, 0.5373],\n",
              "          [0.8745, 0.9020, 0.9216,  ..., 0.6196, 0.5804, 0.5451],\n",
              "          ...,\n",
              "          [0.4706, 0.4824, 0.5059,  ..., 0.4353, 0.4196, 0.4078],\n",
              "          [0.4431, 0.4627, 0.4863,  ..., 0.4314, 0.4078, 0.3961],\n",
              "          [0.4275, 0.4549, 0.4784,  ..., 0.4118, 0.4000, 0.3843]]]), 10)"
            ]
          },
          "metadata": {
            "tags": []
          },
          "execution_count": 177
        }
      ]
    },
    {
      "cell_type": "code",
      "metadata": {
        "colab": {
          "base_uri": "https://localhost:8080/"
        },
        "id": "u9_2COFcWiB0",
        "outputId": "6efb7021-a51a-4220-9fa2-ca810c8d08eb"
      },
      "source": [
        "img,label = tensor_dataset[0]\r\n",
        "img.shape"
      ],
      "execution_count": 178,
      "outputs": [
        {
          "output_type": "execute_result",
          "data": {
            "text/plain": [
              "torch.Size([3, 32, 32])"
            ]
          },
          "metadata": {
            "tags": []
          },
          "execution_count": 178
        }
      ]
    },
    {
      "cell_type": "code",
      "metadata": {
        "id": "pnuX0f1UzQEk"
      },
      "source": [
        "# def data_seperator(tensor_data):\r\n",
        "#   img = tensor_data[\"Image\"]\r\n",
        "#   label = tensor_data[\"Label\"]\r\n",
        "#   return {img, label}"
      ],
      "execution_count": 179,
      "outputs": []
    },
    {
      "cell_type": "code",
      "metadata": {
        "id": "0J0RmP_z7SaO"
      },
      "source": [
        "# print(data_seperator(tensor_dataset[0]))"
      ],
      "execution_count": 180,
      "outputs": []
    },
    {
      "cell_type": "code",
      "metadata": {
        "id": "ND8vPp1A37fi"
      },
      "source": [
        "import matplotlib\r\n",
        "import matplotlib.pyplot as plt\r\n",
        "%matplotlib inline\r\n",
        "\r\n",
        "matplotlib.rcParams['figure.facecolor'] = '#ffffff'"
      ],
      "execution_count": 181,
      "outputs": []
    },
    {
      "cell_type": "code",
      "metadata": {
        "id": "CqpZ5c6o658v"
      },
      "source": [
        "def show_example(img, lable):\r\n",
        "    print('Label: ', classes[lable], \"(\"+str(lable)+\")\")\r\n",
        "    plt.imshow(img.permute(1, 2, 0))"
      ],
      "execution_count": 182,
      "outputs": []
    },
    {
      "cell_type": "code",
      "metadata": {
        "colab": {
          "base_uri": "https://localhost:8080/",
          "height": 283
        },
        "id": "AT2VZJUv68Uo",
        "outputId": "ba1e02fd-50e5-44ef-9e8d-8d8580563a9b"
      },
      "source": [
        "show_example(*tensor_dataset[0])"
      ],
      "execution_count": 183,
      "outputs": [
        {
          "output_type": "stream",
          "text": [
            "Label:  num_delimiter (10)\n"
          ],
          "name": "stdout"
        },
        {
          "output_type": "display_data",
          "data": {
            "image/png": "[encoded data removed]",
            "text/plain": [
              "<Figure size 432x288 with 1 Axes>"
            ]
          },
          "metadata": {
            "tags": []
          }
        }
      ]
    },
    {
      "cell_type": "code",
      "metadata": {
        "id": "dKTPr1rY6-Wr"
      },
      "source": [
        ""
      ],
      "execution_count": 183,
      "outputs": []
    },
    {
      "cell_type": "markdown",
      "metadata": {
        "id": "F6ZHx8R4_g2M"
      },
      "source": [
        "## Data Segregation \r\n",
        "Creating Validation, Testing and Training Datasets\r\n",
        "\r\n",
        "For this scenario I would like to keep the ratio of the Datasets to be:\r\n",
        "* Validation : 15%\r\n",
        "* Testing : 15%\r\n",
        "* Training : 70%\r\n",
        "\r\n",
        "As we saw the dataset is not shuffled hence we need to shuffle the dataset first and then proceed with the segregation.\r\n",
        "\r\n",
        "\r\n"
      ]
    },
    {
      "cell_type": "code",
      "metadata": {
        "id": "WSNajR_uvB4_"
      },
      "source": [
        "random_seed = 42\r\n",
        "torch.manual_seed(random_seed);"
      ],
      "execution_count": 184,
      "outputs": []
    },
    {
      "cell_type": "code",
      "metadata": {
        "colab": {
          "base_uri": "https://localhost:8080/"
        },
        "id": "daOCxb66AMkp",
        "outputId": "59ee9f99-f818-47b6-cf6b-537d41543c1f"
      },
      "source": [
        "val_size = len(tensor_dataset)*15//100\r\n",
        "test_size = val_size\r\n",
        "training_size = len(tensor_dataset)-val_size - test_size\r\n",
        "train_ds, val_ds, test_ds = random_split(tensor_dataset, [training_size, val_size, test_size])\r\n",
        "len(train_ds), len(val_ds), len(test_ds)"
      ],
      "execution_count": 185,
      "outputs": [
        {
          "output_type": "execute_result",
          "data": {
            "text/plain": [
              "(12936, 2771, 2771)"
            ]
          },
          "metadata": {
            "tags": []
          },
          "execution_count": 185
        }
      ]
    },
    {
      "cell_type": "code",
      "metadata": {
        "colab": {
          "base_uri": "https://localhost:8080/"
        },
        "id": "EBFuWynmArAd",
        "outputId": "6b0a6689-8e53-4b1a-e5ca-94bae0f910c8"
      },
      "source": [
        "jovian.log_dataset(dataset_url=dataset_url, val_size=val_size, random_seed=random_seed)"
      ],
      "execution_count": 186,
      "outputs": [
        {
          "output_type": "stream",
          "text": [
            "[jovian] Dataset logged.\u001b[0m\n"
          ],
          "name": "stdout"
        }
      ]
    },
    {
      "cell_type": "code",
      "metadata": {
        "colab": {
          "base_uri": "https://localhost:8080/"
        },
        "id": "AHD8VHPZL90T",
        "outputId": "a24d82bf-0a80-4a64-b2a7-4957b71caf66"
      },
      "source": [
        "img ,label = val_ds[0]\r\n",
        "img.shape"
      ],
      "execution_count": 187,
      "outputs": [
        {
          "output_type": "execute_result",
          "data": {
            "text/plain": [
              "torch.Size([3, 32, 32])"
            ]
          },
          "metadata": {
            "tags": []
          },
          "execution_count": 187
        }
      ]
    },
    {
      "cell_type": "markdown",
      "metadata": {
        "id": "XtLDYVhbF5AP"
      },
      "source": [
        "Now we create data loaders for training and validation so that the data can be loaded in batches."
      ]
    },
    {
      "cell_type": "code",
      "metadata": {
        "id": "1jNrAlciF4T3"
      },
      "source": [
        "from torch.utils.data.dataloader import DataLoader\r\n",
        "\r\n",
        "batch_size=32"
      ],
      "execution_count": 188,
      "outputs": []
    },
    {
      "cell_type": "code",
      "metadata": {
        "id": "fI9bDMqEF1my"
      },
      "source": [
        "train_dl = DataLoader(train_ds, batch_size, shuffle=True, num_workers=4, pin_memory=True)\r\n",
        "val_dl = DataLoader(val_ds, batch_size*2, num_workers=4, pin_memory=True)"
      ],
      "execution_count": 189,
      "outputs": []
    },
    {
      "cell_type": "code",
      "metadata": {
        "id": "R_lA6QjTCtRZ"
      },
      "source": [
        "from torchvision.utils import make_grid\r\n",
        "\r\n",
        "def show_batch(dl):\r\n",
        "    for images, labels in dl:\r\n",
        "        fig, ax = plt.subplots(figsize=(12, 6))\r\n",
        "        ax.set_xticks([]); ax.set_yticks([])\r\n",
        "        ax.imshow(make_grid(images, nrow=16).permute(1, 2, 0))\r\n",
        "        break"
      ],
      "execution_count": 190,
      "outputs": []
    },
    {
      "cell_type": "code",
      "metadata": {
        "colab": {
          "base_uri": "https://localhost:8080/",
          "height": 120
        },
        "id": "6uweqgZYGJZ0",
        "outputId": "69b92d06-f746-488a-a72d-bd0b45d4f35c"
      },
      "source": [
        "show_batch(train_dl)"
      ],
      "execution_count": 191,
      "outputs": [
        {
          "output_type": "display_data",
          "data": {
            "image/png": "[encoded data removed]",
            "text/plain": [
              "<Figure size 864x432 with 1 Axes>"
            ]
          },
          "metadata": {
            "tags": []
          }
        }
      ]
    },
    {
      "cell_type": "code",
      "metadata": {
        "colab": {
          "base_uri": "https://localhost:8080/",
          "height": 119
        },
        "id": "su9chs0CGLPq",
        "outputId": "470eb077-f7e4-480d-8cc6-862d8c7a3138"
      },
      "source": [
        "jovian.commit(project=project_name)"
      ],
      "execution_count": 192,
      "outputs": [
        {
          "output_type": "stream",
          "text": [
            "[jovian] Detected Colab notebook...\u001b[0m\n",
            "[jovian] Uploading colab notebook to Jovian...\u001b[0m\n",
            "[jovian] Capturing environment..\u001b[0m\n",
            "[jovian] Attaching records (metrics, hyperparameters, dataset etc.)\u001b[0m\n",
            "[jovian] Committed successfully! https://jovian.ai/shubham912sahu/caddy-gestures-course-project\u001b[0m\n"
          ],
          "name": "stdout"
        },
        {
          "output_type": "execute_result",
          "data": {
            "application/vnd.google.colaboratory.intrinsic+json": {
              "type": "string"
            },
            "text/plain": [
              "'https://jovian.ai/shubham912sahu/caddy-gestures-course-project'"
            ]
          },
          "metadata": {
            "tags": []
          },
          "execution_count": 192
        }
      ]
    },
    {
      "cell_type": "markdown",
      "metadata": {
        "id": "tFW1a91QI2Dk"
      },
      "source": [
        "## Defining the Model (Convolutional Neural Network)\r\n",
        " Defining a multi layered Convolutional model.\r\n",
        " <p>\r\n",
        " Let's define the model by extending an `ImageClassificationBase` class which contains helper methods for training & validation."
      ]
    },
    {
      "cell_type": "code",
      "metadata": {
        "id": "O-4TgUdNIjZd"
      },
      "source": [
        "import torch.nn as nn\r\n",
        "import torch.nn.functional as F"
      ],
      "execution_count": 193,
      "outputs": []
    },
    {
      "cell_type": "code",
      "metadata": {
        "id": "Pd3k_Ha5JOkk"
      },
      "source": [
        "class ImageClassificationBase(nn.Module):\r\n",
        "    def training_step(self, batch):\r\n",
        "        images, labels = batch \r\n",
        "        out = self(images)                  # Generate predictions\r\n",
        "        loss = F.cross_entropy(out, labels) # Calculate loss\r\n",
        "        return loss\r\n",
        "    \r\n",
        "    def validation_step(self, batch):\r\n",
        "        images, labels = batch \r\n",
        "        out = self(images)                    # Generate predictions\r\n",
        "        loss = F.cross_entropy(out, labels)   # Calculate loss\r\n",
        "        acc = accuracy(out, labels)           # Calculate accuracy\r\n",
        "        return {'val_loss': loss.detach(), 'val_acc': acc}\r\n",
        "        \r\n",
        "    def validation_epoch_end(self, outputs):\r\n",
        "        batch_losses = [x['val_loss'] for x in outputs]\r\n",
        "        epoch_loss = torch.stack(batch_losses).mean()   # Combine losses\r\n",
        "        batch_accs = [x['val_acc'] for x in outputs]\r\n",
        "        epoch_acc = torch.stack(batch_accs).mean()      # Combine accuracies\r\n",
        "        return {'val_loss': epoch_loss.item(), 'val_acc': epoch_acc.item()}\r\n",
        "    \r\n",
        "    def epoch_end(self, epoch, result):\r\n",
        "        print(\"Epoch [{}], train_loss: {:.4f}, val_loss: {:.4f}, val_acc: {:.4f}\".format(\r\n",
        "            epoch, result['train_loss'], result['val_loss'], result['val_acc']))\r\n",
        "        \r\n",
        "def accuracy(outputs, labels):\r\n",
        "    _, preds = torch.max(outputs, dim=1)\r\n",
        "    return torch.tensor(torch.sum(preds == labels).item() / len(preds))"
      ],
      "execution_count": 194,
      "outputs": []
    },
    {
      "cell_type": "markdown",
      "metadata": {
        "id": "egKq-sTalG7N"
      },
      "source": [
        "Chaining different layers and activation functions using `nn.sequential` into single network architecture"
      ]
    },
    {
      "cell_type": "code",
      "metadata": {
        "id": "e4607f6jJdb8"
      },
      "source": [
        "class CaddyGesturesCnnModel(ImageClassificationBase):\r\n",
        "    def __init__(self):\r\n",
        "        super().__init__()\r\n",
        "        self.network = nn.Sequential(\r\n",
        "            nn.Conv2d(3, 32, kernel_size=3, padding=1),\r\n",
        "            nn.ReLU(),\r\n",
        "            nn.Conv2d(32, 64, kernel_size=3, stride=1, padding=1),\r\n",
        "            nn.ReLU(),\r\n",
        "            nn.MaxPool2d(2, 2), # output: 64 x 16 x 16\r\n",
        "\r\n",
        "            nn.Conv2d(64, 128, kernel_size=3, stride=1, padding=1),\r\n",
        "            nn.ReLU(),\r\n",
        "            nn.Conv2d(128, 128, kernel_size=3, stride=1, padding=1),\r\n",
        "            nn.ReLU(),\r\n",
        "            nn.MaxPool2d(2, 2), # output: 128 x 8 x 8\r\n",
        "\r\n",
        "            nn.Conv2d(128, 256, kernel_size=3, stride=1, padding=1),\r\n",
        "            nn.ReLU(),\r\n",
        "            nn.Conv2d(256, 256, kernel_size=3, stride=1, padding=1),\r\n",
        "            nn.ReLU(),\r\n",
        "            nn.MaxPool2d(2, 2), # output: 256 x 4 x 4\r\n",
        "\r\n",
        "            nn.Flatten(), \r\n",
        "            nn.Linear(256*4*4, 1024),\r\n",
        "            nn.ReLU(),\r\n",
        "            nn.Linear(1024, 512),\r\n",
        "            nn.ReLU(),\r\n",
        "            nn.Linear(512, 16))\r\n",
        "        \r\n",
        "    def forward(self, xb):\r\n",
        "        return self.network(xb)"
      ],
      "execution_count": 195,
      "outputs": []
    },
    {
      "cell_type": "code",
      "metadata": {
        "id": "_d-yRik4PR6f"
      },
      "source": [
        "model = CaddyGesturesCnnModel()"
      ],
      "execution_count": 196,
      "outputs": []
    },
    {
      "cell_type": "code",
      "metadata": {
        "colab": {
          "base_uri": "https://localhost:8080/"
        },
        "id": "7Ju1FhUUPh5L",
        "outputId": "f235c8f5-4df8-43e9-8720-ae82aa358805"
      },
      "source": [
        "model"
      ],
      "execution_count": 197,
      "outputs": [
        {
          "output_type": "execute_result",
          "data": {
            "text/plain": [
              "CaddyGesturesCnnModel(\n",
              "  (network): Sequential(\n",
              "    (0): Conv2d(3, 32, kernel_size=(3, 3), stride=(1, 1), padding=(1, 1))\n",
              "    (1): ReLU()\n",
              "    (2): Conv2d(32, 64, kernel_size=(3, 3), stride=(1, 1), padding=(1, 1))\n",
              "    (3): ReLU()\n",
              "    (4): MaxPool2d(kernel_size=2, stride=2, padding=0, dilation=1, ceil_mode=False)\n",
              "    (5): Conv2d(64, 128, kernel_size=(3, 3), stride=(1, 1), padding=(1, 1))\n",
              "    (6): ReLU()\n",
              "    (7): Conv2d(128, 128, kernel_size=(3, 3), stride=(1, 1), padding=(1, 1))\n",
              "    (8): ReLU()\n",
              "    (9): MaxPool2d(kernel_size=2, stride=2, padding=0, dilation=1, ceil_mode=False)\n",
              "    (10): Conv2d(128, 256, kernel_size=(3, 3), stride=(1, 1), padding=(1, 1))\n",
              "    (11): ReLU()\n",
              "    (12): Conv2d(256, 256, kernel_size=(3, 3), stride=(1, 1), padding=(1, 1))\n",
              "    (13): ReLU()\n",
              "    (14): MaxPool2d(kernel_size=2, stride=2, padding=0, dilation=1, ceil_mode=False)\n",
              "    (15): Flatten(start_dim=1, end_dim=-1)\n",
              "    (16): Linear(in_features=4096, out_features=1024, bias=True)\n",
              "    (17): ReLU()\n",
              "    (18): Linear(in_features=1024, out_features=512, bias=True)\n",
              "    (19): ReLU()\n",
              "    (20): Linear(in_features=512, out_features=16, bias=True)\n",
              "  )\n",
              ")"
            ]
          },
          "metadata": {
            "tags": []
          },
          "execution_count": 197
        }
      ]
    },
    {
      "cell_type": "markdown",
      "metadata": {
        "id": "Wt1-Cn0GlqXq"
      },
      "source": [
        "Define functions to get available device details and upload data to device.`(GPU or CPU)`"
      ]
    },
    {
      "cell_type": "code",
      "metadata": {
        "id": "bhrhYqvsSoUQ"
      },
      "source": [
        "def get_default_device():\r\n",
        "    \"\"\"Pick GPU if available, else CPU\"\"\"\r\n",
        "    if torch.cuda.is_available():\r\n",
        "        return torch.device('cuda')\r\n",
        "    else:\r\n",
        "        return torch.device('cpu')\r\n",
        "    \r\n",
        "def to_device(data, device):\r\n",
        "    \"\"\"Move tensor(s) to chosen device\"\"\"\r\n",
        "    if isinstance(data, (list,tuple)):\r\n",
        "        return [to_device(x, device) for x in data]\r\n",
        "    return data.to(device, non_blocking=True)\r\n",
        "\r\n",
        "class DeviceDataLoader():\r\n",
        "    \"\"\"Wrap a dataloader to move data to a device\"\"\"\r\n",
        "    def __init__(self, dl, device):\r\n",
        "        self.dl = dl\r\n",
        "        self.device = device\r\n",
        "        \r\n",
        "    def __iter__(self):\r\n",
        "        \"\"\"Yield a batch of data after moving it to device\"\"\"\r\n",
        "        for b in self.dl: \r\n",
        "            yield to_device(b, self.device)\r\n",
        "\r\n",
        "    def __len__(self):\r\n",
        "        \"\"\"Number of batches\"\"\"\r\n",
        "        return len(self.dl)"
      ],
      "execution_count": 199,
      "outputs": []
    },
    {
      "cell_type": "code",
      "metadata": {
        "colab": {
          "base_uri": "https://localhost:8080/"
        },
        "id": "YGr4U-sCSsCz",
        "outputId": "e2f06365-c6da-4471-8ace-9c0ccaef25ac"
      },
      "source": [
        "device = get_default_device()\r\n",
        "device"
      ],
      "execution_count": 200,
      "outputs": [
        {
          "output_type": "execute_result",
          "data": {
            "text/plain": [
              "device(type='cuda')"
            ]
          },
          "metadata": {
            "tags": []
          },
          "execution_count": 200
        }
      ]
    },
    {
      "cell_type": "code",
      "metadata": {
        "id": "GSPmqy67StWE"
      },
      "source": [
        "train_dl = DeviceDataLoader(train_dl, device)\r\n",
        "val_dl = DeviceDataLoader(val_dl, device)\r\n",
        "to_device(model, device);"
      ],
      "execution_count": 201,
      "outputs": []
    },
    {
      "cell_type": "code",
      "metadata": {
        "id": "j74oLvNdSuwe"
      },
      "source": [
        ""
      ],
      "execution_count": 201,
      "outputs": []
    },
    {
      "cell_type": "markdown",
      "metadata": {
        "id": "kSAOUZnUnuQ0"
      },
      "source": [
        "## Training the Model\r\n",
        "Defining 2 functions `fit` and `evaluate` to train the model using gradient descent and evaluate its performance on the validation set."
      ]
    },
    {
      "cell_type": "code",
      "metadata": {
        "id": "1cu6G5ksPnPY"
      },
      "source": [
        "@torch.no_grad()\r\n",
        "def evaluate(model, val_loader):\r\n",
        "    model.eval()\r\n",
        "    outputs = [model.validation_step(batch) for batch in val_loader]\r\n",
        "    return model.validation_epoch_end(outputs)\r\n",
        "\r\n",
        "def fit(epochs, lr, model, train_loader, val_loader, opt_func=torch.optim.SGD):\r\n",
        "    history = []\r\n",
        "    optimizer = opt_func(model.parameters(), lr)\r\n",
        "    for epoch in range(epochs):\r\n",
        "        # Training Phase \r\n",
        "        model.train()\r\n",
        "        train_losses = []\r\n",
        "        for batch in train_loader:\r\n",
        "            loss = model.training_step(batch)\r\n",
        "            train_losses.append(loss)\r\n",
        "            loss.backward()\r\n",
        "            optimizer.step()\r\n",
        "            optimizer.zero_grad()\r\n",
        "        # Validation phase\r\n",
        "        result = evaluate(model, val_loader)\r\n",
        "        result['train_loss'] = torch.stack(train_losses).mean().item()\r\n",
        "        model.epoch_end(epoch, result)\r\n",
        "        history.append(result)\r\n",
        "    return history"
      ],
      "execution_count": 202,
      "outputs": []
    },
    {
      "cell_type": "code",
      "metadata": {
        "id": "V0BH1Q7-RyjH"
      },
      "source": [
        "model = to_device(CaddyGesturesCnnModel(), device)"
      ],
      "execution_count": 203,
      "outputs": []
    },
    {
      "cell_type": "code",
      "metadata": {
        "colab": {
          "base_uri": "https://localhost:8080/"
        },
        "id": "t_1OBtrDSxR_",
        "outputId": "802df612-f83f-46a8-c3f0-fed0ca67f699"
      },
      "source": [
        "evaluate(model, val_dl)"
      ],
      "execution_count": 204,
      "outputs": [
        {
          "output_type": "execute_result",
          "data": {
            "text/plain": [
              "{'val_acc': 0.03870738670229912, 'val_loss': 2.7690134048461914}"
            ]
          },
          "metadata": {
            "tags": []
          },
          "execution_count": 204
        }
      ]
    },
    {
      "cell_type": "code",
      "metadata": {
        "id": "Ky3HQdNgS0ms"
      },
      "source": [
        "num_epochs = 10\r\n",
        "opt_func = torch.optim.Adam\r\n",
        "lr = 0.001"
      ],
      "execution_count": 205,
      "outputs": []
    },
    {
      "cell_type": "code",
      "metadata": {
        "id": "7OnyyBduovtb"
      },
      "source": [
        "jovian.reset()\r\n",
        "jovian.log_hyperparams({\r\n",
        "    'num_epochs': num_epochs,\r\n",
        "    'opt_func': opt_func.__name__,\r\n",
        "    'batch_size': batch_size,\r\n",
        "    'lr': lr,\r\n",
        "})"
      ],
      "execution_count": null,
      "outputs": []
    },
    {
      "cell_type": "code",
      "metadata": {
        "id": "G_HWVnQBj_L5"
      },
      "source": [
        "def plot_accuracies(history):\r\n",
        "    accuracies = [x['val_acc'] for x in history]\r\n",
        "    plt.plot(accuracies, '-x')\r\n",
        "    plt.xlabel('epoch')\r\n",
        "    plt.ylabel('accuracy')\r\n",
        "    plt.title('Accuracy vs. No. of epochs');"
      ],
      "execution_count": 211,
      "outputs": []
    },
    {
      "cell_type": "code",
      "metadata": {
        "colab": {
          "base_uri": "https://localhost:8080/"
        },
        "id": "vSB-vPT_hA2_",
        "outputId": "7bc8eeda-847f-4592-8b3d-00e2eb61a1c2"
      },
      "source": [
        "history = fit(num_epochs, lr, model, train_dl, val_dl, opt_func)"
      ],
      "execution_count": 206,
      "outputs": [
        {
          "output_type": "stream",
          "text": [
            "Epoch [0], train_loss: 2.3566, val_loss: 1.9967, val_acc: 0.3369\n",
            "Epoch [1], train_loss: 1.6700, val_loss: 1.4457, val_acc: 0.4840\n",
            "Epoch [2], train_loss: 1.2437, val_loss: 1.0982, val_acc: 0.5916\n",
            "Epoch [3], train_loss: 0.9741, val_loss: 0.9069, val_acc: 0.6361\n",
            "Epoch [4], train_loss: 0.7777, val_loss: 0.8873, val_acc: 0.6685\n",
            "Epoch [5], train_loss: 0.6200, val_loss: 0.6724, val_acc: 0.7521\n",
            "Epoch [6], train_loss: 0.4830, val_loss: 0.6774, val_acc: 0.7605\n",
            "Epoch [7], train_loss: 0.3973, val_loss: 0.5638, val_acc: 0.7975\n",
            "Epoch [8], train_loss: 0.3215, val_loss: 0.5893, val_acc: 0.8056\n",
            "Epoch [9], train_loss: 0.2491, val_loss: 0.6061, val_acc: 0.8121\n"
          ],
          "name": "stdout"
        }
      ]
    },
    {
      "cell_type": "code",
      "metadata": {
        "colab": {
          "base_uri": "https://localhost:8080/"
        },
        "id": "nENIynvbl5sG",
        "outputId": "5b4858b3-74a8-45ed-88c2-87e9338e3a94"
      },
      "source": [
        "history = fit(num_epochs, lr, model, train_dl, val_dl, opt_func)"
      ],
      "execution_count": 207,
      "outputs": [
        {
          "output_type": "stream",
          "text": [
            "Epoch [0], train_loss: 0.2061, val_loss: 0.6067, val_acc: 0.8346\n",
            "Epoch [1], train_loss: 0.1677, val_loss: 0.6923, val_acc: 0.8260\n",
            "Epoch [2], train_loss: 0.1581, val_loss: 0.5972, val_acc: 0.8366\n",
            "Epoch [3], train_loss: 0.1439, val_loss: 0.6982, val_acc: 0.8173\n",
            "Epoch [4], train_loss: 0.1192, val_loss: 0.7339, val_acc: 0.8373\n",
            "Epoch [5], train_loss: 0.0949, val_loss: 0.6830, val_acc: 0.8299\n",
            "Epoch [6], train_loss: 0.1094, val_loss: 0.6818, val_acc: 0.8379\n",
            "Epoch [7], train_loss: 0.0880, val_loss: 0.5857, val_acc: 0.8687\n",
            "Epoch [8], train_loss: 0.0835, val_loss: 0.8108, val_acc: 0.8280\n",
            "Epoch [9], train_loss: 0.1039, val_loss: 0.6799, val_acc: 0.8496\n"
          ],
          "name": "stdout"
        }
      ]
    },
    {
      "cell_type": "markdown",
      "metadata": {
        "id": "X6mfLyGxo5JD"
      },
      "source": [
        "Recording the final metrics acheived by the model."
      ]
    },
    {
      "cell_type": "code",
      "metadata": {
        "colab": {
          "base_uri": "https://localhost:8080/"
        },
        "id": "LrBoL5DEhC7c",
        "outputId": "bea7df35-994d-4a9a-d2de-4bab59ddd8d5"
      },
      "source": [
        "jovian.log_metrics(train_loss=history[-1]['train_loss'], \r\n",
        "                   val_loss=history[-1]['val_loss'], \r\n",
        "                   val_acc=history[-1]['val_acc'])"
      ],
      "execution_count": 208,
      "outputs": [
        {
          "output_type": "stream",
          "text": [
            "[jovian] Metrics logged.\u001b[0m\n"
          ],
          "name": "stdout"
        }
      ]
    },
    {
      "cell_type": "markdown",
      "metadata": {
        "id": "G8cR3uhwpYgA"
      },
      "source": [
        "Since The training got overboard we see a ups and downs in the accuracy graph. "
      ]
    },
    {
      "cell_type": "code",
      "metadata": {
        "colab": {
          "base_uri": "https://localhost:8080/",
          "height": 295
        },
        "id": "Z6v_eawkkAnF",
        "outputId": "6915aa82-de0f-4e5c-99c1-244fc44d6220"
      },
      "source": [
        "plot_accuracies(history)"
      ],
      "execution_count": 210,
      "outputs": [
        {
          "output_type": "display_data",
          "data": {
            "image/png": "[encoded data removed]",
            "text/plain": [
              "<Figure size 432x288 with 1 Axes>"
            ]
          },
          "metadata": {
            "tags": []
          }
        }
      ]
    },
    {
      "cell_type": "code",
      "metadata": {
        "id": "rey9k_fRkBRU"
      },
      "source": [
        "def plot_losses(history):\r\n",
        "    train_losses = [x.get('train_loss') for x in history]\r\n",
        "    val_losses = [x['val_loss'] for x in history]\r\n",
        "    plt.plot(train_losses, '-bx')\r\n",
        "    plt.plot(val_losses, '-rx')\r\n",
        "    plt.xlabel('epoch')\r\n",
        "    plt.ylabel('loss')\r\n",
        "    plt.legend(['Training', 'Validation'])\r\n",
        "    plt.title('Loss vs. No. of epochs');"
      ],
      "execution_count": 212,
      "outputs": []
    },
    {
      "cell_type": "code",
      "metadata": {
        "colab": {
          "base_uri": "https://localhost:8080/",
          "height": 295
        },
        "id": "76tX-HNnkBMd",
        "outputId": "fb5227c0-891e-45b0-8be9-796053db0787"
      },
      "source": [
        "plot_losses(history)"
      ],
      "execution_count": 213,
      "outputs": [
        {
          "output_type": "display_data",
          "data": {
            "image/png": "[encoded data removed]",
            "text/plain": [
              "<Figure size 432x288 with 1 Axes>"
            ]
          },
          "metadata": {
            "tags": []
          }
        }
      ]
    },
    {
      "cell_type": "code",
      "metadata": {
        "colab": {
          "base_uri": "https://localhost:8080/",
          "height": 119
        },
        "id": "iE-4zYf5kELI",
        "outputId": "ce8a7311-f179-46a1-d241-fec42a9bd60c"
      },
      "source": [
        "jovian.commit(project=project_name)"
      ],
      "execution_count": 214,
      "outputs": [
        {
          "output_type": "stream",
          "text": [
            "[jovian] Detected Colab notebook...\u001b[0m\n",
            "[jovian] Uploading colab notebook to Jovian...\u001b[0m\n",
            "[jovian] Capturing environment..\u001b[0m\n",
            "[jovian] Attaching records (metrics, hyperparameters, dataset etc.)\u001b[0m\n",
            "[jovian] Committed successfully! https://jovian.ai/shubham912sahu/caddy-gestures-course-project\u001b[0m\n"
          ],
          "name": "stdout"
        },
        {
          "output_type": "execute_result",
          "data": {
            "application/vnd.google.colaboratory.intrinsic+json": {
              "type": "string"
            },
            "text/plain": [
              "'https://jovian.ai/shubham912sahu/caddy-gestures-course-project'"
            ]
          },
          "metadata": {
            "tags": []
          },
          "execution_count": 214
        }
      ]
    },
    {
      "cell_type": "markdown",
      "metadata": {
        "id": "-Q5Lcqe5sA3U"
      },
      "source": [
        "As seen from the above result we were able to acheive a highest val_accuracy of `86%` in the training which is pretty good for a first try even after scaling down the image."
      ]
    },
    {
      "cell_type": "markdown",
      "metadata": {
        "id": "bMl-agyOqHLt"
      },
      "source": [
        "## Testing with Indivisual Images\r\n",
        "Let's see how this works with test images."
      ]
    },
    {
      "cell_type": "code",
      "metadata": {
        "id": "tOrY59hIkBF2"
      },
      "source": [
        "def predict_image(img, model):\r\n",
        "    # Convert to a batch of 1\r\n",
        "    xb = to_device(img.unsqueeze(0), device)\r\n",
        "    # Get predictions from model\r\n",
        "    yb = model(xb)\r\n",
        "    # Pick index with highest probability\r\n",
        "    _, preds  = torch.max(yb, dim=1)\r\n",
        "    # Retrieve the class label\r\n",
        "    return classes[preds[0].item()]"
      ],
      "execution_count": 218,
      "outputs": []
    },
    {
      "cell_type": "code",
      "metadata": {
        "colab": {
          "base_uri": "https://localhost:8080/",
          "height": 283
        },
        "id": "rNf2nnFtkKHd",
        "outputId": "ee22055c-cec6-4569-db74-92fe25ce2e4d"
      },
      "source": [
        "img, label = test_ds[0]\r\n",
        "plt.imshow(img.permute(1, 2, 0))\r\n",
        "print('Label:', classes[label], ', Predicted:', predict_image(img, model))"
      ],
      "execution_count": 219,
      "outputs": [
        {
          "output_type": "stream",
          "text": [
            "Label: four , Predicted: four\n"
          ],
          "name": "stdout"
        },
        {
          "output_type": "display_data",
          "data": {
            "image/png": "[encoded data removed]",
            "text/plain": [
              "<Figure size 432x288 with 1 Axes>"
            ]
          },
          "metadata": {
            "tags": []
          }
        }
      ]
    },
    {
      "cell_type": "code",
      "metadata": {
        "colab": {
          "base_uri": "https://localhost:8080/",
          "height": 283
        },
        "id": "wSDihdutkKfc",
        "outputId": "5b93d737-c7f9-493f-c276-2ed2c3bba154"
      },
      "source": [
        "img, label = test_ds[199]\r\n",
        "plt.imshow(img.permute(1, 2, 0))\r\n",
        "print('Label:', classes[label], ', Predicted:', predict_image(img, model))"
      ],
      "execution_count": 221,
      "outputs": [
        {
          "output_type": "stream",
          "text": [
            "Label: photo , Predicted: photo\n"
          ],
          "name": "stdout"
        },
        {
          "output_type": "display_data",
          "data": {
            "image/png": "[encoded data removed]",
            "text/plain": [
              "<Figure size 432x288 with 1 Axes>"
            ]
          },
          "metadata": {
            "tags": []
          }
        }
      ]
    },
    {
      "cell_type": "code",
      "metadata": {
        "colab": {
          "base_uri": "https://localhost:8080/",
          "height": 283
        },
        "id": "RXZ7v3IhqkgA",
        "outputId": "ccf487c4-75f6-4918-ea4a-c1d6db9f45fc"
      },
      "source": [
        "img, label = test_ds[-1]\r\n",
        "plt.imshow(img.permute(1, 2, 0))\r\n",
        "print('Label:', classes[label], ', Predicted:', predict_image(img, model))"
      ],
      "execution_count": 222,
      "outputs": [
        {
          "output_type": "stream",
          "text": [
            "Label: boat , Predicted: boat\n"
          ],
          "name": "stdout"
        },
        {
          "output_type": "display_data",
          "data": {
            "image/png": "[encoded data removed]",
            "text/plain": [
              "<Figure size 432x288 with 1 Axes>"
            ]
          },
          "metadata": {
            "tags": []
          }
        }
      ]
    },
    {
      "cell_type": "markdown",
      "metadata": {
        "id": "tIn-B4F7q_iB"
      },
      "source": [
        "Let's also look at the overall loss and accuracy of the model on the test set"
      ]
    },
    {
      "cell_type": "code",
      "metadata": {
        "colab": {
          "base_uri": "https://localhost:8080/"
        },
        "id": "1u0RQlvlqzP2",
        "outputId": "39217ae4-7b42-4ed3-d4dd-6c96e710c989"
      },
      "source": [
        "test_loader = DeviceDataLoader(DataLoader(test_ds, batch_size*2), device)\r\n",
        "result = evaluate(model, test_loader)\r\n",
        "result"
      ],
      "execution_count": 224,
      "outputs": [
        {
          "output_type": "execute_result",
          "data": {
            "text/plain": [
              "{'val_acc': 0.8524970412254333, 'val_loss': 0.7120623588562012}"
            ]
          },
          "metadata": {
            "tags": []
          },
          "execution_count": 224
        }
      ]
    },
    {
      "cell_type": "code",
      "metadata": {
        "colab": {
          "base_uri": "https://localhost:8080/"
        },
        "id": "932BQYdxrBTr",
        "outputId": "a62e6b4c-94e6-4307-e476-1277605c2915"
      },
      "source": [
        "jovian.log_metrics(test_loss=result['val_loss'], test_acc=result['val_acc'])"
      ],
      "execution_count": 225,
      "outputs": [
        {
          "output_type": "stream",
          "text": [
            "[jovian] Metrics logged.\u001b[0m\n"
          ],
          "name": "stdout"
        }
      ]
    },
    {
      "cell_type": "markdown",
      "metadata": {
        "id": "62MMjUPNrMz4"
      },
      "source": [
        "## Saving and Loading the model\r\n",
        "Since we've trained our model for a long time and achieved a resonable accuracy, it would be a good idea to save the weights of the model to disk, so that we can reuse the model later and avoid retraining from scratch. Here's how you can save the model."
      ]
    },
    {
      "cell_type": "code",
      "metadata": {
        "id": "Xih_v0RDrKuS"
      },
      "source": [
        "torch.save(model.state_dict(), './drive/MyDrive/Colab Notebooks/caddy-gesture-cnn.pth')"
      ],
      "execution_count": 227,
      "outputs": []
    },
    {
      "cell_type": "markdown",
      "metadata": {
        "id": "LcBDVNDjr1qE"
      },
      "source": [
        "Testing our model is saved successfully\r\n"
      ]
    },
    {
      "cell_type": "code",
      "metadata": {
        "id": "hHHJaFz2rV_w"
      },
      "source": [
        "model2 = to_device(CaddyGesturesCnnModel(), device)"
      ],
      "execution_count": 229,
      "outputs": []
    },
    {
      "cell_type": "code",
      "metadata": {
        "colab": {
          "base_uri": "https://localhost:8080/"
        },
        "id": "MlmAHfVHrpCU",
        "outputId": "3746b236-c787-4592-8985-2f77dc236abd"
      },
      "source": [
        "model2.load_state_dict(torch.load('caddy-gesture-cnn.pth'))"
      ],
      "execution_count": 230,
      "outputs": [
        {
          "output_type": "execute_result",
          "data": {
            "text/plain": [
              "<All keys matched successfully>"
            ]
          },
          "metadata": {
            "tags": []
          },
          "execution_count": 230
        }
      ]
    },
    {
      "cell_type": "code",
      "metadata": {
        "colab": {
          "base_uri": "https://localhost:8080/"
        },
        "id": "ddTJPF26rvnk",
        "outputId": "423b0618-221a-49af-934e-27b74ed61794"
      },
      "source": [
        "evaluate(model2, test_loader)"
      ],
      "execution_count": 231,
      "outputs": [
        {
          "output_type": "execute_result",
          "data": {
            "text/plain": [
              "{'val_acc': 0.8524970412254333, 'val_loss': 0.7120623588562012}"
            ]
          },
          "metadata": {
            "tags": []
          },
          "execution_count": 231
        }
      ]
    },
    {
      "cell_type": "markdown",
      "metadata": {
        "id": "jzVQ1KSAr6at"
      },
      "source": [
        "Everything works fine let's save!!"
      ]
    },
    {
      "cell_type": "code",
      "metadata": {
        "colab": {
          "base_uri": "https://localhost:8080/",
          "height": 119
        },
        "id": "7fWMJSkPryB0",
        "outputId": "c7b99a25-2a82-424d-8ff2-412d82c8af29"
      },
      "source": [
        "jovian.commit(project=project_name)"
      ],
      "execution_count": 233,
      "outputs": [
        {
          "output_type": "stream",
          "text": [
            "[jovian] Detected Colab notebook...\u001b[0m\n",
            "[jovian] Uploading colab notebook to Jovian...\u001b[0m\n",
            "[jovian] Capturing environment..\u001b[0m\n",
            "[jovian] Attaching records (metrics, hyperparameters, dataset etc.)\u001b[0m\n",
            "[jovian] Committed successfully! https://jovian.ai/shubham912sahu/caddy-gestures-course-project\u001b[0m\n"
          ],
          "name": "stdout"
        },
        {
          "output_type": "execute_result",
          "data": {
            "application/vnd.google.colaboratory.intrinsic+json": {
              "type": "string"
            },
            "text/plain": [
              "'https://jovian.ai/shubham912sahu/caddy-gestures-course-project'"
            ]
          },
          "metadata": {
            "tags": []
          },
          "execution_count": 233
        }
      ]
    },
    {
      "cell_type": "code",
      "metadata": {
        "id": "L6Zcir2-r9_a"
      },
      "source": [
        ""
      ],
      "execution_count": null,
      "outputs": []
    }
  ]
}