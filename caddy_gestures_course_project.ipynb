{
  "nbformat": 4,
  "nbformat_minor": 0,
  "metadata": {
    "kernelspec": {
      "display_name": "Python 3",
      "language": "python",
      "name": "python3"
    },
    "language_info": {
      "codemirror_mode": {
        "name": "ipython",
        "version": 3
      },
      "file_extension": ".py",
      "mimetype": "text/x-python",
      "name": "python",
      "nbconvert_exporter": "python",
      "pygments_lexer": "ipython3",
      "version": "3.7.6"
    },
    "colab": {
      "name": "caddy-gestures-course-project.ipynb",
      "provenance": [],
      "collapsed_sections": [],
      "toc_visible": true,
      "include_colab_link": true
    },
    "accelerator": "GPU"
  },
  "cells": [
    {
      "cell_type": "markdown",
      "metadata": {
        "id": "view-in-github",
        "colab_type": "text"
      },
      "source": [
        "<a href=\"https://colab.research.google.com/github/ssahu912/caddy-gesture-identification/blob/main/caddy_gestures_course_project.ipynb\" target=\"_parent\"><img src=\"https://colab.research.google.com/assets/colab-badge.svg\" alt=\"Open In Colab\"/></a>"
      ]
    },
    {
      "cell_type": "code",
      "metadata": {
        "id": "yVDueJdOanqf",
        "colab": {
          "base_uri": "https://localhost:8080/"
        },
        "outputId": "4e0a6d83-456d-4294-eb12-7dae99488a61"
      },
      "source": [
        "# Jovian Commit Essentials\n",
        "# Please retain and execute this cell without modifying the contents for `jovian.commit` to work\n",
        "!pip install jovian --upgrade -q\n",
        "import jovian\n",
        "jovian.utils.colab.set_colab_file_id('1FdIwG5tk-mNrei-SVpC6SEbi9VAhL-pY')"
      ],
      "execution_count": 1,
      "outputs": [
        {
          "output_type": "stream",
          "text": [
            "\u001b[?25l\r\u001b[K     |█████                           | 10kB 24.9MB/s eta 0:00:01\r\u001b[K     |██████████                      | 20kB 28.8MB/s eta 0:00:01\r\u001b[K     |██████████████▉                 | 30kB 32.5MB/s eta 0:00:01\r\u001b[K     |███████████████████▉            | 40kB 32.5MB/s eta 0:00:01\r\u001b[K     |████████████████████████▉       | 51kB 34.0MB/s eta 0:00:01\r\u001b[K     |█████████████████████████████▊  | 61kB 36.2MB/s eta 0:00:01\r\u001b[K     |████████████████████████████████| 71kB 7.7MB/s \n",
            "\u001b[?25h  Building wheel for uuid (setup.py) ... \u001b[?25l\u001b[?25hdone\n"
          ],
          "name": "stdout"
        }
      ]
    },
    {
      "cell_type": "code",
      "metadata": {
        "id": "DVuq_uilanqm"
      },
      "source": [
        "!pip install jovian --upgrade --quiet"
      ],
      "execution_count": 2,
      "outputs": []
    },
    {
      "cell_type": "code",
      "metadata": {
        "id": "tfeRBYDSm_Y-"
      },
      "source": [
        "project_name='caddy-gestures-course-project'"
      ],
      "execution_count": 3,
      "outputs": []
    },
    {
      "cell_type": "markdown",
      "metadata": {
        "id": "sSex6sKaa9Op"
      },
      "source": [
        "# Exploring CADDY Underwater Gestures Dataset\r\n",
        "### Human-Robot Interaction (HRI) for Diver and AUVs activities\r\n",
        "This is an open access dataset distributed under the Creative Commons Attribution License which permits unrestricted use, distribution, and reproduction in any medium, provided the original work is properly cited (CC BY 4.0).\r\n",
        "<p>\r\n",
        "The dataset can be downloaded from the <a href=\"http://www.caddian.eu//assets/caddy-gestures-TMP/CADDY_gestures_complete_v2_release.zip\">link</a>.\r\n",
        "<p>\r\n",
        "Choosing this dataset of hand gestures used by divers underwater to provide instructtions in 8 different scenarios. The scenarios involved in this dataset are as follows: \r\n",
        "<table><tr>\r\n",
        "<td> <img src=\"http://www.caddian.eu//assets/caddy-gestures-TMP/biograd-A/true_positives/raw/biograd-A_00162_left.jpg\" alt=\"Drawing\" style=\"width: 250px;\"/> </td>\r\n",
        "<td> <img src=\"http://www.caddian.eu//assets/caddy-gestures-TMP/biograd-B/true_positives/raw/biograd-B_00032_right.jpg\" alt=\"Drawing\" style=\"width: 250px;\"/> </td>\r\n",
        "<td> <img src=\"http://www.caddian.eu//assets/caddy-gestures-TMP/biograd-C/true_positives/raw/biograd-C_00098_right.jpg\" alt=\"Drawing\" style=\"width: 250px;\"/> </td>\r\n",
        "<td> <img src=\"http://www.caddian.eu//assets/caddy-gestures-TMP/brodarski-A/true_positives/raw/brodarski-A_00018_right.jpg\" alt=\"Drawing\" style=\"width: 250px;\"/> </td>\r\n",
        "</tr>\r\n",
        "<td>BioGrad-A</td>\r\n",
        "<td>BioGrad-B</td>\r\n",
        "<td>BioGrad-C</td>\r\n",
        "<td>Brodarski-A</td>\r\n",
        "</tr>\r\n",
        "<tr>\r\n",
        "<td> <img src=\"http://www.caddian.eu//assets/caddy-gestures-TMP/brodarski-B/true_positives/raw/brodarski-B_00029_right.jpg\" alt=\"Drawing\" style=\"width: 250px;\"/> </td>\r\n",
        "<td> <img src=\"http://www.caddian.eu//assets/caddy-gestures-TMP/brodarski-C/true_positives/raw/brodarski-C_00006_left.jpg\" alt=\"Drawing\" style=\"width: 250px;\"/> </td>\r\n",
        "<td> <img src=\"http://www.caddian.eu//assets/caddy-gestures-TMP/brodarski-D/true_positives/raw/brodarski-D_00032_right.jpg\" alt=\"Drawing\" style=\"width: 250px;\"/> </td>\r\n",
        "<td> <img src=\"http://www.caddian.eu//assets/caddy-gestures-TMP/genova-A/true_positives/raw/genova-A_00032_right.jpg\" alt=\"Drawing\" style=\"width: 250px;\"/> </td>\r\n",
        "</tr>\r\n",
        "</tr>\r\n",
        "<td>Brodarski-B</td>\r\n",
        "<td>Brodarski-C</td>\r\n",
        "<td>Brodarski-D</td>\r\n",
        "<td>Genova-A</td>\r\n",
        "</tr>\r\n",
        "</table>\r\n",
        "It is a classification type problem where given an image of the person with the gesture the machine will identify the gesture meaning in multiple scenarios.\r\n"
      ]
    },
    {
      "cell_type": "markdown",
      "metadata": {
        "id": "4-Bp4SPthSKg"
      },
      "source": [
        "If you wish to upload the data on the drive then use this code to mount the drive so that it is available to use."
      ]
    },
    {
      "cell_type": "code",
      "metadata": {
        "colab": {
          "base_uri": "https://localhost:8080/"
        },
        "id": "vxjT2lhnjEFt",
        "outputId": "1e4e8ef6-400d-4086-edbf-907b1dc97523"
      },
      "source": [
        "from google.colab import drive\n",
        "drive.mount('/content/drive')"
      ],
      "execution_count": 4,
      "outputs": [
        {
          "output_type": "stream",
          "text": [
            "Mounted at /content/drive\n"
          ],
          "name": "stdout"
        }
      ]
    },
    {
      "cell_type": "code",
      "metadata": {
        "id": "RXS_KpkMj93W"
      },
      "source": [
        "import os\r\n",
        "import torch\r\n",
        "import torchvision\r\n",
        "import zipfile\r\n",
        "from torchvision.datasets.utils import download_url\r\n",
        "from torch.utils.data import random_split"
      ],
      "execution_count": 5,
      "outputs": []
    },
    {
      "cell_type": "markdown",
      "metadata": {
        "id": "JOQAWTYuhCTa"
      },
      "source": [
        "If you wish to download the data set and load it while running the notebook and do not want ot upload it to your drive please uncomment the below cell and execute. "
      ]
    },
    {
      "cell_type": "code",
      "metadata": {
        "id": "HzEevkfCanqm"
      },
      "source": [
        "# # Dowload the dataset\r\n",
        "dataset_url = \"http://www.caddian.eu//assets/caddy-gestures-TMP/CADDY_gestures_complete_v2_release.zip\"\r\n",
        "# download_url(dataset_url, '.')\r\n",
        "# # Extract from downloaded archive\r\n",
        "# with zipfile.ZipFile('./CADDY_gestures_complete_v2_release.zip', 'r') as zip_ref:\r\n",
        "#     zip_ref.extractall('./data')"
      ],
      "execution_count": 150,
      "outputs": []
    },
    {
      "cell_type": "code",
      "metadata": {
        "id": "qfq_coKyj3rd"
      },
      "source": [
        "# Extract from drive archive\r\n",
        "with zipfile.ZipFile('./drive/MyDrive/CADDY_gestures_complete_v2_release.zip', 'r') as zip_ref:\r\n",
        "    zip_ref.extractall('./data')"
      ],
      "execution_count": 7,
      "outputs": []
    },
    {
      "cell_type": "markdown",
      "metadata": {
        "id": "BWVb2HbwjTJZ"
      },
      "source": [
        "## Data Analysis\r\n",
        "\r\n",
        "Let's explore the data!\r\n",
        "\r\n",
        "Looking at the folder structure we see that we have 8 folders for 8 scenarios which contain raw images of multiple gestures captured by the left and right stereo.\r\n",
        "<p>\r\n",
        "The folder structure of the data is something like this:\r\n",
        "<p>\r\n",
        "data => biograd-A => true_positives => raw => image1, image2 ... imageN\r\n",
        "\r\n",
        "Let's take a look what's inside the the csv files and how are they structured!!\r\n",
        "(We'll be looking at the true positives only for the scope of the project.)"
      ]
    },
    {
      "cell_type": "code",
      "metadata": {
        "id": "tVsoEsOFg0Bh"
      },
      "source": [
        "# Importing required EDA tools\r\n",
        "import pandas as pd\r\n",
        "import numpy as np\r\n",
        "import matplotlib.pyplot as plt\r\n",
        "import seaborn as sns\r\n"
      ],
      "execution_count": 8,
      "outputs": []
    },
    {
      "cell_type": "code",
      "metadata": {
        "colab": {
          "base_uri": "https://localhost:8080/",
          "height": 578
        },
        "id": "BXE3rwgekdqb",
        "outputId": "77296831-22be-4774-ee0f-3cc12644b811"
      },
      "source": [
        "dataFromCSV = pd.read_csv('./data/CADDY_gestures_complete_v2_release/CADDY_gestures_all_true_positives_release_v2.csv', index_col='index')\r\n",
        "dataFromCSV.head(10)"
      ],
      "execution_count": 9,
      "outputs": [
        {
          "output_type": "execute_result",
          "data": {
            "text/html": [
              "<div>\n",
              "<style scoped>\n",
              "    .dataframe tbody tr th:only-of-type {\n",
              "        vertical-align: middle;\n",
              "    }\n",
              "\n",
              "    .dataframe tbody tr th {\n",
              "        vertical-align: top;\n",
              "    }\n",
              "\n",
              "    .dataframe thead th {\n",
              "        text-align: right;\n",
              "    }\n",
              "</style>\n",
              "<table border=\"1\" class=\"dataframe\">\n",
              "  <thead>\n",
              "    <tr style=\"text-align: right;\">\n",
              "      <th></th>\n",
              "      <th>scenario</th>\n",
              "      <th>stereo left</th>\n",
              "      <th>stereo right</th>\n",
              "      <th>label name</th>\n",
              "      <th>label id</th>\n",
              "      <th>roi left</th>\n",
              "      <th>roi right</th>\n",
              "      <th>synthetic</th>\n",
              "      <th>iqa_mdm_entropy</th>\n",
              "      <th>iqa_mdm_d</th>\n",
              "      <th>iqa_mdm_dcomp</th>\n",
              "      <th>distortion</th>\n",
              "      <th>param 1</th>\n",
              "      <th>param 2</th>\n",
              "    </tr>\n",
              "    <tr>\n",
              "      <th>index</th>\n",
              "      <th></th>\n",
              "      <th></th>\n",
              "      <th></th>\n",
              "      <th></th>\n",
              "      <th></th>\n",
              "      <th></th>\n",
              "      <th></th>\n",
              "      <th></th>\n",
              "      <th></th>\n",
              "      <th></th>\n",
              "      <th></th>\n",
              "      <th></th>\n",
              "      <th></th>\n",
              "      <th></th>\n",
              "    </tr>\n",
              "  </thead>\n",
              "  <tbody>\n",
              "    <tr>\n",
              "      <th>0</th>\n",
              "      <td>biograd-A</td>\n",
              "      <td>/biograd-A/true_positives/raw/biograd-A_00000_...</td>\n",
              "      <td>/biograd-A/true_positives/raw/biograd-A_00000_...</td>\n",
              "      <td>num_delimiter</td>\n",
              "      <td>10</td>\n",
              "      <td>[237,236,54,65]</td>\n",
              "      <td>[155,236,54,65]</td>\n",
              "      <td>0</td>\n",
              "      <td>6.971026</td>\n",
              "      <td>0.957653</td>\n",
              "      <td>0.902</td>\n",
              "      <td>NaN</td>\n",
              "      <td>NaN</td>\n",
              "      <td>NaN</td>\n",
              "    </tr>\n",
              "    <tr>\n",
              "      <th>1</th>\n",
              "      <td>biograd-A</td>\n",
              "      <td>/biograd-A/true_positives/blurred/dir_00/biogr...</td>\n",
              "      <td>/biograd-A/true_positives/blurred/dir_00/biogr...</td>\n",
              "      <td>num_delimiter</td>\n",
              "      <td>10</td>\n",
              "      <td>[237,236,54,65]</td>\n",
              "      <td>[155,236,54,65]</td>\n",
              "      <td>1</td>\n",
              "      <td>NaN</td>\n",
              "      <td>NaN</td>\n",
              "      <td>NaN</td>\n",
              "      <td>blur</td>\n",
              "      <td>7</td>\n",
              "      <td>NaN</td>\n",
              "    </tr>\n",
              "    <tr>\n",
              "      <th>2</th>\n",
              "      <td>biograd-A</td>\n",
              "      <td>/biograd-A/true_positives/blurred/dir_01/biogr...</td>\n",
              "      <td>/biograd-A/true_positives/blurred/dir_01/biogr...</td>\n",
              "      <td>num_delimiter</td>\n",
              "      <td>10</td>\n",
              "      <td>[237,236,54,65]</td>\n",
              "      <td>[155,236,54,65]</td>\n",
              "      <td>1</td>\n",
              "      <td>NaN</td>\n",
              "      <td>NaN</td>\n",
              "      <td>NaN</td>\n",
              "      <td>blur</td>\n",
              "      <td>11</td>\n",
              "      <td>NaN</td>\n",
              "    </tr>\n",
              "    <tr>\n",
              "      <th>3</th>\n",
              "      <td>biograd-A</td>\n",
              "      <td>/biograd-A/true_positives/blurred/dir_02/biogr...</td>\n",
              "      <td>/biograd-A/true_positives/blurred/dir_02/biogr...</td>\n",
              "      <td>num_delimiter</td>\n",
              "      <td>10</td>\n",
              "      <td>[237,236,54,65]</td>\n",
              "      <td>[155,236,54,65]</td>\n",
              "      <td>1</td>\n",
              "      <td>NaN</td>\n",
              "      <td>NaN</td>\n",
              "      <td>NaN</td>\n",
              "      <td>blur</td>\n",
              "      <td>15</td>\n",
              "      <td>NaN</td>\n",
              "    </tr>\n",
              "    <tr>\n",
              "      <th>4</th>\n",
              "      <td>biograd-A</td>\n",
              "      <td>/biograd-A/true_positives/noisy/dir_00/biograd...</td>\n",
              "      <td>/biograd-A/true_positives/noisy/dir_00/biograd...</td>\n",
              "      <td>num_delimiter</td>\n",
              "      <td>10</td>\n",
              "      <td>[237,236,54,65]</td>\n",
              "      <td>[155,236,54,65]</td>\n",
              "      <td>1</td>\n",
              "      <td>NaN</td>\n",
              "      <td>NaN</td>\n",
              "      <td>NaN</td>\n",
              "      <td>channel noise</td>\n",
              "      <td>5</td>\n",
              "      <td>NaN</td>\n",
              "    </tr>\n",
              "    <tr>\n",
              "      <th>5</th>\n",
              "      <td>biograd-A</td>\n",
              "      <td>/biograd-A/true_positives/noisy/dir_01/biograd...</td>\n",
              "      <td>/biograd-A/true_positives/noisy/dir_01/biograd...</td>\n",
              "      <td>num_delimiter</td>\n",
              "      <td>10</td>\n",
              "      <td>[237,236,54,65]</td>\n",
              "      <td>[155,236,54,65]</td>\n",
              "      <td>1</td>\n",
              "      <td>NaN</td>\n",
              "      <td>NaN</td>\n",
              "      <td>NaN</td>\n",
              "      <td>channel noise</td>\n",
              "      <td>10</td>\n",
              "      <td>NaN</td>\n",
              "    </tr>\n",
              "    <tr>\n",
              "      <th>6</th>\n",
              "      <td>biograd-A</td>\n",
              "      <td>/biograd-A/true_positives/low_contrast/dir_00/...</td>\n",
              "      <td>/biograd-A/true_positives/low_contrast/dir_00/...</td>\n",
              "      <td>num_delimiter</td>\n",
              "      <td>10</td>\n",
              "      <td>[237,236,54,65]</td>\n",
              "      <td>[155,236,54,65]</td>\n",
              "      <td>1</td>\n",
              "      <td>NaN</td>\n",
              "      <td>NaN</td>\n",
              "      <td>NaN</td>\n",
              "      <td>low contrast</td>\n",
              "      <td>0.8</td>\n",
              "      <td>NaN</td>\n",
              "    </tr>\n",
              "    <tr>\n",
              "      <th>7</th>\n",
              "      <td>biograd-A</td>\n",
              "      <td>/biograd-A/true_positives/low_contrast/dir_01/...</td>\n",
              "      <td>/biograd-A/true_positives/low_contrast/dir_01/...</td>\n",
              "      <td>num_delimiter</td>\n",
              "      <td>10</td>\n",
              "      <td>[237,236,54,65]</td>\n",
              "      <td>[155,236,54,65]</td>\n",
              "      <td>1</td>\n",
              "      <td>NaN</td>\n",
              "      <td>NaN</td>\n",
              "      <td>NaN</td>\n",
              "      <td>low contrast</td>\n",
              "      <td>0.6</td>\n",
              "      <td>NaN</td>\n",
              "    </tr>\n",
              "    <tr>\n",
              "      <th>8</th>\n",
              "      <td>biograd-A</td>\n",
              "      <td>/biograd-A/true_positives/compressed/dir_00/bi...</td>\n",
              "      <td>/biograd-A/true_positives/compressed/dir_00/bi...</td>\n",
              "      <td>num_delimiter</td>\n",
              "      <td>10</td>\n",
              "      <td>[237,236,54,65]</td>\n",
              "      <td>[155,236,54,65]</td>\n",
              "      <td>1</td>\n",
              "      <td>NaN</td>\n",
              "      <td>NaN</td>\n",
              "      <td>NaN</td>\n",
              "      <td>compression</td>\n",
              "      <td>jpeg</td>\n",
              "      <td>80.0</td>\n",
              "    </tr>\n",
              "    <tr>\n",
              "      <th>9</th>\n",
              "      <td>biograd-A</td>\n",
              "      <td>/biograd-A/true_positives/compressed/dir_01/bi...</td>\n",
              "      <td>/biograd-A/true_positives/compressed/dir_01/bi...</td>\n",
              "      <td>num_delimiter</td>\n",
              "      <td>10</td>\n",
              "      <td>[237,236,54,65]</td>\n",
              "      <td>[155,236,54,65]</td>\n",
              "      <td>1</td>\n",
              "      <td>NaN</td>\n",
              "      <td>NaN</td>\n",
              "      <td>NaN</td>\n",
              "      <td>compression</td>\n",
              "      <td>jpeg</td>\n",
              "      <td>50.0</td>\n",
              "    </tr>\n",
              "  </tbody>\n",
              "</table>\n",
              "</div>"
            ],
            "text/plain": [
              "        scenario  ... param 2\n",
              "index             ...        \n",
              "0      biograd-A  ...     NaN\n",
              "1      biograd-A  ...     NaN\n",
              "2      biograd-A  ...     NaN\n",
              "3      biograd-A  ...     NaN\n",
              "4      biograd-A  ...     NaN\n",
              "5      biograd-A  ...     NaN\n",
              "6      biograd-A  ...     NaN\n",
              "7      biograd-A  ...     NaN\n",
              "8      biograd-A  ...    80.0\n",
              "9      biograd-A  ...    50.0\n",
              "\n",
              "[10 rows x 14 columns]"
            ]
          },
          "metadata": {
            "tags": []
          },
          "execution_count": 9
        }
      ]
    },
    {
      "cell_type": "code",
      "metadata": {
        "colab": {
          "base_uri": "https://localhost:8080/"
        },
        "id": "mwVHdZgVkebr",
        "outputId": "55dc3678-b02b-4139-c106-611fbff5d2a7"
      },
      "source": [
        "dataFromCSV.info()"
      ],
      "execution_count": 10,
      "outputs": [
        {
          "output_type": "stream",
          "text": [
            "<class 'pandas.core.frame.DataFrame'>\n",
            "Int64Index: 92390 entries, 0 to 92389\n",
            "Data columns (total 14 columns):\n",
            " #   Column           Non-Null Count  Dtype  \n",
            "---  ------           --------------  -----  \n",
            " 0   scenario         92390 non-null  object \n",
            " 1   stereo left      92390 non-null  object \n",
            " 2   stereo right     92390 non-null  object \n",
            " 3   label name       92390 non-null  object \n",
            " 4   label id         92390 non-null  int64  \n",
            " 5   roi left         91790 non-null  object \n",
            " 6   roi right        91440 non-null  object \n",
            " 7   synthetic        92390 non-null  int64  \n",
            " 8   iqa_mdm_entropy  9239 non-null   float64\n",
            " 9   iqa_mdm_d        9239 non-null   float64\n",
            " 10  iqa_mdm_dcomp    9239 non-null   float64\n",
            " 11  distortion       83151 non-null  object \n",
            " 12  param 1          83151 non-null  object \n",
            " 13  param 2          18478 non-null  float64\n",
            "dtypes: float64(4), int64(2), object(8)\n",
            "memory usage: 10.6+ MB\n"
          ],
          "name": "stdout"
        }
      ]
    },
    {
      "cell_type": "code",
      "metadata": {
        "colab": {
          "base_uri": "https://localhost:8080/"
        },
        "id": "MyCdqww_zFt-",
        "outputId": "9701ba28-5ecf-465e-87e9-b7b5dbfc26b0"
      },
      "source": [
        "dataFromCSV.columns"
      ],
      "execution_count": 11,
      "outputs": [
        {
          "output_type": "execute_result",
          "data": {
            "text/plain": [
              "Index(['scenario', 'stereo left', 'stereo right', 'label name', 'label id',\n",
              "       'roi left', 'roi right', 'synthetic', 'iqa_mdm_entropy', 'iqa_mdm_d',\n",
              "       'iqa_mdm_dcomp', 'distortion', 'param 1', 'param 2'],\n",
              "      dtype='object')"
            ]
          },
          "metadata": {
            "tags": []
          },
          "execution_count": 11
        }
      ]
    },
    {
      "cell_type": "markdown",
      "metadata": {
        "id": "5c9lGiiFli0P"
      },
      "source": [
        "For the scope of the project where we are classifying the gestures we would only need the label name of the the image from the CSV.\r\n",
        "<p>\r\n",
        "Also a point worth noting is not all the images are present in the data set as mentioned in CSV. If we look closely inside each and every scenario there are 2 folders \"true_positives\" and \"true_neagtives\", and inside each of them there's only one folder called \"raw\". This means that only raw images are present and not the distorted ones.\r\n",
        "<p>\r\n",
        "Hence we'll be working on the raw set of images which are around 18,400 which is a pretty decent data size."
      ]
    },
    {
      "cell_type": "markdown",
      "metadata": {
        "id": "ErHrXCW6pXkF"
      },
      "source": [
        "Let's idenetify how many different gestures are available in the dataset."
      ]
    },
    {
      "cell_type": "code",
      "metadata": {
        "colab": {
          "base_uri": "https://localhost:8080/"
        },
        "id": "KHkMgAMakeWi",
        "outputId": "96e964a9-a877-4771-f316-651b896eb493"
      },
      "source": [
        "classes = dataFromCSV[\"label name\"].unique()\r\n",
        "classes"
      ],
      "execution_count": 12,
      "outputs": [
        {
          "output_type": "execute_result",
          "data": {
            "text/plain": [
              "array(['num_delimiter', 'five', 'end_comm', 'start_comm', 'one', 'two',\n",
              "       'three', 'four', 'up', 'down', 'backwards', 'mosaic', 'boat',\n",
              "       'carry', 'here', 'photo'], dtype=object)"
            ]
          },
          "metadata": {
            "tags": []
          },
          "execution_count": 12
        }
      ]
    },
    {
      "cell_type": "code",
      "metadata": {
        "colab": {
          "base_uri": "https://localhost:8080/"
        },
        "id": "dxltmpbxkeOx",
        "outputId": "29143646-6e63-4fe4-d6e6-59f3b6f853d2"
      },
      "source": [
        "len(classes)"
      ],
      "execution_count": 13,
      "outputs": [
        {
          "output_type": "execute_result",
          "data": {
            "text/plain": [
              "16"
            ]
          },
          "metadata": {
            "tags": []
          },
          "execution_count": 13
        }
      ]
    },
    {
      "cell_type": "markdown",
      "metadata": {
        "id": "LylATjTVpllb"
      },
      "source": [
        "We see that we have 16 unique classes hence we have to categorize the images into 16 classes.(output)"
      ]
    },
    {
      "cell_type": "markdown",
      "metadata": {
        "id": "C9kFIGU4p3sz"
      },
      "source": [
        "### Data Cleaning \r\n",
        "\r\n",
        "As we saw earlier we have a lot of missing and junk data which we need to filter out, or we can say we need to extract the useful data from the CSV and map them with the images.\r\n",
        "<p>\r\n",
        "So let's create another CSV which can help map the raw data image paths with their labels.\r\n"
      ]
    },
    {
      "cell_type": "code",
      "metadata": {
        "colab": {
          "base_uri": "https://localhost:8080/",
          "height": 430
        },
        "id": "g3UX9Y_h61gK",
        "outputId": "9337a97f-534b-4bd2-ac58-b1f763782f95"
      },
      "source": [
        "# removing distorted image data from csv\r\n",
        "dataset = dataFromCSV.loc[dataFromCSV.distortion.isnull()]\r\n",
        "dataset.head()"
      ],
      "execution_count": 16,
      "outputs": [
        {
          "output_type": "execute_result",
          "data": {
            "text/html": [
              "<div>\n",
              "<style scoped>\n",
              "    .dataframe tbody tr th:only-of-type {\n",
              "        vertical-align: middle;\n",
              "    }\n",
              "\n",
              "    .dataframe tbody tr th {\n",
              "        vertical-align: top;\n",
              "    }\n",
              "\n",
              "    .dataframe thead th {\n",
              "        text-align: right;\n",
              "    }\n",
              "</style>\n",
              "<table border=\"1\" class=\"dataframe\">\n",
              "  <thead>\n",
              "    <tr style=\"text-align: right;\">\n",
              "      <th></th>\n",
              "      <th>scenario</th>\n",
              "      <th>stereo left</th>\n",
              "      <th>stereo right</th>\n",
              "      <th>label name</th>\n",
              "      <th>label id</th>\n",
              "      <th>roi left</th>\n",
              "      <th>roi right</th>\n",
              "      <th>synthetic</th>\n",
              "      <th>iqa_mdm_entropy</th>\n",
              "      <th>iqa_mdm_d</th>\n",
              "      <th>iqa_mdm_dcomp</th>\n",
              "      <th>distortion</th>\n",
              "      <th>param 1</th>\n",
              "      <th>param 2</th>\n",
              "    </tr>\n",
              "    <tr>\n",
              "      <th>index</th>\n",
              "      <th></th>\n",
              "      <th></th>\n",
              "      <th></th>\n",
              "      <th></th>\n",
              "      <th></th>\n",
              "      <th></th>\n",
              "      <th></th>\n",
              "      <th></th>\n",
              "      <th></th>\n",
              "      <th></th>\n",
              "      <th></th>\n",
              "      <th></th>\n",
              "      <th></th>\n",
              "      <th></th>\n",
              "    </tr>\n",
              "  </thead>\n",
              "  <tbody>\n",
              "    <tr>\n",
              "      <th>0</th>\n",
              "      <td>biograd-A</td>\n",
              "      <td>/biograd-A/true_positives/raw/biograd-A_00000_...</td>\n",
              "      <td>/biograd-A/true_positives/raw/biograd-A_00000_...</td>\n",
              "      <td>num_delimiter</td>\n",
              "      <td>10</td>\n",
              "      <td>[237,236,54,65]</td>\n",
              "      <td>[155,236,54,65]</td>\n",
              "      <td>0</td>\n",
              "      <td>6.971026</td>\n",
              "      <td>0.957653</td>\n",
              "      <td>0.902000</td>\n",
              "      <td>NaN</td>\n",
              "      <td>NaN</td>\n",
              "      <td>NaN</td>\n",
              "    </tr>\n",
              "    <tr>\n",
              "      <th>10</th>\n",
              "      <td>biograd-A</td>\n",
              "      <td>/biograd-A/true_positives/raw/biograd-A_00001_...</td>\n",
              "      <td>/biograd-A/true_positives/raw/biograd-A_00001_...</td>\n",
              "      <td>num_delimiter</td>\n",
              "      <td>10</td>\n",
              "      <td>[230,230,61,79]</td>\n",
              "      <td>[147,230,61,79]</td>\n",
              "      <td>0</td>\n",
              "      <td>6.977803</td>\n",
              "      <td>0.958442</td>\n",
              "      <td>0.885512</td>\n",
              "      <td>NaN</td>\n",
              "      <td>NaN</td>\n",
              "      <td>NaN</td>\n",
              "    </tr>\n",
              "    <tr>\n",
              "      <th>20</th>\n",
              "      <td>biograd-A</td>\n",
              "      <td>/biograd-A/true_positives/raw/biograd-A_00002_...</td>\n",
              "      <td>/biograd-A/true_positives/raw/biograd-A_00002_...</td>\n",
              "      <td>num_delimiter</td>\n",
              "      <td>10</td>\n",
              "      <td>[222,230,72,75]</td>\n",
              "      <td>[139,230,72,75]</td>\n",
              "      <td>0</td>\n",
              "      <td>6.930135</td>\n",
              "      <td>0.958565</td>\n",
              "      <td>0.885733</td>\n",
              "      <td>NaN</td>\n",
              "      <td>NaN</td>\n",
              "      <td>NaN</td>\n",
              "    </tr>\n",
              "    <tr>\n",
              "      <th>30</th>\n",
              "      <td>biograd-A</td>\n",
              "      <td>/biograd-A/true_positives/raw/biograd-A_00003_...</td>\n",
              "      <td>/biograd-A/true_positives/raw/biograd-A_00003_...</td>\n",
              "      <td>num_delimiter</td>\n",
              "      <td>10</td>\n",
              "      <td>[231,231,62,83]</td>\n",
              "      <td>[148,231,62,83]</td>\n",
              "      <td>0</td>\n",
              "      <td>6.948746</td>\n",
              "      <td>0.958243</td>\n",
              "      <td>0.885593</td>\n",
              "      <td>NaN</td>\n",
              "      <td>NaN</td>\n",
              "      <td>NaN</td>\n",
              "    </tr>\n",
              "    <tr>\n",
              "      <th>40</th>\n",
              "      <td>biograd-A</td>\n",
              "      <td>/biograd-A/true_positives/raw/biograd-A_00004_...</td>\n",
              "      <td>/biograd-A/true_positives/raw/biograd-A_00004_...</td>\n",
              "      <td>num_delimiter</td>\n",
              "      <td>10</td>\n",
              "      <td>[222,219,70,76]</td>\n",
              "      <td>[138,219,70,76]</td>\n",
              "      <td>0</td>\n",
              "      <td>7.175039</td>\n",
              "      <td>0.955913</td>\n",
              "      <td>0.875217</td>\n",
              "      <td>NaN</td>\n",
              "      <td>NaN</td>\n",
              "      <td>NaN</td>\n",
              "    </tr>\n",
              "  </tbody>\n",
              "</table>\n",
              "</div>"
            ],
            "text/plain": [
              "        scenario  ... param 2\n",
              "index             ...        \n",
              "0      biograd-A  ...     NaN\n",
              "10     biograd-A  ...     NaN\n",
              "20     biograd-A  ...     NaN\n",
              "30     biograd-A  ...     NaN\n",
              "40     biograd-A  ...     NaN\n",
              "\n",
              "[5 rows x 14 columns]"
            ]
          },
          "metadata": {
            "tags": []
          },
          "execution_count": 16
        }
      ]
    },
    {
      "cell_type": "code",
      "metadata": {
        "id": "-6XzTX2ApxML",
        "colab": {
          "base_uri": "https://localhost:8080/",
          "height": 225
        },
        "outputId": "15781559-4516-4c92-b67e-3cc7e77bf887"
      },
      "source": [
        "# removing irrelevant columns from the data\r\n",
        "dataset = dataset.drop(labels=['roi left', 'roi right', 'synthetic', 'iqa_mdm_entropy', 'iqa_mdm_d',\r\n",
        "                                   'iqa_mdm_dcomp', 'distortion', 'param 1', 'param 2'], axis=1)\r\n",
        "dataset.head()"
      ],
      "execution_count": 17,
      "outputs": [
        {
          "output_type": "execute_result",
          "data": {
            "text/html": [
              "<div>\n",
              "<style scoped>\n",
              "    .dataframe tbody tr th:only-of-type {\n",
              "        vertical-align: middle;\n",
              "    }\n",
              "\n",
              "    .dataframe tbody tr th {\n",
              "        vertical-align: top;\n",
              "    }\n",
              "\n",
              "    .dataframe thead th {\n",
              "        text-align: right;\n",
              "    }\n",
              "</style>\n",
              "<table border=\"1\" class=\"dataframe\">\n",
              "  <thead>\n",
              "    <tr style=\"text-align: right;\">\n",
              "      <th></th>\n",
              "      <th>scenario</th>\n",
              "      <th>stereo left</th>\n",
              "      <th>stereo right</th>\n",
              "      <th>label name</th>\n",
              "      <th>label id</th>\n",
              "    </tr>\n",
              "    <tr>\n",
              "      <th>index</th>\n",
              "      <th></th>\n",
              "      <th></th>\n",
              "      <th></th>\n",
              "      <th></th>\n",
              "      <th></th>\n",
              "    </tr>\n",
              "  </thead>\n",
              "  <tbody>\n",
              "    <tr>\n",
              "      <th>0</th>\n",
              "      <td>biograd-A</td>\n",
              "      <td>/biograd-A/true_positives/raw/biograd-A_00000_...</td>\n",
              "      <td>/biograd-A/true_positives/raw/biograd-A_00000_...</td>\n",
              "      <td>num_delimiter</td>\n",
              "      <td>10</td>\n",
              "    </tr>\n",
              "    <tr>\n",
              "      <th>10</th>\n",
              "      <td>biograd-A</td>\n",
              "      <td>/biograd-A/true_positives/raw/biograd-A_00001_...</td>\n",
              "      <td>/biograd-A/true_positives/raw/biograd-A_00001_...</td>\n",
              "      <td>num_delimiter</td>\n",
              "      <td>10</td>\n",
              "    </tr>\n",
              "    <tr>\n",
              "      <th>20</th>\n",
              "      <td>biograd-A</td>\n",
              "      <td>/biograd-A/true_positives/raw/biograd-A_00002_...</td>\n",
              "      <td>/biograd-A/true_positives/raw/biograd-A_00002_...</td>\n",
              "      <td>num_delimiter</td>\n",
              "      <td>10</td>\n",
              "    </tr>\n",
              "    <tr>\n",
              "      <th>30</th>\n",
              "      <td>biograd-A</td>\n",
              "      <td>/biograd-A/true_positives/raw/biograd-A_00003_...</td>\n",
              "      <td>/biograd-A/true_positives/raw/biograd-A_00003_...</td>\n",
              "      <td>num_delimiter</td>\n",
              "      <td>10</td>\n",
              "    </tr>\n",
              "    <tr>\n",
              "      <th>40</th>\n",
              "      <td>biograd-A</td>\n",
              "      <td>/biograd-A/true_positives/raw/biograd-A_00004_...</td>\n",
              "      <td>/biograd-A/true_positives/raw/biograd-A_00004_...</td>\n",
              "      <td>num_delimiter</td>\n",
              "      <td>10</td>\n",
              "    </tr>\n",
              "  </tbody>\n",
              "</table>\n",
              "</div>"
            ],
            "text/plain": [
              "        scenario  ... label id\n",
              "index             ...         \n",
              "0      biograd-A  ...       10\n",
              "10     biograd-A  ...       10\n",
              "20     biograd-A  ...       10\n",
              "30     biograd-A  ...       10\n",
              "40     biograd-A  ...       10\n",
              "\n",
              "[5 rows x 5 columns]"
            ]
          },
          "metadata": {
            "tags": []
          },
          "execution_count": 17
        }
      ]
    },
    {
      "cell_type": "markdown",
      "metadata": {
        "id": "Q6kgdErtnCWo"
      },
      "source": [
        "Since we have images from 2 stereos left and right which have almost similar image we would like to negate the difference between the left and right stereo. Hence altering the CSV to increase the size of Dataset."
      ]
    },
    {
      "cell_type": "code",
      "metadata": {
        "colab": {
          "base_uri": "https://localhost:8080/",
          "height": 431
        },
        "id": "CyvagHR4j03H",
        "outputId": "1101f9d9-9766-4196-ec66-cfe885bc4c2d"
      },
      "source": [
        "dataset_right_stereo = dataset.drop(labels = [\"stereo left\"],axis=1)\r\n",
        "dataset_right_stereo.rename(columns = {\"stereo right\": 'stereo'}, inplace = True)\r\n",
        "dataset_right_stereo"
      ],
      "execution_count": 22,
      "outputs": [
        {
          "output_type": "execute_result",
          "data": {
            "text/html": [
              "<div>\n",
              "<style scoped>\n",
              "    .dataframe tbody tr th:only-of-type {\n",
              "        vertical-align: middle;\n",
              "    }\n",
              "\n",
              "    .dataframe tbody tr th {\n",
              "        vertical-align: top;\n",
              "    }\n",
              "\n",
              "    .dataframe thead th {\n",
              "        text-align: right;\n",
              "    }\n",
              "</style>\n",
              "<table border=\"1\" class=\"dataframe\">\n",
              "  <thead>\n",
              "    <tr style=\"text-align: right;\">\n",
              "      <th></th>\n",
              "      <th>scenario</th>\n",
              "      <th>stereo</th>\n",
              "      <th>label name</th>\n",
              "      <th>label id</th>\n",
              "    </tr>\n",
              "    <tr>\n",
              "      <th>index</th>\n",
              "      <th></th>\n",
              "      <th></th>\n",
              "      <th></th>\n",
              "      <th></th>\n",
              "    </tr>\n",
              "  </thead>\n",
              "  <tbody>\n",
              "    <tr>\n",
              "      <th>0</th>\n",
              "      <td>biograd-A</td>\n",
              "      <td>/biograd-A/true_positives/raw/biograd-A_00000_...</td>\n",
              "      <td>num_delimiter</td>\n",
              "      <td>10</td>\n",
              "    </tr>\n",
              "    <tr>\n",
              "      <th>10</th>\n",
              "      <td>biograd-A</td>\n",
              "      <td>/biograd-A/true_positives/raw/biograd-A_00001_...</td>\n",
              "      <td>num_delimiter</td>\n",
              "      <td>10</td>\n",
              "    </tr>\n",
              "    <tr>\n",
              "      <th>20</th>\n",
              "      <td>biograd-A</td>\n",
              "      <td>/biograd-A/true_positives/raw/biograd-A_00002_...</td>\n",
              "      <td>num_delimiter</td>\n",
              "      <td>10</td>\n",
              "    </tr>\n",
              "    <tr>\n",
              "      <th>30</th>\n",
              "      <td>biograd-A</td>\n",
              "      <td>/biograd-A/true_positives/raw/biograd-A_00003_...</td>\n",
              "      <td>num_delimiter</td>\n",
              "      <td>10</td>\n",
              "    </tr>\n",
              "    <tr>\n",
              "      <th>40</th>\n",
              "      <td>biograd-A</td>\n",
              "      <td>/biograd-A/true_positives/raw/biograd-A_00004_...</td>\n",
              "      <td>num_delimiter</td>\n",
              "      <td>10</td>\n",
              "    </tr>\n",
              "    <tr>\n",
              "      <th>...</th>\n",
              "      <td>...</td>\n",
              "      <td>...</td>\n",
              "      <td>...</td>\n",
              "      <td>...</td>\n",
              "    </tr>\n",
              "    <tr>\n",
              "      <th>92340</th>\n",
              "      <td>genova-A</td>\n",
              "      <td>/genova-A/true_positives/raw/genova-A_03315_ri...</td>\n",
              "      <td>end_comm</td>\n",
              "      <td>1</td>\n",
              "    </tr>\n",
              "    <tr>\n",
              "      <th>92350</th>\n",
              "      <td>genova-A</td>\n",
              "      <td>/genova-A/true_positives/raw/genova-A_03316_ri...</td>\n",
              "      <td>end_comm</td>\n",
              "      <td>1</td>\n",
              "    </tr>\n",
              "    <tr>\n",
              "      <th>92360</th>\n",
              "      <td>genova-A</td>\n",
              "      <td>/genova-A/true_positives/raw/genova-A_03317_ri...</td>\n",
              "      <td>end_comm</td>\n",
              "      <td>1</td>\n",
              "    </tr>\n",
              "    <tr>\n",
              "      <th>92370</th>\n",
              "      <td>genova-A</td>\n",
              "      <td>/genova-A/true_positives/raw/genova-A_03318_ri...</td>\n",
              "      <td>end_comm</td>\n",
              "      <td>1</td>\n",
              "    </tr>\n",
              "    <tr>\n",
              "      <th>92380</th>\n",
              "      <td>genova-A</td>\n",
              "      <td>/genova-A/true_positives/raw/genova-A_03319_ri...</td>\n",
              "      <td>end_comm</td>\n",
              "      <td>1</td>\n",
              "    </tr>\n",
              "  </tbody>\n",
              "</table>\n",
              "<p>9239 rows × 4 columns</p>\n",
              "</div>"
            ],
            "text/plain": [
              "        scenario  ... label id\n",
              "index             ...         \n",
              "0      biograd-A  ...       10\n",
              "10     biograd-A  ...       10\n",
              "20     biograd-A  ...       10\n",
              "30     biograd-A  ...       10\n",
              "40     biograd-A  ...       10\n",
              "...          ...  ...      ...\n",
              "92340   genova-A  ...        1\n",
              "92350   genova-A  ...        1\n",
              "92360   genova-A  ...        1\n",
              "92370   genova-A  ...        1\n",
              "92380   genova-A  ...        1\n",
              "\n",
              "[9239 rows x 4 columns]"
            ]
          },
          "metadata": {
            "tags": []
          },
          "execution_count": 22
        }
      ]
    },
    {
      "cell_type": "code",
      "metadata": {
        "colab": {
          "base_uri": "https://localhost:8080/",
          "height": 431
        },
        "id": "mfRpU0e9mNYa",
        "outputId": "828909f0-695d-4e13-f1a7-80d0d788e3c7"
      },
      "source": [
        "dataset_left_stereo = dataset.drop(labels = [\"stereo right\"],axis=1)\r\n",
        "dataset_left_stereo.rename(columns = {\"stereo left\": 'stereo'}, inplace = True)\r\n",
        "dataset_left_stereo"
      ],
      "execution_count": 23,
      "outputs": [
        {
          "output_type": "execute_result",
          "data": {
            "text/html": [
              "<div>\n",
              "<style scoped>\n",
              "    .dataframe tbody tr th:only-of-type {\n",
              "        vertical-align: middle;\n",
              "    }\n",
              "\n",
              "    .dataframe tbody tr th {\n",
              "        vertical-align: top;\n",
              "    }\n",
              "\n",
              "    .dataframe thead th {\n",
              "        text-align: right;\n",
              "    }\n",
              "</style>\n",
              "<table border=\"1\" class=\"dataframe\">\n",
              "  <thead>\n",
              "    <tr style=\"text-align: right;\">\n",
              "      <th></th>\n",
              "      <th>scenario</th>\n",
              "      <th>stereo</th>\n",
              "      <th>label name</th>\n",
              "      <th>label id</th>\n",
              "    </tr>\n",
              "    <tr>\n",
              "      <th>index</th>\n",
              "      <th></th>\n",
              "      <th></th>\n",
              "      <th></th>\n",
              "      <th></th>\n",
              "    </tr>\n",
              "  </thead>\n",
              "  <tbody>\n",
              "    <tr>\n",
              "      <th>0</th>\n",
              "      <td>biograd-A</td>\n",
              "      <td>/biograd-A/true_positives/raw/biograd-A_00000_...</td>\n",
              "      <td>num_delimiter</td>\n",
              "      <td>10</td>\n",
              "    </tr>\n",
              "    <tr>\n",
              "      <th>10</th>\n",
              "      <td>biograd-A</td>\n",
              "      <td>/biograd-A/true_positives/raw/biograd-A_00001_...</td>\n",
              "      <td>num_delimiter</td>\n",
              "      <td>10</td>\n",
              "    </tr>\n",
              "    <tr>\n",
              "      <th>20</th>\n",
              "      <td>biograd-A</td>\n",
              "      <td>/biograd-A/true_positives/raw/biograd-A_00002_...</td>\n",
              "      <td>num_delimiter</td>\n",
              "      <td>10</td>\n",
              "    </tr>\n",
              "    <tr>\n",
              "      <th>30</th>\n",
              "      <td>biograd-A</td>\n",
              "      <td>/biograd-A/true_positives/raw/biograd-A_00003_...</td>\n",
              "      <td>num_delimiter</td>\n",
              "      <td>10</td>\n",
              "    </tr>\n",
              "    <tr>\n",
              "      <th>40</th>\n",
              "      <td>biograd-A</td>\n",
              "      <td>/biograd-A/true_positives/raw/biograd-A_00004_...</td>\n",
              "      <td>num_delimiter</td>\n",
              "      <td>10</td>\n",
              "    </tr>\n",
              "    <tr>\n",
              "      <th>...</th>\n",
              "      <td>...</td>\n",
              "      <td>...</td>\n",
              "      <td>...</td>\n",
              "      <td>...</td>\n",
              "    </tr>\n",
              "    <tr>\n",
              "      <th>92340</th>\n",
              "      <td>genova-A</td>\n",
              "      <td>/genova-A/true_positives/raw/genova-A_03315_le...</td>\n",
              "      <td>end_comm</td>\n",
              "      <td>1</td>\n",
              "    </tr>\n",
              "    <tr>\n",
              "      <th>92350</th>\n",
              "      <td>genova-A</td>\n",
              "      <td>/genova-A/true_positives/raw/genova-A_03316_le...</td>\n",
              "      <td>end_comm</td>\n",
              "      <td>1</td>\n",
              "    </tr>\n",
              "    <tr>\n",
              "      <th>92360</th>\n",
              "      <td>genova-A</td>\n",
              "      <td>/genova-A/true_positives/raw/genova-A_03317_le...</td>\n",
              "      <td>end_comm</td>\n",
              "      <td>1</td>\n",
              "    </tr>\n",
              "    <tr>\n",
              "      <th>92370</th>\n",
              "      <td>genova-A</td>\n",
              "      <td>/genova-A/true_positives/raw/genova-A_03318_le...</td>\n",
              "      <td>end_comm</td>\n",
              "      <td>1</td>\n",
              "    </tr>\n",
              "    <tr>\n",
              "      <th>92380</th>\n",
              "      <td>genova-A</td>\n",
              "      <td>/genova-A/true_positives/raw/genova-A_03319_le...</td>\n",
              "      <td>end_comm</td>\n",
              "      <td>1</td>\n",
              "    </tr>\n",
              "  </tbody>\n",
              "</table>\n",
              "<p>9239 rows × 4 columns</p>\n",
              "</div>"
            ],
            "text/plain": [
              "        scenario  ... label id\n",
              "index             ...         \n",
              "0      biograd-A  ...       10\n",
              "10     biograd-A  ...       10\n",
              "20     biograd-A  ...       10\n",
              "30     biograd-A  ...       10\n",
              "40     biograd-A  ...       10\n",
              "...          ...  ...      ...\n",
              "92340   genova-A  ...        1\n",
              "92350   genova-A  ...        1\n",
              "92360   genova-A  ...        1\n",
              "92370   genova-A  ...        1\n",
              "92380   genova-A  ...        1\n",
              "\n",
              "[9239 rows x 4 columns]"
            ]
          },
          "metadata": {
            "tags": []
          },
          "execution_count": 23
        }
      ]
    },
    {
      "cell_type": "code",
      "metadata": {
        "colab": {
          "base_uri": "https://localhost:8080/"
        },
        "id": "gaO1Kc_lmV5H",
        "outputId": "176b5811-6aa8-4374-a1cd-d2beb4515d86"
      },
      "source": [
        "# Concatenate the two dataframes created above \r\n",
        "dataset_v1 = pd.concat([dataset_left_stereo,dataset_right_stereo], ignore_index=True)\r\n",
        "dataset_v1.info()"
      ],
      "execution_count": 26,
      "outputs": [
        {
          "output_type": "stream",
          "text": [
            "<class 'pandas.core.frame.DataFrame'>\n",
            "RangeIndex: 18478 entries, 0 to 18477\n",
            "Data columns (total 4 columns):\n",
            " #   Column      Non-Null Count  Dtype \n",
            "---  ------      --------------  ----- \n",
            " 0   scenario    18478 non-null  object\n",
            " 1   stereo      18478 non-null  object\n",
            " 2   label name  18478 non-null  object\n",
            " 3   label id    18478 non-null  int64 \n",
            "dtypes: int64(1), object(3)\n",
            "memory usage: 577.6+ KB\n"
          ],
          "name": "stdout"
        }
      ]
    },
    {
      "cell_type": "code",
      "metadata": {
        "colab": {
          "base_uri": "https://localhost:8080/",
          "height": 195
        },
        "id": "7K2V78_7oLUv",
        "outputId": "28a42dfb-7789-4e6d-fa46-1255f8119879"
      },
      "source": [
        "dataset_v1.head()"
      ],
      "execution_count": 27,
      "outputs": [
        {
          "output_type": "execute_result",
          "data": {
            "text/html": [
              "<div>\n",
              "<style scoped>\n",
              "    .dataframe tbody tr th:only-of-type {\n",
              "        vertical-align: middle;\n",
              "    }\n",
              "\n",
              "    .dataframe tbody tr th {\n",
              "        vertical-align: top;\n",
              "    }\n",
              "\n",
              "    .dataframe thead th {\n",
              "        text-align: right;\n",
              "    }\n",
              "</style>\n",
              "<table border=\"1\" class=\"dataframe\">\n",
              "  <thead>\n",
              "    <tr style=\"text-align: right;\">\n",
              "      <th></th>\n",
              "      <th>scenario</th>\n",
              "      <th>stereo</th>\n",
              "      <th>label name</th>\n",
              "      <th>label id</th>\n",
              "    </tr>\n",
              "  </thead>\n",
              "  <tbody>\n",
              "    <tr>\n",
              "      <th>0</th>\n",
              "      <td>biograd-A</td>\n",
              "      <td>/biograd-A/true_positives/raw/biograd-A_00000_...</td>\n",
              "      <td>num_delimiter</td>\n",
              "      <td>10</td>\n",
              "    </tr>\n",
              "    <tr>\n",
              "      <th>1</th>\n",
              "      <td>biograd-A</td>\n",
              "      <td>/biograd-A/true_positives/raw/biograd-A_00001_...</td>\n",
              "      <td>num_delimiter</td>\n",
              "      <td>10</td>\n",
              "    </tr>\n",
              "    <tr>\n",
              "      <th>2</th>\n",
              "      <td>biograd-A</td>\n",
              "      <td>/biograd-A/true_positives/raw/biograd-A_00002_...</td>\n",
              "      <td>num_delimiter</td>\n",
              "      <td>10</td>\n",
              "    </tr>\n",
              "    <tr>\n",
              "      <th>3</th>\n",
              "      <td>biograd-A</td>\n",
              "      <td>/biograd-A/true_positives/raw/biograd-A_00003_...</td>\n",
              "      <td>num_delimiter</td>\n",
              "      <td>10</td>\n",
              "    </tr>\n",
              "    <tr>\n",
              "      <th>4</th>\n",
              "      <td>biograd-A</td>\n",
              "      <td>/biograd-A/true_positives/raw/biograd-A_00004_...</td>\n",
              "      <td>num_delimiter</td>\n",
              "      <td>10</td>\n",
              "    </tr>\n",
              "  </tbody>\n",
              "</table>\n",
              "</div>"
            ],
            "text/plain": [
              "    scenario  ... label id\n",
              "0  biograd-A  ...       10\n",
              "1  biograd-A  ...       10\n",
              "2  biograd-A  ...       10\n",
              "3  biograd-A  ...       10\n",
              "4  biograd-A  ...       10\n",
              "\n",
              "[5 rows x 4 columns]"
            ]
          },
          "metadata": {
            "tags": []
          },
          "execution_count": 27
        }
      ]
    },
    {
      "cell_type": "markdown",
      "metadata": {
        "id": "ndcyTtigoJlK"
      },
      "source": [
        "As we can see in the output of the above cell we can say that the stereo column contains the path to image and the label name contains the information of the gesture performed.\r\n",
        "<p>\r\n",
        "So let's rename the stereo column to imagePath"
      ]
    },
    {
      "cell_type": "code",
      "metadata": {
        "colab": {
          "base_uri": "https://localhost:8080/",
          "height": 402
        },
        "id": "19RC-pP1ouvs",
        "outputId": "fca92d86-f3ad-4199-f95f-dd3c2ab7dfc7"
      },
      "source": [
        "dataset_v1.rename(columns={\"stereo\":\"imagePath\"},inplace=True)\r\n",
        "dataset_v1"
      ],
      "execution_count": 28,
      "outputs": [
        {
          "output_type": "execute_result",
          "data": {
            "text/html": [
              "<div>\n",
              "<style scoped>\n",
              "    .dataframe tbody tr th:only-of-type {\n",
              "        vertical-align: middle;\n",
              "    }\n",
              "\n",
              "    .dataframe tbody tr th {\n",
              "        vertical-align: top;\n",
              "    }\n",
              "\n",
              "    .dataframe thead th {\n",
              "        text-align: right;\n",
              "    }\n",
              "</style>\n",
              "<table border=\"1\" class=\"dataframe\">\n",
              "  <thead>\n",
              "    <tr style=\"text-align: right;\">\n",
              "      <th></th>\n",
              "      <th>scenario</th>\n",
              "      <th>imagePath</th>\n",
              "      <th>label name</th>\n",
              "      <th>label id</th>\n",
              "    </tr>\n",
              "  </thead>\n",
              "  <tbody>\n",
              "    <tr>\n",
              "      <th>0</th>\n",
              "      <td>biograd-A</td>\n",
              "      <td>/biograd-A/true_positives/raw/biograd-A_00000_...</td>\n",
              "      <td>num_delimiter</td>\n",
              "      <td>10</td>\n",
              "    </tr>\n",
              "    <tr>\n",
              "      <th>1</th>\n",
              "      <td>biograd-A</td>\n",
              "      <td>/biograd-A/true_positives/raw/biograd-A_00001_...</td>\n",
              "      <td>num_delimiter</td>\n",
              "      <td>10</td>\n",
              "    </tr>\n",
              "    <tr>\n",
              "      <th>2</th>\n",
              "      <td>biograd-A</td>\n",
              "      <td>/biograd-A/true_positives/raw/biograd-A_00002_...</td>\n",
              "      <td>num_delimiter</td>\n",
              "      <td>10</td>\n",
              "    </tr>\n",
              "    <tr>\n",
              "      <th>3</th>\n",
              "      <td>biograd-A</td>\n",
              "      <td>/biograd-A/true_positives/raw/biograd-A_00003_...</td>\n",
              "      <td>num_delimiter</td>\n",
              "      <td>10</td>\n",
              "    </tr>\n",
              "    <tr>\n",
              "      <th>4</th>\n",
              "      <td>biograd-A</td>\n",
              "      <td>/biograd-A/true_positives/raw/biograd-A_00004_...</td>\n",
              "      <td>num_delimiter</td>\n",
              "      <td>10</td>\n",
              "    </tr>\n",
              "    <tr>\n",
              "      <th>...</th>\n",
              "      <td>...</td>\n",
              "      <td>...</td>\n",
              "      <td>...</td>\n",
              "      <td>...</td>\n",
              "    </tr>\n",
              "    <tr>\n",
              "      <th>18473</th>\n",
              "      <td>genova-A</td>\n",
              "      <td>/genova-A/true_positives/raw/genova-A_03315_ri...</td>\n",
              "      <td>end_comm</td>\n",
              "      <td>1</td>\n",
              "    </tr>\n",
              "    <tr>\n",
              "      <th>18474</th>\n",
              "      <td>genova-A</td>\n",
              "      <td>/genova-A/true_positives/raw/genova-A_03316_ri...</td>\n",
              "      <td>end_comm</td>\n",
              "      <td>1</td>\n",
              "    </tr>\n",
              "    <tr>\n",
              "      <th>18475</th>\n",
              "      <td>genova-A</td>\n",
              "      <td>/genova-A/true_positives/raw/genova-A_03317_ri...</td>\n",
              "      <td>end_comm</td>\n",
              "      <td>1</td>\n",
              "    </tr>\n",
              "    <tr>\n",
              "      <th>18476</th>\n",
              "      <td>genova-A</td>\n",
              "      <td>/genova-A/true_positives/raw/genova-A_03318_ri...</td>\n",
              "      <td>end_comm</td>\n",
              "      <td>1</td>\n",
              "    </tr>\n",
              "    <tr>\n",
              "      <th>18477</th>\n",
              "      <td>genova-A</td>\n",
              "      <td>/genova-A/true_positives/raw/genova-A_03319_ri...</td>\n",
              "      <td>end_comm</td>\n",
              "      <td>1</td>\n",
              "    </tr>\n",
              "  </tbody>\n",
              "</table>\n",
              "<p>18478 rows × 4 columns</p>\n",
              "</div>"
            ],
            "text/plain": [
              "        scenario  ... label id\n",
              "0      biograd-A  ...       10\n",
              "1      biograd-A  ...       10\n",
              "2      biograd-A  ...       10\n",
              "3      biograd-A  ...       10\n",
              "4      biograd-A  ...       10\n",
              "...          ...  ...      ...\n",
              "18473   genova-A  ...        1\n",
              "18474   genova-A  ...        1\n",
              "18475   genova-A  ...        1\n",
              "18476   genova-A  ...        1\n",
              "18477   genova-A  ...        1\n",
              "\n",
              "[18478 rows x 4 columns]"
            ]
          },
          "metadata": {
            "tags": []
          },
          "execution_count": 28
        }
      ]
    },
    {
      "cell_type": "code",
      "metadata": {
        "colab": {
          "base_uri": "https://localhost:8080/"
        },
        "id": "l1r7FSEI8qsN",
        "outputId": "fb7bde93-1489-43e1-cdd7-65a9b409cdaa"
      },
      "source": [
        "classes = dataset_v1.filter(items=[\"label name\",\"label id\"])\r\n",
        "classes = classes.set_index('label id').to_dict('dict')\r\n",
        "classes = classes['label name']\r\n",
        "classes"
      ],
      "execution_count": 139,
      "outputs": [
        {
          "output_type": "execute_result",
          "data": {
            "text/plain": [
              "{0: 'start_comm',\n",
              " 1: 'end_comm',\n",
              " 2: 'up',\n",
              " 3: 'down',\n",
              " 4: 'photo',\n",
              " 5: 'backwards',\n",
              " 6: 'carry',\n",
              " 7: 'boat',\n",
              " 8: 'here',\n",
              " 9: 'mosaic',\n",
              " 10: 'num_delimiter',\n",
              " 11: 'one',\n",
              " 12: 'two',\n",
              " 13: 'three',\n",
              " 14: 'four',\n",
              " 15: 'five'}"
            ]
          },
          "metadata": {
            "tags": []
          },
          "execution_count": 139
        }
      ]
    },
    {
      "cell_type": "code",
      "metadata": {
        "id": "1leaxZoJuYK-"
      },
      "source": [
        "dataset_v1.to_csv(\"./drive/MyDrive/Colab Notebooks/caddy-gesture-transformedV1.csv\")"
      ],
      "execution_count": 45,
      "outputs": []
    },
    {
      "cell_type": "code",
      "metadata": {
        "id": "FInzuH_Kl0_O"
      },
      "source": [
        "!pip install jovian --upgrade --quiet"
      ],
      "execution_count": 142,
      "outputs": []
    },
    {
      "cell_type": "code",
      "metadata": {
        "id": "IcwofBoUnJwz"
      },
      "source": [
        "import jovian"
      ],
      "execution_count": 143,
      "outputs": []
    },
    {
      "cell_type": "code",
      "metadata": {
        "colab": {
          "base_uri": "https://localhost:8080/",
          "height": 119
        },
        "id": "bSlxrjNCnNqx",
        "outputId": "5756fcb2-1892-41e2-f030-13c6b646088b"
      },
      "source": [
        "jovian.commit(project=project_name)"
      ],
      "execution_count": 152,
      "outputs": [
        {
          "output_type": "stream",
          "text": [
            "[jovian] Detected Colab notebook...\u001b[0m\n",
            "[jovian] Uploading colab notebook to Jovian...\u001b[0m\n",
            "[jovian] Capturing environment..\u001b[0m\n",
            "[jovian] Attaching records (metrics, hyperparameters, dataset etc.)\u001b[0m\n",
            "[jovian] Committed successfully! https://jovian.ai/shubham912sahu/caddy-gestures-course-project\u001b[0m\n"
          ],
          "name": "stdout"
        },
        {
          "output_type": "execute_result",
          "data": {
            "application/vnd.google.colaboratory.intrinsic+json": {
              "type": "string"
            },
            "text/plain": [
              "'https://jovian.ai/shubham912sahu/caddy-gestures-course-project'"
            ]
          },
          "metadata": {
            "tags": []
          },
          "execution_count": 152
        }
      ]
    },
    {
      "cell_type": "code",
      "metadata": {
        "id": "XXTDgEJ7nOy8"
      },
      "source": [
        "from PIL import Image\r\n",
        "from torchvision.transforms import ToTensor\r\n",
        "import numpy as np\r\n",
        "import random\r\n",
        "import io\r\n",
        "import os\r\n",
        "import pandas as pd\r\n",
        "from torch.utils.data import Dataset\r\n",
        "\r\n",
        "\r\n",
        "class CaddyDataset(Dataset):\r\n",
        "    def __init__(self, csv_path, img_dir='./data/CADDY_gestures_complete_v2_release', transform=None):\r\n",
        "        \"\"\"\r\n",
        "        Initialize data set as a list of IDs corresponding to each item of data set\r\n",
        "\r\n",
        "        :param img_dir: path to image files as a folder\r\n",
        "        :param csv_path: a text file containing names of all of images line by line\r\n",
        "        :param transform: apply some transforms like cropping, rotating, etc on input image\r\n",
        "        \"\"\"\r\n",
        "\r\n",
        "        df = pd.read_csv(csv_path)\r\n",
        "        self.img_names = df[\"imagePath\"].values\r\n",
        "        self.labels = df[\"label id\"].values\r\n",
        "        self.csv_path = csv_path\r\n",
        "        self.img_dir = img_dir\r\n",
        "        self.transform = transform\r\n",
        "        self.get_image_selector = False\r\n",
        "\r\n",
        "    def get_image_from_folder(self, name):\r\n",
        "        \"\"\"\r\n",
        "        gets a image by a name gathered from file list text file\r\n",
        "\r\n",
        "        :param name: name of targeted image\r\n",
        "        :return: a PIL image\r\n",
        "        \"\"\"\r\n",
        "        image = Image.open(os.path.join(self.img_dir, name[1:]))\r\n",
        "        \r\n",
        "        return image\r\n",
        "\r\n",
        "    def __len__(self):\r\n",
        "        \"\"\"\r\n",
        "        Return the length of data set using list of IDs\r\n",
        "\r\n",
        "        :return: number of samples in data set\r\n",
        "        \"\"\"\r\n",
        "        return len(self.img_names)\r\n",
        "\r\n",
        "    def __getitem__(self, index):\r\n",
        "        \"\"\"\r\n",
        "        Generate one item of data set.\r\n",
        "\r\n",
        "        :param index: index of item in IDs list\r\n",
        "\r\n",
        "        :return: a sample of data as a dict\r\n",
        "        \"\"\"\r\n",
        "        X = self.get_image_from_folder(self.img_names[index])\r\n",
        "\r\n",
        "        # Get you label here using available pandas functions\r\n",
        "        Y = self.labels[index]\r\n",
        "\r\n",
        "        if self.transform is not None:\r\n",
        "            X = self.transform(X)\r\n",
        "#            Y = self.transform(Y) # if your label is image too - remove if it is number\r\n",
        "\r\n",
        "        sample = {'Image': X,\r\n",
        "                  'Label': Y}\r\n",
        "\r\n",
        "        return sample"
      ],
      "execution_count": 113,
      "outputs": []
    },
    {
      "cell_type": "code",
      "metadata": {
        "colab": {
          "base_uri": "https://localhost:8080/"
        },
        "id": "Ly4R8mEEyvd-",
        "outputId": "284e0c44-e6fd-47a0-c994-059fb8ffea5f"
      },
      "source": [
        "tensor_dataset = CaddyDataset(\"./drive/MyDrive/Colab Notebooks/caddy-gesture-transformedV1.csv\",\r\n",
        "                              img_dir='./data/CADDY_gestures_complete_v2_release',\r\n",
        "                              transform=ToTensor())\r\n",
        "tensor_dataset[2]"
      ],
      "execution_count": 114,
      "outputs": [
        {
          "output_type": "execute_result",
          "data": {
            "text/plain": [
              "{'Image': tensor([[[0.2275, 0.2431, 0.2353,  ..., 0.0980, 0.1098, 0.1176],\n",
              "          [0.2235, 0.2353, 0.2314,  ..., 0.1059, 0.1059, 0.1059],\n",
              "          [0.2275, 0.2314, 0.2392,  ..., 0.1020, 0.1020, 0.1137],\n",
              "          ...,\n",
              "          [0.1059, 0.1020, 0.1059,  ..., 0.0745, 0.0784, 0.0745],\n",
              "          [0.1137, 0.1137, 0.1176,  ..., 0.0745, 0.0784, 0.0745],\n",
              "          [0.1137, 0.1176, 0.1216,  ..., 0.0824, 0.0863, 0.0784]],\n",
              " \n",
              "         [[0.5333, 0.5529, 0.5451,  ..., 0.3176, 0.3216, 0.3294],\n",
              "          [0.5373, 0.5451, 0.5412,  ..., 0.3255, 0.3176, 0.3176],\n",
              "          [0.5373, 0.5412, 0.5490,  ..., 0.3216, 0.3255, 0.3255],\n",
              "          ...,\n",
              "          [0.3255, 0.3216, 0.3255,  ..., 0.2627, 0.2588, 0.2549],\n",
              "          [0.3333, 0.3333, 0.3373,  ..., 0.2627, 0.2588, 0.2549],\n",
              "          [0.3373, 0.3373, 0.3412,  ..., 0.2706, 0.2667, 0.2588]],\n",
              " \n",
              "         [[0.7843, 0.8118, 0.8039,  ..., 0.5020, 0.5020, 0.5098],\n",
              "          [0.7843, 0.8039, 0.8000,  ..., 0.5098, 0.4980, 0.4980],\n",
              "          [0.7961, 0.8000, 0.8078,  ..., 0.5059, 0.5020, 0.5059],\n",
              "          ...,\n",
              "          [0.4314, 0.4275, 0.4314,  ..., 0.3529, 0.3529, 0.3490],\n",
              "          [0.4392, 0.4392, 0.4431,  ..., 0.3529, 0.3529, 0.3490],\n",
              "          [0.4431, 0.4431, 0.4471,  ..., 0.3608, 0.3608, 0.3529]]]),\n",
              " 'Label': 10}"
            ]
          },
          "metadata": {
            "tags": []
          },
          "execution_count": 114
        }
      ]
    },
    {
      "cell_type": "code",
      "metadata": {
        "id": "pnuX0f1UzQEk"
      },
      "source": [
        "def data_seperator(tensor_data):\r\n",
        "  img = tensor_data[\"Image\"]\r\n",
        "  label = tensor_data[\"Label\"]\r\n",
        "  return {img, label}"
      ],
      "execution_count": 120,
      "outputs": []
    },
    {
      "cell_type": "code",
      "metadata": {
        "colab": {
          "base_uri": "https://localhost:8080/"
        },
        "id": "0J0RmP_z7SaO",
        "outputId": "820cd2cb-d603-4631-ac09-ff1273bb5a29"
      },
      "source": [
        "print(data_seperator(tensor_dataset[0]))"
      ],
      "execution_count": 121,
      "outputs": [
        {
          "output_type": "stream",
          "text": [
            "{tensor([[[0.2353, 0.2431, 0.2510,  ..., 0.1176, 0.1059, 0.1059],\n",
            "         [0.2431, 0.2431, 0.2510,  ..., 0.1255, 0.1137, 0.1098],\n",
            "         [0.2314, 0.2353, 0.2431,  ..., 0.1255, 0.1137, 0.1098],\n",
            "         ...,\n",
            "         [0.0902, 0.1059, 0.1059,  ..., 0.0824, 0.0824, 0.0784],\n",
            "         [0.1098, 0.1255, 0.1216,  ..., 0.0863, 0.0784, 0.0784],\n",
            "         [0.1020, 0.1216, 0.1255,  ..., 0.0824, 0.0745, 0.0745]],\n",
            "\n",
            "        [[0.5490, 0.5569, 0.5647,  ..., 0.3373, 0.3255, 0.3255],\n",
            "         [0.5569, 0.5569, 0.5647,  ..., 0.3451, 0.3333, 0.3294],\n",
            "         [0.5451, 0.5451, 0.5529,  ..., 0.3451, 0.3333, 0.3294],\n",
            "         ...,\n",
            "         [0.3020, 0.3176, 0.3176,  ..., 0.2863, 0.2863, 0.2824],\n",
            "         [0.3216, 0.3373, 0.3333,  ..., 0.2824, 0.2745, 0.2745],\n",
            "         [0.3137, 0.3333, 0.3255,  ..., 0.2784, 0.2706, 0.2706]],\n",
            "\n",
            "        [[0.7882, 0.7961, 0.8118,  ..., 0.5216, 0.5098, 0.5098],\n",
            "         [0.8039, 0.8039, 0.8118,  ..., 0.5294, 0.5176, 0.5137],\n",
            "         [0.7922, 0.8039, 0.8118,  ..., 0.5294, 0.5176, 0.5137],\n",
            "         ...,\n",
            "         [0.4039, 0.4275, 0.4275,  ..., 0.3804, 0.3804, 0.3765],\n",
            "         [0.4235, 0.4471, 0.4431,  ..., 0.3804, 0.3725, 0.3725],\n",
            "         [0.4157, 0.4431, 0.4392,  ..., 0.3765, 0.3686, 0.3686]]]), 10}\n"
          ],
          "name": "stdout"
        }
      ]
    },
    {
      "cell_type": "code",
      "metadata": {
        "id": "ND8vPp1A37fi"
      },
      "source": [
        "import matplotlib\r\n",
        "import matplotlib.pyplot as plt\r\n",
        "%matplotlib inline\r\n",
        "\r\n",
        "matplotlib.rcParams['figure.facecolor'] = '#ffffff'"
      ],
      "execution_count": 116,
      "outputs": []
    },
    {
      "cell_type": "code",
      "metadata": {
        "id": "CqpZ5c6o658v"
      },
      "source": [
        "def show_example(img, lable):\r\n",
        "    print('Label: ', classes[label], \"(\"+str(lable)+\")\")\r\n",
        "    plt.imshow(img.permute(1, 2, 0))"
      ],
      "execution_count": 135,
      "outputs": []
    },
    {
      "cell_type": "code",
      "metadata": {
        "colab": {
          "base_uri": "https://localhost:8080/",
          "height": 286
        },
        "id": "AT2VZJUv68Uo",
        "outputId": "ff65eeef-15e6-436a-ba13-98068519e82b"
      },
      "source": [
        "show_example(*data_seperator(tensor_dataset[0]))"
      ],
      "execution_count": 140,
      "outputs": [
        {
          "output_type": "stream",
          "text": [
            "Label:  num_delimiter (10)\n"
          ],
          "name": "stdout"
        },
        {
          "output_type": "display_data",
          "data": {
            "image/png": "[encoded data removed]",
            "text/plain": [
              "<Figure size 432x288 with 1 Axes>"
            ]
          },
          "metadata": {
            "tags": []
          }
        }
      ]
    },
    {
      "cell_type": "code",
      "metadata": {
        "id": "dKTPr1rY6-Wr"
      },
      "source": [
        ""
      ],
      "execution_count": null,
      "outputs": []
    },
    {
      "cell_type": "markdown",
      "metadata": {
        "id": "F6ZHx8R4_g2M"
      },
      "source": [
        "## Data Segregation \r\n",
        "Creating Validation, Testing and Training Datasets\r\n",
        "\r\n",
        "For this scenario I would like to keep the ratio of the Datasets to be:\r\n",
        "* Validation : 15%\r\n",
        "* Testing : 15%\r\n",
        "* Training : 70%\r\n",
        "\r\n",
        "As we saw the dataset is not shuffled hence we need to shuffle the dataset first and then proceed with the segregation.\r\n",
        "\r\n",
        "\r\n"
      ]
    },
    {
      "cell_type": "code",
      "metadata": {
        "id": "WSNajR_uvB4_"
      },
      "source": [
        "random_seed = 42\r\n",
        "torch.manual_seed(random_seed);"
      ],
      "execution_count": 141,
      "outputs": []
    },
    {
      "cell_type": "code",
      "metadata": {
        "colab": {
          "base_uri": "https://localhost:8080/"
        },
        "id": "daOCxb66AMkp",
        "outputId": "26da6d65-67a0-45d7-a862-46c7898582a7"
      },
      "source": [
        "val_size = len(tensor_dataset)*15//100\r\n",
        "test_size = val_size\r\n",
        "training_size = len(tensor_dataset)-val_size - test_size\r\n",
        "train_ds, val_ds, test_ds = random_split(tensor_dataset, [training_size, val_size, test_size])\r\n",
        "len(train_ds), len(val_ds), len(test_ds)"
      ],
      "execution_count": 149,
      "outputs": [
        {
          "output_type": "execute_result",
          "data": {
            "text/plain": [
              "(12936, 2771, 2771)"
            ]
          },
          "metadata": {
            "tags": []
          },
          "execution_count": 149
        }
      ]
    },
    {
      "cell_type": "code",
      "metadata": {
        "colab": {
          "base_uri": "https://localhost:8080/"
        },
        "id": "EBFuWynmArAd",
        "outputId": "7fe72c60-6f39-4298-bebd-e181c9e01d3c"
      },
      "source": [
        "jovian.log_dataset(dataset_url=dataset_url, val_size=val_size, random_seed=random_seed)"
      ],
      "execution_count": 151,
      "outputs": [
        {
          "output_type": "stream",
          "text": [
            "[jovian] Dataset logged.\u001b[0m\n"
          ],
          "name": "stdout"
        }
      ]
    },
    {
      "cell_type": "code",
      "metadata": {
        "id": "R_lA6QjTCtRZ"
      },
      "source": [
        ""
      ],
      "execution_count": null,
      "outputs": []
    }
  ]
}