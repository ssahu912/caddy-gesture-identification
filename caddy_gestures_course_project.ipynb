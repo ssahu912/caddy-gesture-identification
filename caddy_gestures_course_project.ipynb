{
  "nbformat": 4,
  "nbformat_minor": 0,
  "metadata": {
    "kernelspec": {
      "display_name": "Python 3",
      "language": "python",
      "name": "python3"
    },
    "language_info": {
      "codemirror_mode": {
        "name": "ipython",
        "version": 3
      },
      "file_extension": ".py",
      "mimetype": "text/x-python",
      "name": "python",
      "nbconvert_exporter": "python",
      "pygments_lexer": "ipython3",
      "version": "3.7.6"
    },
    "colab": {
      "name": "caddy-gestures-course-project.ipynb",
      "provenance": [],
      "collapsed_sections": [],
      "toc_visible": true,
      "include_colab_link": true
    },
    "accelerator": "GPU"
  },
  "cells": [
    {
      "cell_type": "markdown",
      "metadata": {
        "id": "view-in-github",
        "colab_type": "text"
      },
      "source": [
        "<a href=\"https://colab.research.google.com/github/ssahu912/caddy-gesture-identification/blob/main/caddy_gestures_course_project.ipynb\" target=\"_parent\"><img src=\"https://colab.research.google.com/assets/colab-badge.svg\" alt=\"Open In Colab\"/></a>"
      ]
    },
    {
      "cell_type": "code",
      "metadata": {
        "id": "yVDueJdOanqf",
        "colab": {
          "base_uri": "https://localhost:8080/"
        },
        "outputId": "4e0a6d83-456d-4294-eb12-7dae99488a61"
      },
      "source": [
        "# Jovian Commit Essentials\n",
        "# Please retain and execute this cell without modifying the contents for `jovian.commit` to work\n",
        "!pip install jovian --upgrade -q\n",
        "import jovian\n",
        "jovian.utils.colab.set_colab_file_id('1FdIwG5tk-mNrei-SVpC6SEbi9VAhL-pY')"
      ],
      "execution_count": 1,
      "outputs": [
        {
          "output_type": "stream",
          "text": [
            "\u001b[?25l\r\u001b[K     |█████                           | 10kB 24.9MB/s eta 0:00:01\r\u001b[K     |██████████                      | 20kB 28.8MB/s eta 0:00:01\r\u001b[K     |██████████████▉                 | 30kB 32.5MB/s eta 0:00:01\r\u001b[K     |███████████████████▉            | 40kB 32.5MB/s eta 0:00:01\r\u001b[K     |████████████████████████▉       | 51kB 34.0MB/s eta 0:00:01\r\u001b[K     |█████████████████████████████▊  | 61kB 36.2MB/s eta 0:00:01\r\u001b[K     |████████████████████████████████| 71kB 7.7MB/s \n",
            "\u001b[?25h  Building wheel for uuid (setup.py) ... \u001b[?25l\u001b[?25hdone\n"
          ],
          "name": "stdout"
        }
      ]
    },
    {
      "cell_type": "code",
      "metadata": {
        "id": "DVuq_uilanqm"
      },
      "source": [
        "!pip install jovian --upgrade --quiet"
      ],
      "execution_count": 2,
      "outputs": []
    },
    {
      "cell_type": "code",
      "metadata": {
        "id": "tfeRBYDSm_Y-"
      },
      "source": [
        "project_name='caddy-gestures-course-project'"
      ],
      "execution_count": 3,
      "outputs": []
    },
    {
      "cell_type": "markdown",
      "metadata": {
        "id": "sSex6sKaa9Op"
      },
      "source": [
        "# Exploring CADDY Underwater Gestures Dataset\r\n",
        "### Human-Robot Interaction (HRI) for Diver and AUVs activities\r\n",
        "This is an open access dataset distributed under the Creative Commons Attribution License which permits unrestricted use, distribution, and reproduction in any medium, provided the original work is properly cited (CC BY 4.0).\r\n",
        "<p>\r\n",
        "The dataset can be downloaded from the <a href=\"http://www.caddian.eu//assets/caddy-gestures-TMP/CADDY_gestures_complete_v2_release.zip\">link</a>.\r\n",
        "<p>\r\n",
        "Choosing this dataset of hand gestures used by divers underwater to provide instructtions in 8 different scenarios. The scenarios involved in this dataset are as follows: \r\n",
        "<table><tr>\r\n",
        "<td> <img src=\"http://www.caddian.eu//assets/caddy-gestures-TMP/biograd-A/true_positives/raw/biograd-A_00162_left.jpg\" alt=\"Drawing\" style=\"width: 250px;\"/> </td>\r\n",
        "<td> <img src=\"http://www.caddian.eu//assets/caddy-gestures-TMP/biograd-B/true_positives/raw/biograd-B_00032_right.jpg\" alt=\"Drawing\" style=\"width: 250px;\"/> </td>\r\n",
        "<td> <img src=\"http://www.caddian.eu//assets/caddy-gestures-TMP/biograd-C/true_positives/raw/biograd-C_00098_right.jpg\" alt=\"Drawing\" style=\"width: 250px;\"/> </td>\r\n",
        "<td> <img src=\"http://www.caddian.eu//assets/caddy-gestures-TMP/brodarski-A/true_positives/raw/brodarski-A_00018_right.jpg\" alt=\"Drawing\" style=\"width: 250px;\"/> </td>\r\n",
        "</tr>\r\n",
        "<td>BioGrad-A</td>\r\n",
        "<td>BioGrad-B</td>\r\n",
        "<td>BioGrad-C</td>\r\n",
        "<td>Brodarski-A</td>\r\n",
        "</tr>\r\n",
        "<tr>\r\n",
        "<td> <img src=\"http://www.caddian.eu//assets/caddy-gestures-TMP/brodarski-B/true_positives/raw/brodarski-B_00029_right.jpg\" alt=\"Drawing\" style=\"width: 250px;\"/> </td>\r\n",
        "<td> <img src=\"http://www.caddian.eu//assets/caddy-gestures-TMP/brodarski-C/true_positives/raw/brodarski-C_00006_left.jpg\" alt=\"Drawing\" style=\"width: 250px;\"/> </td>\r\n",
        "<td> <img src=\"http://www.caddian.eu//assets/caddy-gestures-TMP/brodarski-D/true_positives/raw/brodarski-D_00032_right.jpg\" alt=\"Drawing\" style=\"width: 250px;\"/> </td>\r\n",
        "<td> <img src=\"http://www.caddian.eu//assets/caddy-gestures-TMP/genova-A/true_positives/raw/genova-A_00032_right.jpg\" alt=\"Drawing\" style=\"width: 250px;\"/> </td>\r\n",
        "</tr>\r\n",
        "</tr>\r\n",
        "<td>Brodarski-B</td>\r\n",
        "<td>Brodarski-C</td>\r\n",
        "<td>Brodarski-D</td>\r\n",
        "<td>Genova-A</td>\r\n",
        "</tr>\r\n",
        "</table>\r\n",
        "It is a classification type problem where given an image of the person with the gesture the machine will identify the gesture meaning in multiple scenarios.\r\n"
      ]
    },
    {
      "cell_type": "markdown",
      "metadata": {
        "id": "4-Bp4SPthSKg"
      },
      "source": [
        "If you wish to upload the data on the drive then use this code to mount the drive so that it is available to use."
      ]
    },
    {
      "cell_type": "code",
      "metadata": {
        "colab": {
          "base_uri": "https://localhost:8080/"
        },
        "id": "vxjT2lhnjEFt",
        "outputId": "1e4e8ef6-400d-4086-edbf-907b1dc97523"
      },
      "source": [
        "from google.colab import drive\n",
        "drive.mount('/content/drive')"
      ],
      "execution_count": 4,
      "outputs": [
        {
          "output_type": "stream",
          "text": [
            "Mounted at /content/drive\n"
          ],
          "name": "stdout"
        }
      ]
    },
    {
      "cell_type": "code",
      "metadata": {
        "id": "RXS_KpkMj93W"
      },
      "source": [
        "import os\r\n",
        "import torch\r\n",
        "import torchvision\r\n",
        "import zipfile\r\n",
        "from torchvision.datasets.utils import download_url\r\n",
        "from torch.utils.data import random_split"
      ],
      "execution_count": 5,
      "outputs": []
    },
    {
      "cell_type": "markdown",
      "metadata": {
        "id": "JOQAWTYuhCTa"
      },
      "source": [
        "If you wish to download the data set and load it while running the notebook and do not want ot upload it to your drive please uncomment the below cell and execute. "
      ]
    },
    {
      "cell_type": "code",
      "metadata": {
        "id": "HzEevkfCanqm"
      },
      "source": [
        "# # Dowload the dataset\r\n",
        "# dataset_url = \"http://www.caddian.eu//assets/caddy-gestures-TMP/CADDY_gestures_complete_v2_release.zip\"\r\n",
        "# download_url(dataset_url, '.')\r\n",
        "# # Extract from downloaded archive\r\n",
        "# with zipfile.ZipFile('./CADDY_gestures_complete_v2_release.zip', 'r') as zip_ref:\r\n",
        "#     zip_ref.extractall('./data')"
      ],
      "execution_count": 6,
      "outputs": []
    },
    {
      "cell_type": "code",
      "metadata": {
        "id": "qfq_coKyj3rd"
      },
      "source": [
        "# Extract from drive archive\r\n",
        "with zipfile.ZipFile('./drive/MyDrive/CADDY_gestures_complete_v2_release.zip', 'r') as zip_ref:\r\n",
        "    zip_ref.extractall('./data')"
      ],
      "execution_count": 7,
      "outputs": []
    },
    {
      "cell_type": "markdown",
      "metadata": {
        "id": "BWVb2HbwjTJZ"
      },
      "source": [
        "## Data Analysis\r\n",
        "\r\n",
        "Let's explore the data!\r\n",
        "\r\n",
        "Looking at the folder structure we see that we have 8 folders for 8 scenarios which contain raw images of multiple gestures captured by the left and right stereo.\r\n",
        "<p>\r\n",
        "The folder structure of the data is something like this:\r\n",
        "<p>\r\n",
        "data => biograd-A => true_positives => raw => image1, image2 ... imageN\r\n",
        "\r\n",
        "Let's take a look what's inside the the csv files and how are they structured!!\r\n",
        "(We'll be looking at the true positives only for the scope of the project.)"
      ]
    },
    {
      "cell_type": "code",
      "metadata": {
        "id": "tVsoEsOFg0Bh"
      },
      "source": [
        "# Importing required EDA tools\r\n",
        "import pandas as pd\r\n",
        "import numpy as np\r\n",
        "import matplotlib.pyplot as plt\r\n",
        "import seaborn as sns\r\n"
      ],
      "execution_count": 8,
      "outputs": []
    },
    {
      "cell_type": "code",
      "metadata": {
        "colab": {
          "base_uri": "https://localhost:8080/",
          "height": 578
        },
        "id": "BXE3rwgekdqb",
        "outputId": "77296831-22be-4774-ee0f-3cc12644b811"
      },
      "source": [
        "dataFromCSV = pd.read_csv('./data/CADDY_gestures_complete_v2_release/CADDY_gestures_all_true_positives_release_v2.csv', index_col='index')\r\n",
        "dataFromCSV.head(10)"
      ],
      "execution_count": 9,
      "outputs": [
        {
          "output_type": "execute_result",
          "data": {
            "text/html": [
              "<div>\n",
              "<style scoped>\n",
              "    .dataframe tbody tr th:only-of-type {\n",
              "        vertical-align: middle;\n",
              "    }\n",
              "\n",
              "    .dataframe tbody tr th {\n",
              "        vertical-align: top;\n",
              "    }\n",
              "\n",
              "    .dataframe thead th {\n",
              "        text-align: right;\n",
              "    }\n",
              "</style>\n",
              "<table border=\"1\" class=\"dataframe\">\n",
              "  <thead>\n",
              "    <tr style=\"text-align: right;\">\n",
              "      <th></th>\n",
              "      <th>scenario</th>\n",
              "      <th>stereo left</th>\n",
              "      <th>stereo right</th>\n",
              "      <th>label name</th>\n",
              "      <th>label id</th>\n",
              "      <th>roi left</th>\n",
              "      <th>roi right</th>\n",
              "      <th>synthetic</th>\n",
              "      <th>iqa_mdm_entropy</th>\n",
              "      <th>iqa_mdm_d</th>\n",
              "      <th>iqa_mdm_dcomp</th>\n",
              "      <th>distortion</th>\n",
              "      <th>param 1</th>\n",
              "      <th>param 2</th>\n",
              "    </tr>\n",
              "    <tr>\n",
              "      <th>index</th>\n",
              "      <th></th>\n",
              "      <th></th>\n",
              "      <th></th>\n",
              "      <th></th>\n",
              "      <th></th>\n",
              "      <th></th>\n",
              "      <th></th>\n",
              "      <th></th>\n",
              "      <th></th>\n",
              "      <th></th>\n",
              "      <th></th>\n",
              "      <th></th>\n",
              "      <th></th>\n",
              "      <th></th>\n",
              "    </tr>\n",
              "  </thead>\n",
              "  <tbody>\n",
              "    <tr>\n",
              "      <th>0</th>\n",
              "      <td>biograd-A</td>\n",
              "      <td>/biograd-A/true_positives/raw/biograd-A_00000_...</td>\n",
              "      <td>/biograd-A/true_positives/raw/biograd-A_00000_...</td>\n",
              "      <td>num_delimiter</td>\n",
              "      <td>10</td>\n",
              "      <td>[237,236,54,65]</td>\n",
              "      <td>[155,236,54,65]</td>\n",
              "      <td>0</td>\n",
              "      <td>6.971026</td>\n",
              "      <td>0.957653</td>\n",
              "      <td>0.902</td>\n",
              "      <td>NaN</td>\n",
              "      <td>NaN</td>\n",
              "      <td>NaN</td>\n",
              "    </tr>\n",
              "    <tr>\n",
              "      <th>1</th>\n",
              "      <td>biograd-A</td>\n",
              "      <td>/biograd-A/true_positives/blurred/dir_00/biogr...</td>\n",
              "      <td>/biograd-A/true_positives/blurred/dir_00/biogr...</td>\n",
              "      <td>num_delimiter</td>\n",
              "      <td>10</td>\n",
              "      <td>[237,236,54,65]</td>\n",
              "      <td>[155,236,54,65]</td>\n",
              "      <td>1</td>\n",
              "      <td>NaN</td>\n",
              "      <td>NaN</td>\n",
              "      <td>NaN</td>\n",
              "      <td>blur</td>\n",
              "      <td>7</td>\n",
              "      <td>NaN</td>\n",
              "    </tr>\n",
              "    <tr>\n",
              "      <th>2</th>\n",
              "      <td>biograd-A</td>\n",
              "      <td>/biograd-A/true_positives/blurred/dir_01/biogr...</td>\n",
              "      <td>/biograd-A/true_positives/blurred/dir_01/biogr...</td>\n",
              "      <td>num_delimiter</td>\n",
              "      <td>10</td>\n",
              "      <td>[237,236,54,65]</td>\n",
              "      <td>[155,236,54,65]</td>\n",
              "      <td>1</td>\n",
              "      <td>NaN</td>\n",
              "      <td>NaN</td>\n",
              "      <td>NaN</td>\n",
              "      <td>blur</td>\n",
              "      <td>11</td>\n",
              "      <td>NaN</td>\n",
              "    </tr>\n",
              "    <tr>\n",
              "      <th>3</th>\n",
              "      <td>biograd-A</td>\n",
              "      <td>/biograd-A/true_positives/blurred/dir_02/biogr...</td>\n",
              "      <td>/biograd-A/true_positives/blurred/dir_02/biogr...</td>\n",
              "      <td>num_delimiter</td>\n",
              "      <td>10</td>\n",
              "      <td>[237,236,54,65]</td>\n",
              "      <td>[155,236,54,65]</td>\n",
              "      <td>1</td>\n",
              "      <td>NaN</td>\n",
              "      <td>NaN</td>\n",
              "      <td>NaN</td>\n",
              "      <td>blur</td>\n",
              "      <td>15</td>\n",
              "      <td>NaN</td>\n",
              "    </tr>\n",
              "    <tr>\n",
              "      <th>4</th>\n",
              "      <td>biograd-A</td>\n",
              "      <td>/biograd-A/true_positives/noisy/dir_00/biograd...</td>\n",
              "      <td>/biograd-A/true_positives/noisy/dir_00/biograd...</td>\n",
              "      <td>num_delimiter</td>\n",
              "      <td>10</td>\n",
              "      <td>[237,236,54,65]</td>\n",
              "      <td>[155,236,54,65]</td>\n",
              "      <td>1</td>\n",
              "      <td>NaN</td>\n",
              "      <td>NaN</td>\n",
              "      <td>NaN</td>\n",
              "      <td>channel noise</td>\n",
              "      <td>5</td>\n",
              "      <td>NaN</td>\n",
              "    </tr>\n",
              "    <tr>\n",
              "      <th>5</th>\n",
              "      <td>biograd-A</td>\n",
              "      <td>/biograd-A/true_positives/noisy/dir_01/biograd...</td>\n",
              "      <td>/biograd-A/true_positives/noisy/dir_01/biograd...</td>\n",
              "      <td>num_delimiter</td>\n",
              "      <td>10</td>\n",
              "      <td>[237,236,54,65]</td>\n",
              "      <td>[155,236,54,65]</td>\n",
              "      <td>1</td>\n",
              "      <td>NaN</td>\n",
              "      <td>NaN</td>\n",
              "      <td>NaN</td>\n",
              "      <td>channel noise</td>\n",
              "      <td>10</td>\n",
              "      <td>NaN</td>\n",
              "    </tr>\n",
              "    <tr>\n",
              "      <th>6</th>\n",
              "      <td>biograd-A</td>\n",
              "      <td>/biograd-A/true_positives/low_contrast/dir_00/...</td>\n",
              "      <td>/biograd-A/true_positives/low_contrast/dir_00/...</td>\n",
              "      <td>num_delimiter</td>\n",
              "      <td>10</td>\n",
              "      <td>[237,236,54,65]</td>\n",
              "      <td>[155,236,54,65]</td>\n",
              "      <td>1</td>\n",
              "      <td>NaN</td>\n",
              "      <td>NaN</td>\n",
              "      <td>NaN</td>\n",
              "      <td>low contrast</td>\n",
              "      <td>0.8</td>\n",
              "      <td>NaN</td>\n",
              "    </tr>\n",
              "    <tr>\n",
              "      <th>7</th>\n",
              "      <td>biograd-A</td>\n",
              "      <td>/biograd-A/true_positives/low_contrast/dir_01/...</td>\n",
              "      <td>/biograd-A/true_positives/low_contrast/dir_01/...</td>\n",
              "      <td>num_delimiter</td>\n",
              "      <td>10</td>\n",
              "      <td>[237,236,54,65]</td>\n",
              "      <td>[155,236,54,65]</td>\n",
              "      <td>1</td>\n",
              "      <td>NaN</td>\n",
              "      <td>NaN</td>\n",
              "      <td>NaN</td>\n",
              "      <td>low contrast</td>\n",
              "      <td>0.6</td>\n",
              "      <td>NaN</td>\n",
              "    </tr>\n",
              "    <tr>\n",
              "      <th>8</th>\n",
              "      <td>biograd-A</td>\n",
              "      <td>/biograd-A/true_positives/compressed/dir_00/bi...</td>\n",
              "      <td>/biograd-A/true_positives/compressed/dir_00/bi...</td>\n",
              "      <td>num_delimiter</td>\n",
              "      <td>10</td>\n",
              "      <td>[237,236,54,65]</td>\n",
              "      <td>[155,236,54,65]</td>\n",
              "      <td>1</td>\n",
              "      <td>NaN</td>\n",
              "      <td>NaN</td>\n",
              "      <td>NaN</td>\n",
              "      <td>compression</td>\n",
              "      <td>jpeg</td>\n",
              "      <td>80.0</td>\n",
              "    </tr>\n",
              "    <tr>\n",
              "      <th>9</th>\n",
              "      <td>biograd-A</td>\n",
              "      <td>/biograd-A/true_positives/compressed/dir_01/bi...</td>\n",
              "      <td>/biograd-A/true_positives/compressed/dir_01/bi...</td>\n",
              "      <td>num_delimiter</td>\n",
              "      <td>10</td>\n",
              "      <td>[237,236,54,65]</td>\n",
              "      <td>[155,236,54,65]</td>\n",
              "      <td>1</td>\n",
              "      <td>NaN</td>\n",
              "      <td>NaN</td>\n",
              "      <td>NaN</td>\n",
              "      <td>compression</td>\n",
              "      <td>jpeg</td>\n",
              "      <td>50.0</td>\n",
              "    </tr>\n",
              "  </tbody>\n",
              "</table>\n",
              "</div>"
            ],
            "text/plain": [
              "        scenario  ... param 2\n",
              "index             ...        \n",
              "0      biograd-A  ...     NaN\n",
              "1      biograd-A  ...     NaN\n",
              "2      biograd-A  ...     NaN\n",
              "3      biograd-A  ...     NaN\n",
              "4      biograd-A  ...     NaN\n",
              "5      biograd-A  ...     NaN\n",
              "6      biograd-A  ...     NaN\n",
              "7      biograd-A  ...     NaN\n",
              "8      biograd-A  ...    80.0\n",
              "9      biograd-A  ...    50.0\n",
              "\n",
              "[10 rows x 14 columns]"
            ]
          },
          "metadata": {
            "tags": []
          },
          "execution_count": 9
        }
      ]
    },
    {
      "cell_type": "code",
      "metadata": {
        "colab": {
          "base_uri": "https://localhost:8080/"
        },
        "id": "mwVHdZgVkebr",
        "outputId": "55dc3678-b02b-4139-c106-611fbff5d2a7"
      },
      "source": [
        "dataFromCSV.info()"
      ],
      "execution_count": 10,
      "outputs": [
        {
          "output_type": "stream",
          "text": [
            "<class 'pandas.core.frame.DataFrame'>\n",
            "Int64Index: 92390 entries, 0 to 92389\n",
            "Data columns (total 14 columns):\n",
            " #   Column           Non-Null Count  Dtype  \n",
            "---  ------           --------------  -----  \n",
            " 0   scenario         92390 non-null  object \n",
            " 1   stereo left      92390 non-null  object \n",
            " 2   stereo right     92390 non-null  object \n",
            " 3   label name       92390 non-null  object \n",
            " 4   label id         92390 non-null  int64  \n",
            " 5   roi left         91790 non-null  object \n",
            " 6   roi right        91440 non-null  object \n",
            " 7   synthetic        92390 non-null  int64  \n",
            " 8   iqa_mdm_entropy  9239 non-null   float64\n",
            " 9   iqa_mdm_d        9239 non-null   float64\n",
            " 10  iqa_mdm_dcomp    9239 non-null   float64\n",
            " 11  distortion       83151 non-null  object \n",
            " 12  param 1          83151 non-null  object \n",
            " 13  param 2          18478 non-null  float64\n",
            "dtypes: float64(4), int64(2), object(8)\n",
            "memory usage: 10.6+ MB\n"
          ],
          "name": "stdout"
        }
      ]
    },
    {
      "cell_type": "code",
      "metadata": {
        "colab": {
          "base_uri": "https://localhost:8080/"
        },
        "id": "MyCdqww_zFt-",
        "outputId": "9701ba28-5ecf-465e-87e9-b7b5dbfc26b0"
      },
      "source": [
        "dataFromCSV.columns"
      ],
      "execution_count": 11,
      "outputs": [
        {
          "output_type": "execute_result",
          "data": {
            "text/plain": [
              "Index(['scenario', 'stereo left', 'stereo right', 'label name', 'label id',\n",
              "       'roi left', 'roi right', 'synthetic', 'iqa_mdm_entropy', 'iqa_mdm_d',\n",
              "       'iqa_mdm_dcomp', 'distortion', 'param 1', 'param 2'],\n",
              "      dtype='object')"
            ]
          },
          "metadata": {
            "tags": []
          },
          "execution_count": 11
        }
      ]
    },
    {
      "cell_type": "markdown",
      "metadata": {
        "id": "5c9lGiiFli0P"
      },
      "source": [
        "For the scope of the project where we are classifying the gestures we would only need the label name of the the image from the CSV.\r\n",
        "<p>\r\n",
        "Also a point worth noting is not all the images are present in the data set as mentioned in CSV. If we look closely inside each and every scenario there are 2 folders \"true_positives\" and \"true_neagtives\", and inside each of them there's only one folder called \"raw\". This means that only raw images are present and not the distorted ones.\r\n",
        "<p>\r\n",
        "Hence we'll be working on the raw set of images which are around 18,400 which is a pretty decent data size."
      ]
    },
    {
      "cell_type": "markdown",
      "metadata": {
        "id": "ErHrXCW6pXkF"
      },
      "source": [
        "Let's idenetify how many different gestures are available in the dataset."
      ]
    },
    {
      "cell_type": "code",
      "metadata": {
        "colab": {
          "base_uri": "https://localhost:8080/"
        },
        "id": "KHkMgAMakeWi",
        "outputId": "96e964a9-a877-4771-f316-651b896eb493"
      },
      "source": [
        "classes = dataFromCSV[\"label name\"].unique()\r\n",
        "classes"
      ],
      "execution_count": 12,
      "outputs": [
        {
          "output_type": "execute_result",
          "data": {
            "text/plain": [
              "array(['num_delimiter', 'five', 'end_comm', 'start_comm', 'one', 'two',\n",
              "       'three', 'four', 'up', 'down', 'backwards', 'mosaic', 'boat',\n",
              "       'carry', 'here', 'photo'], dtype=object)"
            ]
          },
          "metadata": {
            "tags": []
          },
          "execution_count": 12
        }
      ]
    },
    {
      "cell_type": "code",
      "metadata": {
        "colab": {
          "base_uri": "https://localhost:8080/"
        },
        "id": "dxltmpbxkeOx",
        "outputId": "29143646-6e63-4fe4-d6e6-59f3b6f853d2"
      },
      "source": [
        "len(classes)"
      ],
      "execution_count": 13,
      "outputs": [
        {
          "output_type": "execute_result",
          "data": {
            "text/plain": [
              "16"
            ]
          },
          "metadata": {
            "tags": []
          },
          "execution_count": 13
        }
      ]
    },
    {
      "cell_type": "markdown",
      "metadata": {
        "id": "LylATjTVpllb"
      },
      "source": [
        "We see that we have 16 unique classes hence we have to categorize the images into 16 classes.(output)"
      ]
    },
    {
      "cell_type": "markdown",
      "metadata": {
        "id": "C9kFIGU4p3sz"
      },
      "source": [
        "### Data Cleaning \r\n",
        "\r\n",
        "As we saw earlier we have a lot of missing and junk data which we need to filter out, or we can say we need to extract the useful data from the CSV and map them with the images.\r\n",
        "<p>\r\n",
        "So let's create another CSV which can help map the raw data image paths with their labels.\r\n"
      ]
    },
    {
      "cell_type": "code",
      "metadata": {
        "colab": {
          "base_uri": "https://localhost:8080/",
          "height": 430
        },
        "id": "g3UX9Y_h61gK",
        "outputId": "9337a97f-534b-4bd2-ac58-b1f763782f95"
      },
      "source": [
        "# removing distorted image data from csv\r\n",
        "dataset = dataFromCSV.loc[dataFromCSV.distortion.isnull()]\r\n",
        "dataset.head()"
      ],
      "execution_count": 16,
      "outputs": [
        {
          "output_type": "execute_result",
          "data": {
            "text/html": [
              "<div>\n",
              "<style scoped>\n",
              "    .dataframe tbody tr th:only-of-type {\n",
              "        vertical-align: middle;\n",
              "    }\n",
              "\n",
              "    .dataframe tbody tr th {\n",
              "        vertical-align: top;\n",
              "    }\n",
              "\n",
              "    .dataframe thead th {\n",
              "        text-align: right;\n",
              "    }\n",
              "</style>\n",
              "<table border=\"1\" class=\"dataframe\">\n",
              "  <thead>\n",
              "    <tr style=\"text-align: right;\">\n",
              "      <th></th>\n",
              "      <th>scenario</th>\n",
              "      <th>stereo left</th>\n",
              "      <th>stereo right</th>\n",
              "      <th>label name</th>\n",
              "      <th>label id</th>\n",
              "      <th>roi left</th>\n",
              "      <th>roi right</th>\n",
              "      <th>synthetic</th>\n",
              "      <th>iqa_mdm_entropy</th>\n",
              "      <th>iqa_mdm_d</th>\n",
              "      <th>iqa_mdm_dcomp</th>\n",
              "      <th>distortion</th>\n",
              "      <th>param 1</th>\n",
              "      <th>param 2</th>\n",
              "    </tr>\n",
              "    <tr>\n",
              "      <th>index</th>\n",
              "      <th></th>\n",
              "      <th></th>\n",
              "      <th></th>\n",
              "      <th></th>\n",
              "      <th></th>\n",
              "      <th></th>\n",
              "      <th></th>\n",
              "      <th></th>\n",
              "      <th></th>\n",
              "      <th></th>\n",
              "      <th></th>\n",
              "      <th></th>\n",
              "      <th></th>\n",
              "      <th></th>\n",
              "    </tr>\n",
              "  </thead>\n",
              "  <tbody>\n",
              "    <tr>\n",
              "      <th>0</th>\n",
              "      <td>biograd-A</td>\n",
              "      <td>/biograd-A/true_positives/raw/biograd-A_00000_...</td>\n",
              "      <td>/biograd-A/true_positives/raw/biograd-A_00000_...</td>\n",
              "      <td>num_delimiter</td>\n",
              "      <td>10</td>\n",
              "      <td>[237,236,54,65]</td>\n",
              "      <td>[155,236,54,65]</td>\n",
              "      <td>0</td>\n",
              "      <td>6.971026</td>\n",
              "      <td>0.957653</td>\n",
              "      <td>0.902000</td>\n",
              "      <td>NaN</td>\n",
              "      <td>NaN</td>\n",
              "      <td>NaN</td>\n",
              "    </tr>\n",
              "    <tr>\n",
              "      <th>10</th>\n",
              "      <td>biograd-A</td>\n",
              "      <td>/biograd-A/true_positives/raw/biograd-A_00001_...</td>\n",
              "      <td>/biograd-A/true_positives/raw/biograd-A_00001_...</td>\n",
              "      <td>num_delimiter</td>\n",
              "      <td>10</td>\n",
              "      <td>[230,230,61,79]</td>\n",
              "      <td>[147,230,61,79]</td>\n",
              "      <td>0</td>\n",
              "      <td>6.977803</td>\n",
              "      <td>0.958442</td>\n",
              "      <td>0.885512</td>\n",
              "      <td>NaN</td>\n",
              "      <td>NaN</td>\n",
              "      <td>NaN</td>\n",
              "    </tr>\n",
              "    <tr>\n",
              "      <th>20</th>\n",
              "      <td>biograd-A</td>\n",
              "      <td>/biograd-A/true_positives/raw/biograd-A_00002_...</td>\n",
              "      <td>/biograd-A/true_positives/raw/biograd-A_00002_...</td>\n",
              "      <td>num_delimiter</td>\n",
              "      <td>10</td>\n",
              "      <td>[222,230,72,75]</td>\n",
              "      <td>[139,230,72,75]</td>\n",
              "      <td>0</td>\n",
              "      <td>6.930135</td>\n",
              "      <td>0.958565</td>\n",
              "      <td>0.885733</td>\n",
              "      <td>NaN</td>\n",
              "      <td>NaN</td>\n",
              "      <td>NaN</td>\n",
              "    </tr>\n",
              "    <tr>\n",
              "      <th>30</th>\n",
              "      <td>biograd-A</td>\n",
              "      <td>/biograd-A/true_positives/raw/biograd-A_00003_...</td>\n",
              "      <td>/biograd-A/true_positives/raw/biograd-A_00003_...</td>\n",
              "      <td>num_delimiter</td>\n",
              "      <td>10</td>\n",
              "      <td>[231,231,62,83]</td>\n",
              "      <td>[148,231,62,83]</td>\n",
              "      <td>0</td>\n",
              "      <td>6.948746</td>\n",
              "      <td>0.958243</td>\n",
              "      <td>0.885593</td>\n",
              "      <td>NaN</td>\n",
              "      <td>NaN</td>\n",
              "      <td>NaN</td>\n",
              "    </tr>\n",
              "    <tr>\n",
              "      <th>40</th>\n",
              "      <td>biograd-A</td>\n",
              "      <td>/biograd-A/true_positives/raw/biograd-A_00004_...</td>\n",
              "      <td>/biograd-A/true_positives/raw/biograd-A_00004_...</td>\n",
              "      <td>num_delimiter</td>\n",
              "      <td>10</td>\n",
              "      <td>[222,219,70,76]</td>\n",
              "      <td>[138,219,70,76]</td>\n",
              "      <td>0</td>\n",
              "      <td>7.175039</td>\n",
              "      <td>0.955913</td>\n",
              "      <td>0.875217</td>\n",
              "      <td>NaN</td>\n",
              "      <td>NaN</td>\n",
              "      <td>NaN</td>\n",
              "    </tr>\n",
              "  </tbody>\n",
              "</table>\n",
              "</div>"
            ],
            "text/plain": [
              "        scenario  ... param 2\n",
              "index             ...        \n",
              "0      biograd-A  ...     NaN\n",
              "10     biograd-A  ...     NaN\n",
              "20     biograd-A  ...     NaN\n",
              "30     biograd-A  ...     NaN\n",
              "40     biograd-A  ...     NaN\n",
              "\n",
              "[5 rows x 14 columns]"
            ]
          },
          "metadata": {
            "tags": []
          },
          "execution_count": 16
        }
      ]
    },
    {
      "cell_type": "code",
      "metadata": {
        "id": "-6XzTX2ApxML",
        "colab": {
          "base_uri": "https://localhost:8080/",
          "height": 225
        },
        "outputId": "15781559-4516-4c92-b67e-3cc7e77bf887"
      },
      "source": [
        "# removing irrelevant columns from the data\r\n",
        "dataset = dataset.drop(labels=['roi left', 'roi right', 'synthetic', 'iqa_mdm_entropy', 'iqa_mdm_d',\r\n",
        "                                   'iqa_mdm_dcomp', 'distortion', 'param 1', 'param 2'], axis=1)\r\n",
        "dataset.head()"
      ],
      "execution_count": 17,
      "outputs": [
        {
          "output_type": "execute_result",
          "data": {
            "text/html": [
              "<div>\n",
              "<style scoped>\n",
              "    .dataframe tbody tr th:only-of-type {\n",
              "        vertical-align: middle;\n",
              "    }\n",
              "\n",
              "    .dataframe tbody tr th {\n",
              "        vertical-align: top;\n",
              "    }\n",
              "\n",
              "    .dataframe thead th {\n",
              "        text-align: right;\n",
              "    }\n",
              "</style>\n",
              "<table border=\"1\" class=\"dataframe\">\n",
              "  <thead>\n",
              "    <tr style=\"text-align: right;\">\n",
              "      <th></th>\n",
              "      <th>scenario</th>\n",
              "      <th>stereo left</th>\n",
              "      <th>stereo right</th>\n",
              "      <th>label name</th>\n",
              "      <th>label id</th>\n",
              "    </tr>\n",
              "    <tr>\n",
              "      <th>index</th>\n",
              "      <th></th>\n",
              "      <th></th>\n",
              "      <th></th>\n",
              "      <th></th>\n",
              "      <th></th>\n",
              "    </tr>\n",
              "  </thead>\n",
              "  <tbody>\n",
              "    <tr>\n",
              "      <th>0</th>\n",
              "      <td>biograd-A</td>\n",
              "      <td>/biograd-A/true_positives/raw/biograd-A_00000_...</td>\n",
              "      <td>/biograd-A/true_positives/raw/biograd-A_00000_...</td>\n",
              "      <td>num_delimiter</td>\n",
              "      <td>10</td>\n",
              "    </tr>\n",
              "    <tr>\n",
              "      <th>10</th>\n",
              "      <td>biograd-A</td>\n",
              "      <td>/biograd-A/true_positives/raw/biograd-A_00001_...</td>\n",
              "      <td>/biograd-A/true_positives/raw/biograd-A_00001_...</td>\n",
              "      <td>num_delimiter</td>\n",
              "      <td>10</td>\n",
              "    </tr>\n",
              "    <tr>\n",
              "      <th>20</th>\n",
              "      <td>biograd-A</td>\n",
              "      <td>/biograd-A/true_positives/raw/biograd-A_00002_...</td>\n",
              "      <td>/biograd-A/true_positives/raw/biograd-A_00002_...</td>\n",
              "      <td>num_delimiter</td>\n",
              "      <td>10</td>\n",
              "    </tr>\n",
              "    <tr>\n",
              "      <th>30</th>\n",
              "      <td>biograd-A</td>\n",
              "      <td>/biograd-A/true_positives/raw/biograd-A_00003_...</td>\n",
              "      <td>/biograd-A/true_positives/raw/biograd-A_00003_...</td>\n",
              "      <td>num_delimiter</td>\n",
              "      <td>10</td>\n",
              "    </tr>\n",
              "    <tr>\n",
              "      <th>40</th>\n",
              "      <td>biograd-A</td>\n",
              "      <td>/biograd-A/true_positives/raw/biograd-A_00004_...</td>\n",
              "      <td>/biograd-A/true_positives/raw/biograd-A_00004_...</td>\n",
              "      <td>num_delimiter</td>\n",
              "      <td>10</td>\n",
              "    </tr>\n",
              "  </tbody>\n",
              "</table>\n",
              "</div>"
            ],
            "text/plain": [
              "        scenario  ... label id\n",
              "index             ...         \n",
              "0      biograd-A  ...       10\n",
              "10     biograd-A  ...       10\n",
              "20     biograd-A  ...       10\n",
              "30     biograd-A  ...       10\n",
              "40     biograd-A  ...       10\n",
              "\n",
              "[5 rows x 5 columns]"
            ]
          },
          "metadata": {
            "tags": []
          },
          "execution_count": 17
        }
      ]
    },
    {
      "cell_type": "code",
      "metadata": {
        "id": "8ajG5shl8-vu"
      },
      "source": [
        "dataset.to_csv(\"./drive/MyDrive/Colab Notebooks/caddy-gesture-transformed.csv\")"
      ],
      "execution_count": null,
      "outputs": []
    },
    {
      "cell_type": "markdown",
      "metadata": {
        "id": "Q6kgdErtnCWo"
      },
      "source": [
        "Since we have images from 2 stereos left and right which have almost similar image we would like to negate the difference between the left and right stereo. Hence altering the CSV to increase the size of Dataset."
      ]
    },
    {
      "cell_type": "code",
      "metadata": {
        "colab": {
          "base_uri": "https://localhost:8080/",
          "height": 431
        },
        "id": "CyvagHR4j03H",
        "outputId": "1101f9d9-9766-4196-ec66-cfe885bc4c2d"
      },
      "source": [
        "dataset_right_stereo = dataset.drop(labels = [\"stereo left\"],axis=1)\r\n",
        "dataset_right_stereo.rename(columns = {\"stereo right\": 'stereo'}, inplace = True)\r\n",
        "dataset_right_stereo"
      ],
      "execution_count": 22,
      "outputs": [
        {
          "output_type": "execute_result",
          "data": {
            "text/html": [
              "<div>\n",
              "<style scoped>\n",
              "    .dataframe tbody tr th:only-of-type {\n",
              "        vertical-align: middle;\n",
              "    }\n",
              "\n",
              "    .dataframe tbody tr th {\n",
              "        vertical-align: top;\n",
              "    }\n",
              "\n",
              "    .dataframe thead th {\n",
              "        text-align: right;\n",
              "    }\n",
              "</style>\n",
              "<table border=\"1\" class=\"dataframe\">\n",
              "  <thead>\n",
              "    <tr style=\"text-align: right;\">\n",
              "      <th></th>\n",
              "      <th>scenario</th>\n",
              "      <th>stereo</th>\n",
              "      <th>label name</th>\n",
              "      <th>label id</th>\n",
              "    </tr>\n",
              "    <tr>\n",
              "      <th>index</th>\n",
              "      <th></th>\n",
              "      <th></th>\n",
              "      <th></th>\n",
              "      <th></th>\n",
              "    </tr>\n",
              "  </thead>\n",
              "  <tbody>\n",
              "    <tr>\n",
              "      <th>0</th>\n",
              "      <td>biograd-A</td>\n",
              "      <td>/biograd-A/true_positives/raw/biograd-A_00000_...</td>\n",
              "      <td>num_delimiter</td>\n",
              "      <td>10</td>\n",
              "    </tr>\n",
              "    <tr>\n",
              "      <th>10</th>\n",
              "      <td>biograd-A</td>\n",
              "      <td>/biograd-A/true_positives/raw/biograd-A_00001_...</td>\n",
              "      <td>num_delimiter</td>\n",
              "      <td>10</td>\n",
              "    </tr>\n",
              "    <tr>\n",
              "      <th>20</th>\n",
              "      <td>biograd-A</td>\n",
              "      <td>/biograd-A/true_positives/raw/biograd-A_00002_...</td>\n",
              "      <td>num_delimiter</td>\n",
              "      <td>10</td>\n",
              "    </tr>\n",
              "    <tr>\n",
              "      <th>30</th>\n",
              "      <td>biograd-A</td>\n",
              "      <td>/biograd-A/true_positives/raw/biograd-A_00003_...</td>\n",
              "      <td>num_delimiter</td>\n",
              "      <td>10</td>\n",
              "    </tr>\n",
              "    <tr>\n",
              "      <th>40</th>\n",
              "      <td>biograd-A</td>\n",
              "      <td>/biograd-A/true_positives/raw/biograd-A_00004_...</td>\n",
              "      <td>num_delimiter</td>\n",
              "      <td>10</td>\n",
              "    </tr>\n",
              "    <tr>\n",
              "      <th>...</th>\n",
              "      <td>...</td>\n",
              "      <td>...</td>\n",
              "      <td>...</td>\n",
              "      <td>...</td>\n",
              "    </tr>\n",
              "    <tr>\n",
              "      <th>92340</th>\n",
              "      <td>genova-A</td>\n",
              "      <td>/genova-A/true_positives/raw/genova-A_03315_ri...</td>\n",
              "      <td>end_comm</td>\n",
              "      <td>1</td>\n",
              "    </tr>\n",
              "    <tr>\n",
              "      <th>92350</th>\n",
              "      <td>genova-A</td>\n",
              "      <td>/genova-A/true_positives/raw/genova-A_03316_ri...</td>\n",
              "      <td>end_comm</td>\n",
              "      <td>1</td>\n",
              "    </tr>\n",
              "    <tr>\n",
              "      <th>92360</th>\n",
              "      <td>genova-A</td>\n",
              "      <td>/genova-A/true_positives/raw/genova-A_03317_ri...</td>\n",
              "      <td>end_comm</td>\n",
              "      <td>1</td>\n",
              "    </tr>\n",
              "    <tr>\n",
              "      <th>92370</th>\n",
              "      <td>genova-A</td>\n",
              "      <td>/genova-A/true_positives/raw/genova-A_03318_ri...</td>\n",
              "      <td>end_comm</td>\n",
              "      <td>1</td>\n",
              "    </tr>\n",
              "    <tr>\n",
              "      <th>92380</th>\n",
              "      <td>genova-A</td>\n",
              "      <td>/genova-A/true_positives/raw/genova-A_03319_ri...</td>\n",
              "      <td>end_comm</td>\n",
              "      <td>1</td>\n",
              "    </tr>\n",
              "  </tbody>\n",
              "</table>\n",
              "<p>9239 rows × 4 columns</p>\n",
              "</div>"
            ],
            "text/plain": [
              "        scenario  ... label id\n",
              "index             ...         \n",
              "0      biograd-A  ...       10\n",
              "10     biograd-A  ...       10\n",
              "20     biograd-A  ...       10\n",
              "30     biograd-A  ...       10\n",
              "40     biograd-A  ...       10\n",
              "...          ...  ...      ...\n",
              "92340   genova-A  ...        1\n",
              "92350   genova-A  ...        1\n",
              "92360   genova-A  ...        1\n",
              "92370   genova-A  ...        1\n",
              "92380   genova-A  ...        1\n",
              "\n",
              "[9239 rows x 4 columns]"
            ]
          },
          "metadata": {
            "tags": []
          },
          "execution_count": 22
        }
      ]
    },
    {
      "cell_type": "code",
      "metadata": {
        "colab": {
          "base_uri": "https://localhost:8080/",
          "height": 431
        },
        "id": "mfRpU0e9mNYa",
        "outputId": "828909f0-695d-4e13-f1a7-80d0d788e3c7"
      },
      "source": [
        "dataset_left_stereo = dataset.drop(labels = [\"stereo right\"],axis=1)\r\n",
        "dataset_left_stereo.rename(columns = {\"stereo left\": 'stereo'}, inplace = True)\r\n",
        "dataset_left_stereo"
      ],
      "execution_count": 23,
      "outputs": [
        {
          "output_type": "execute_result",
          "data": {
            "text/html": [
              "<div>\n",
              "<style scoped>\n",
              "    .dataframe tbody tr th:only-of-type {\n",
              "        vertical-align: middle;\n",
              "    }\n",
              "\n",
              "    .dataframe tbody tr th {\n",
              "        vertical-align: top;\n",
              "    }\n",
              "\n",
              "    .dataframe thead th {\n",
              "        text-align: right;\n",
              "    }\n",
              "</style>\n",
              "<table border=\"1\" class=\"dataframe\">\n",
              "  <thead>\n",
              "    <tr style=\"text-align: right;\">\n",
              "      <th></th>\n",
              "      <th>scenario</th>\n",
              "      <th>stereo</th>\n",
              "      <th>label name</th>\n",
              "      <th>label id</th>\n",
              "    </tr>\n",
              "    <tr>\n",
              "      <th>index</th>\n",
              "      <th></th>\n",
              "      <th></th>\n",
              "      <th></th>\n",
              "      <th></th>\n",
              "    </tr>\n",
              "  </thead>\n",
              "  <tbody>\n",
              "    <tr>\n",
              "      <th>0</th>\n",
              "      <td>biograd-A</td>\n",
              "      <td>/biograd-A/true_positives/raw/biograd-A_00000_...</td>\n",
              "      <td>num_delimiter</td>\n",
              "      <td>10</td>\n",
              "    </tr>\n",
              "    <tr>\n",
              "      <th>10</th>\n",
              "      <td>biograd-A</td>\n",
              "      <td>/biograd-A/true_positives/raw/biograd-A_00001_...</td>\n",
              "      <td>num_delimiter</td>\n",
              "      <td>10</td>\n",
              "    </tr>\n",
              "    <tr>\n",
              "      <th>20</th>\n",
              "      <td>biograd-A</td>\n",
              "      <td>/biograd-A/true_positives/raw/biograd-A_00002_...</td>\n",
              "      <td>num_delimiter</td>\n",
              "      <td>10</td>\n",
              "    </tr>\n",
              "    <tr>\n",
              "      <th>30</th>\n",
              "      <td>biograd-A</td>\n",
              "      <td>/biograd-A/true_positives/raw/biograd-A_00003_...</td>\n",
              "      <td>num_delimiter</td>\n",
              "      <td>10</td>\n",
              "    </tr>\n",
              "    <tr>\n",
              "      <th>40</th>\n",
              "      <td>biograd-A</td>\n",
              "      <td>/biograd-A/true_positives/raw/biograd-A_00004_...</td>\n",
              "      <td>num_delimiter</td>\n",
              "      <td>10</td>\n",
              "    </tr>\n",
              "    <tr>\n",
              "      <th>...</th>\n",
              "      <td>...</td>\n",
              "      <td>...</td>\n",
              "      <td>...</td>\n",
              "      <td>...</td>\n",
              "    </tr>\n",
              "    <tr>\n",
              "      <th>92340</th>\n",
              "      <td>genova-A</td>\n",
              "      <td>/genova-A/true_positives/raw/genova-A_03315_le...</td>\n",
              "      <td>end_comm</td>\n",
              "      <td>1</td>\n",
              "    </tr>\n",
              "    <tr>\n",
              "      <th>92350</th>\n",
              "      <td>genova-A</td>\n",
              "      <td>/genova-A/true_positives/raw/genova-A_03316_le...</td>\n",
              "      <td>end_comm</td>\n",
              "      <td>1</td>\n",
              "    </tr>\n",
              "    <tr>\n",
              "      <th>92360</th>\n",
              "      <td>genova-A</td>\n",
              "      <td>/genova-A/true_positives/raw/genova-A_03317_le...</td>\n",
              "      <td>end_comm</td>\n",
              "      <td>1</td>\n",
              "    </tr>\n",
              "    <tr>\n",
              "      <th>92370</th>\n",
              "      <td>genova-A</td>\n",
              "      <td>/genova-A/true_positives/raw/genova-A_03318_le...</td>\n",
              "      <td>end_comm</td>\n",
              "      <td>1</td>\n",
              "    </tr>\n",
              "    <tr>\n",
              "      <th>92380</th>\n",
              "      <td>genova-A</td>\n",
              "      <td>/genova-A/true_positives/raw/genova-A_03319_le...</td>\n",
              "      <td>end_comm</td>\n",
              "      <td>1</td>\n",
              "    </tr>\n",
              "  </tbody>\n",
              "</table>\n",
              "<p>9239 rows × 4 columns</p>\n",
              "</div>"
            ],
            "text/plain": [
              "        scenario  ... label id\n",
              "index             ...         \n",
              "0      biograd-A  ...       10\n",
              "10     biograd-A  ...       10\n",
              "20     biograd-A  ...       10\n",
              "30     biograd-A  ...       10\n",
              "40     biograd-A  ...       10\n",
              "...          ...  ...      ...\n",
              "92340   genova-A  ...        1\n",
              "92350   genova-A  ...        1\n",
              "92360   genova-A  ...        1\n",
              "92370   genova-A  ...        1\n",
              "92380   genova-A  ...        1\n",
              "\n",
              "[9239 rows x 4 columns]"
            ]
          },
          "metadata": {
            "tags": []
          },
          "execution_count": 23
        }
      ]
    },
    {
      "cell_type": "code",
      "metadata": {
        "colab": {
          "base_uri": "https://localhost:8080/"
        },
        "id": "gaO1Kc_lmV5H",
        "outputId": "176b5811-6aa8-4374-a1cd-d2beb4515d86"
      },
      "source": [
        "# Concatenate the two dataframes created above \r\n",
        "dataset_v1 = pd.concat([dataset_left_stereo,dataset_right_stereo], ignore_index=True)\r\n",
        "dataset_v1.info()"
      ],
      "execution_count": 26,
      "outputs": [
        {
          "output_type": "stream",
          "text": [
            "<class 'pandas.core.frame.DataFrame'>\n",
            "RangeIndex: 18478 entries, 0 to 18477\n",
            "Data columns (total 4 columns):\n",
            " #   Column      Non-Null Count  Dtype \n",
            "---  ------      --------------  ----- \n",
            " 0   scenario    18478 non-null  object\n",
            " 1   stereo      18478 non-null  object\n",
            " 2   label name  18478 non-null  object\n",
            " 3   label id    18478 non-null  int64 \n",
            "dtypes: int64(1), object(3)\n",
            "memory usage: 577.6+ KB\n"
          ],
          "name": "stdout"
        }
      ]
    },
    {
      "cell_type": "code",
      "metadata": {
        "colab": {
          "base_uri": "https://localhost:8080/",
          "height": 195
        },
        "id": "7K2V78_7oLUv",
        "outputId": "28a42dfb-7789-4e6d-fa46-1255f8119879"
      },
      "source": [
        "dataset_v1.head()"
      ],
      "execution_count": 27,
      "outputs": [
        {
          "output_type": "execute_result",
          "data": {
            "text/html": [
              "<div>\n",
              "<style scoped>\n",
              "    .dataframe tbody tr th:only-of-type {\n",
              "        vertical-align: middle;\n",
              "    }\n",
              "\n",
              "    .dataframe tbody tr th {\n",
              "        vertical-align: top;\n",
              "    }\n",
              "\n",
              "    .dataframe thead th {\n",
              "        text-align: right;\n",
              "    }\n",
              "</style>\n",
              "<table border=\"1\" class=\"dataframe\">\n",
              "  <thead>\n",
              "    <tr style=\"text-align: right;\">\n",
              "      <th></th>\n",
              "      <th>scenario</th>\n",
              "      <th>stereo</th>\n",
              "      <th>label name</th>\n",
              "      <th>label id</th>\n",
              "    </tr>\n",
              "  </thead>\n",
              "  <tbody>\n",
              "    <tr>\n",
              "      <th>0</th>\n",
              "      <td>biograd-A</td>\n",
              "      <td>/biograd-A/true_positives/raw/biograd-A_00000_...</td>\n",
              "      <td>num_delimiter</td>\n",
              "      <td>10</td>\n",
              "    </tr>\n",
              "    <tr>\n",
              "      <th>1</th>\n",
              "      <td>biograd-A</td>\n",
              "      <td>/biograd-A/true_positives/raw/biograd-A_00001_...</td>\n",
              "      <td>num_delimiter</td>\n",
              "      <td>10</td>\n",
              "    </tr>\n",
              "    <tr>\n",
              "      <th>2</th>\n",
              "      <td>biograd-A</td>\n",
              "      <td>/biograd-A/true_positives/raw/biograd-A_00002_...</td>\n",
              "      <td>num_delimiter</td>\n",
              "      <td>10</td>\n",
              "    </tr>\n",
              "    <tr>\n",
              "      <th>3</th>\n",
              "      <td>biograd-A</td>\n",
              "      <td>/biograd-A/true_positives/raw/biograd-A_00003_...</td>\n",
              "      <td>num_delimiter</td>\n",
              "      <td>10</td>\n",
              "    </tr>\n",
              "    <tr>\n",
              "      <th>4</th>\n",
              "      <td>biograd-A</td>\n",
              "      <td>/biograd-A/true_positives/raw/biograd-A_00004_...</td>\n",
              "      <td>num_delimiter</td>\n",
              "      <td>10</td>\n",
              "    </tr>\n",
              "  </tbody>\n",
              "</table>\n",
              "</div>"
            ],
            "text/plain": [
              "    scenario  ... label id\n",
              "0  biograd-A  ...       10\n",
              "1  biograd-A  ...       10\n",
              "2  biograd-A  ...       10\n",
              "3  biograd-A  ...       10\n",
              "4  biograd-A  ...       10\n",
              "\n",
              "[5 rows x 4 columns]"
            ]
          },
          "metadata": {
            "tags": []
          },
          "execution_count": 27
        }
      ]
    },
    {
      "cell_type": "markdown",
      "metadata": {
        "id": "ndcyTtigoJlK"
      },
      "source": [
        "As we can see in the output of the above cell we can say that the stereo column contains the path to image and the label name contains the information of the gesture performed.\r\n",
        "<p>\r\n",
        "So let's rename the stereo column to imagePath"
      ]
    },
    {
      "cell_type": "code",
      "metadata": {
        "colab": {
          "base_uri": "https://localhost:8080/",
          "height": 402
        },
        "id": "19RC-pP1ouvs",
        "outputId": "fca92d86-f3ad-4199-f95f-dd3c2ab7dfc7"
      },
      "source": [
        "dataset_v1.rename(columns={\"stereo\":\"imagePath\"},inplace=True)\r\n",
        "dataset_v1"
      ],
      "execution_count": 28,
      "outputs": [
        {
          "output_type": "execute_result",
          "data": {
            "text/html": [
              "<div>\n",
              "<style scoped>\n",
              "    .dataframe tbody tr th:only-of-type {\n",
              "        vertical-align: middle;\n",
              "    }\n",
              "\n",
              "    .dataframe tbody tr th {\n",
              "        vertical-align: top;\n",
              "    }\n",
              "\n",
              "    .dataframe thead th {\n",
              "        text-align: right;\n",
              "    }\n",
              "</style>\n",
              "<table border=\"1\" class=\"dataframe\">\n",
              "  <thead>\n",
              "    <tr style=\"text-align: right;\">\n",
              "      <th></th>\n",
              "      <th>scenario</th>\n",
              "      <th>imagePath</th>\n",
              "      <th>label name</th>\n",
              "      <th>label id</th>\n",
              "    </tr>\n",
              "  </thead>\n",
              "  <tbody>\n",
              "    <tr>\n",
              "      <th>0</th>\n",
              "      <td>biograd-A</td>\n",
              "      <td>/biograd-A/true_positives/raw/biograd-A_00000_...</td>\n",
              "      <td>num_delimiter</td>\n",
              "      <td>10</td>\n",
              "    </tr>\n",
              "    <tr>\n",
              "      <th>1</th>\n",
              "      <td>biograd-A</td>\n",
              "      <td>/biograd-A/true_positives/raw/biograd-A_00001_...</td>\n",
              "      <td>num_delimiter</td>\n",
              "      <td>10</td>\n",
              "    </tr>\n",
              "    <tr>\n",
              "      <th>2</th>\n",
              "      <td>biograd-A</td>\n",
              "      <td>/biograd-A/true_positives/raw/biograd-A_00002_...</td>\n",
              "      <td>num_delimiter</td>\n",
              "      <td>10</td>\n",
              "    </tr>\n",
              "    <tr>\n",
              "      <th>3</th>\n",
              "      <td>biograd-A</td>\n",
              "      <td>/biograd-A/true_positives/raw/biograd-A_00003_...</td>\n",
              "      <td>num_delimiter</td>\n",
              "      <td>10</td>\n",
              "    </tr>\n",
              "    <tr>\n",
              "      <th>4</th>\n",
              "      <td>biograd-A</td>\n",
              "      <td>/biograd-A/true_positives/raw/biograd-A_00004_...</td>\n",
              "      <td>num_delimiter</td>\n",
              "      <td>10</td>\n",
              "    </tr>\n",
              "    <tr>\n",
              "      <th>...</th>\n",
              "      <td>...</td>\n",
              "      <td>...</td>\n",
              "      <td>...</td>\n",
              "      <td>...</td>\n",
              "    </tr>\n",
              "    <tr>\n",
              "      <th>18473</th>\n",
              "      <td>genova-A</td>\n",
              "      <td>/genova-A/true_positives/raw/genova-A_03315_ri...</td>\n",
              "      <td>end_comm</td>\n",
              "      <td>1</td>\n",
              "    </tr>\n",
              "    <tr>\n",
              "      <th>18474</th>\n",
              "      <td>genova-A</td>\n",
              "      <td>/genova-A/true_positives/raw/genova-A_03316_ri...</td>\n",
              "      <td>end_comm</td>\n",
              "      <td>1</td>\n",
              "    </tr>\n",
              "    <tr>\n",
              "      <th>18475</th>\n",
              "      <td>genova-A</td>\n",
              "      <td>/genova-A/true_positives/raw/genova-A_03317_ri...</td>\n",
              "      <td>end_comm</td>\n",
              "      <td>1</td>\n",
              "    </tr>\n",
              "    <tr>\n",
              "      <th>18476</th>\n",
              "      <td>genova-A</td>\n",
              "      <td>/genova-A/true_positives/raw/genova-A_03318_ri...</td>\n",
              "      <td>end_comm</td>\n",
              "      <td>1</td>\n",
              "    </tr>\n",
              "    <tr>\n",
              "      <th>18477</th>\n",
              "      <td>genova-A</td>\n",
              "      <td>/genova-A/true_positives/raw/genova-A_03319_ri...</td>\n",
              "      <td>end_comm</td>\n",
              "      <td>1</td>\n",
              "    </tr>\n",
              "  </tbody>\n",
              "</table>\n",
              "<p>18478 rows × 4 columns</p>\n",
              "</div>"
            ],
            "text/plain": [
              "        scenario  ... label id\n",
              "0      biograd-A  ...       10\n",
              "1      biograd-A  ...       10\n",
              "2      biograd-A  ...       10\n",
              "3      biograd-A  ...       10\n",
              "4      biograd-A  ...       10\n",
              "...          ...  ...      ...\n",
              "18473   genova-A  ...        1\n",
              "18474   genova-A  ...        1\n",
              "18475   genova-A  ...        1\n",
              "18476   genova-A  ...        1\n",
              "18477   genova-A  ...        1\n",
              "\n",
              "[18478 rows x 4 columns]"
            ]
          },
          "metadata": {
            "tags": []
          },
          "execution_count": 28
        }
      ]
    },
    {
      "cell_type": "code",
      "metadata": {
        "id": "FInzuH_Kl0_O"
      },
      "source": [
        "!pip install jovian --upgrade --quiet"
      ],
      "execution_count": 29,
      "outputs": []
    },
    {
      "cell_type": "code",
      "metadata": {
        "id": "IcwofBoUnJwz"
      },
      "source": [
        "import jovian"
      ],
      "execution_count": 30,
      "outputs": []
    },
    {
      "cell_type": "code",
      "metadata": {
        "colab": {
          "base_uri": "https://localhost:8080/",
          "height": 136
        },
        "id": "bSlxrjNCnNqx",
        "outputId": "9aa9090e-6a72-49c7-87f8-c1e149aaa750"
      },
      "source": [
        "jovian.commit(project=project_name)"
      ],
      "execution_count": 31,
      "outputs": [
        {
          "output_type": "stream",
          "text": [
            "[jovian] Detected Colab notebook...\u001b[0m\n",
            "[jovian] Please enter your API key ( from https://jovian.ai/ ):\u001b[0m\n",
            "API KEY: ··········\n",
            "[jovian] Uploading colab notebook to Jovian...\u001b[0m\n",
            "[jovian] Capturing environment..\u001b[0m\n",
            "[jovian] Committed successfully! https://jovian.ai/shubham912sahu/caddy-gestures-course-project\u001b[0m\n"
          ],
          "name": "stdout"
        },
        {
          "output_type": "execute_result",
          "data": {
            "application/vnd.google.colaboratory.intrinsic+json": {
              "type": "string"
            },
            "text/plain": [
              "'https://jovian.ai/shubham912sahu/caddy-gestures-course-project'"
            ]
          },
          "metadata": {
            "tags": []
          },
          "execution_count": 31
        }
      ]
    },
    {
      "cell_type": "code",
      "metadata": {
        "id": "XXTDgEJ7nOy8"
      },
      "source": [
        ""
      ],
      "execution_count": null,
      "outputs": []
    }
  ]
}